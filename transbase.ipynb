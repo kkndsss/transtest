{
  "nbformat": 4,
  "nbformat_minor": 0,
  "metadata": {
    "colab": {
      "provenance": [],
      "gpuType": "T4"
    },
    "kernelspec": {
      "name": "python3",
      "display_name": "Python 3"
    },
    "language_info": {
      "name": "python"
    },
    "accelerator": "GPU",
    "widgets": {
      "application/vnd.jupyter.widget-state+json": {
        "bad6b142500c4d46b854610a9039391c": {
          "model_module": "@jupyter-widgets/controls",
          "model_name": "HBoxModel",
          "model_module_version": "1.5.0",
          "state": {
            "_dom_classes": [],
            "_model_module": "@jupyter-widgets/controls",
            "_model_module_version": "1.5.0",
            "_model_name": "HBoxModel",
            "_view_count": null,
            "_view_module": "@jupyter-widgets/controls",
            "_view_module_version": "1.5.0",
            "_view_name": "HBoxView",
            "box_style": "",
            "children": [
              "IPY_MODEL_c5184c92c7584762953806356826a185",
              "IPY_MODEL_775c375da4d14c4b8f7119624d5993fd",
              "IPY_MODEL_b0862dcd45a44eef9e6bca3248da50fc"
            ],
            "layout": "IPY_MODEL_11c3fafce7d848728be7fdec494996e6"
          }
        },
        "c5184c92c7584762953806356826a185": {
          "model_module": "@jupyter-widgets/controls",
          "model_name": "HTMLModel",
          "model_module_version": "1.5.0",
          "state": {
            "_dom_classes": [],
            "_model_module": "@jupyter-widgets/controls",
            "_model_module_version": "1.5.0",
            "_model_name": "HTMLModel",
            "_view_count": null,
            "_view_module": "@jupyter-widgets/controls",
            "_view_module_version": "1.5.0",
            "_view_name": "HTMLView",
            "description": "",
            "description_tooltip": null,
            "layout": "IPY_MODEL_5a8ae616061e400db1086ee24f4ead4a",
            "placeholder": "​",
            "style": "IPY_MODEL_7de41b7857774b1d87dc5b8630bbdb7c",
            "value": "config.json: 100%"
          }
        },
        "775c375da4d14c4b8f7119624d5993fd": {
          "model_module": "@jupyter-widgets/controls",
          "model_name": "FloatProgressModel",
          "model_module_version": "1.5.0",
          "state": {
            "_dom_classes": [],
            "_model_module": "@jupyter-widgets/controls",
            "_model_module_version": "1.5.0",
            "_model_name": "FloatProgressModel",
            "_view_count": null,
            "_view_module": "@jupyter-widgets/controls",
            "_view_module_version": "1.5.0",
            "_view_name": "ProgressView",
            "bar_style": "success",
            "description": "",
            "description_tooltip": null,
            "layout": "IPY_MODEL_3424acdda80a4e4c8b92ce86ffd0d225",
            "max": 547,
            "min": 0,
            "orientation": "horizontal",
            "style": "IPY_MODEL_d9316ea648734ff9bbda56148f6537ee",
            "value": 547
          }
        },
        "b0862dcd45a44eef9e6bca3248da50fc": {
          "model_module": "@jupyter-widgets/controls",
          "model_name": "HTMLModel",
          "model_module_version": "1.5.0",
          "state": {
            "_dom_classes": [],
            "_model_module": "@jupyter-widgets/controls",
            "_model_module_version": "1.5.0",
            "_model_name": "HTMLModel",
            "_view_count": null,
            "_view_module": "@jupyter-widgets/controls",
            "_view_module_version": "1.5.0",
            "_view_name": "HTMLView",
            "description": "",
            "description_tooltip": null,
            "layout": "IPY_MODEL_e0ed2e0a372b4edcb7c753c8be68349c",
            "placeholder": "​",
            "style": "IPY_MODEL_28036f9082ec4e50bb9435c769f7a749",
            "value": " 547/547 [00:00&lt;00:00, 60.6kB/s]"
          }
        },
        "11c3fafce7d848728be7fdec494996e6": {
          "model_module": "@jupyter-widgets/base",
          "model_name": "LayoutModel",
          "model_module_version": "1.2.0",
          "state": {
            "_model_module": "@jupyter-widgets/base",
            "_model_module_version": "1.2.0",
            "_model_name": "LayoutModel",
            "_view_count": null,
            "_view_module": "@jupyter-widgets/base",
            "_view_module_version": "1.2.0",
            "_view_name": "LayoutView",
            "align_content": null,
            "align_items": null,
            "align_self": null,
            "border": null,
            "bottom": null,
            "display": null,
            "flex": null,
            "flex_flow": null,
            "grid_area": null,
            "grid_auto_columns": null,
            "grid_auto_flow": null,
            "grid_auto_rows": null,
            "grid_column": null,
            "grid_gap": null,
            "grid_row": null,
            "grid_template_areas": null,
            "grid_template_columns": null,
            "grid_template_rows": null,
            "height": null,
            "justify_content": null,
            "justify_items": null,
            "left": null,
            "margin": null,
            "max_height": null,
            "max_width": null,
            "min_height": null,
            "min_width": null,
            "object_fit": null,
            "object_position": null,
            "order": null,
            "overflow": null,
            "overflow_x": null,
            "overflow_y": null,
            "padding": null,
            "right": null,
            "top": null,
            "visibility": null,
            "width": null
          }
        },
        "5a8ae616061e400db1086ee24f4ead4a": {
          "model_module": "@jupyter-widgets/base",
          "model_name": "LayoutModel",
          "model_module_version": "1.2.0",
          "state": {
            "_model_module": "@jupyter-widgets/base",
            "_model_module_version": "1.2.0",
            "_model_name": "LayoutModel",
            "_view_count": null,
            "_view_module": "@jupyter-widgets/base",
            "_view_module_version": "1.2.0",
            "_view_name": "LayoutView",
            "align_content": null,
            "align_items": null,
            "align_self": null,
            "border": null,
            "bottom": null,
            "display": null,
            "flex": null,
            "flex_flow": null,
            "grid_area": null,
            "grid_auto_columns": null,
            "grid_auto_flow": null,
            "grid_auto_rows": null,
            "grid_column": null,
            "grid_gap": null,
            "grid_row": null,
            "grid_template_areas": null,
            "grid_template_columns": null,
            "grid_template_rows": null,
            "height": null,
            "justify_content": null,
            "justify_items": null,
            "left": null,
            "margin": null,
            "max_height": null,
            "max_width": null,
            "min_height": null,
            "min_width": null,
            "object_fit": null,
            "object_position": null,
            "order": null,
            "overflow": null,
            "overflow_x": null,
            "overflow_y": null,
            "padding": null,
            "right": null,
            "top": null,
            "visibility": null,
            "width": null
          }
        },
        "7de41b7857774b1d87dc5b8630bbdb7c": {
          "model_module": "@jupyter-widgets/controls",
          "model_name": "DescriptionStyleModel",
          "model_module_version": "1.5.0",
          "state": {
            "_model_module": "@jupyter-widgets/controls",
            "_model_module_version": "1.5.0",
            "_model_name": "DescriptionStyleModel",
            "_view_count": null,
            "_view_module": "@jupyter-widgets/base",
            "_view_module_version": "1.2.0",
            "_view_name": "StyleView",
            "description_width": ""
          }
        },
        "3424acdda80a4e4c8b92ce86ffd0d225": {
          "model_module": "@jupyter-widgets/base",
          "model_name": "LayoutModel",
          "model_module_version": "1.2.0",
          "state": {
            "_model_module": "@jupyter-widgets/base",
            "_model_module_version": "1.2.0",
            "_model_name": "LayoutModel",
            "_view_count": null,
            "_view_module": "@jupyter-widgets/base",
            "_view_module_version": "1.2.0",
            "_view_name": "LayoutView",
            "align_content": null,
            "align_items": null,
            "align_self": null,
            "border": null,
            "bottom": null,
            "display": null,
            "flex": null,
            "flex_flow": null,
            "grid_area": null,
            "grid_auto_columns": null,
            "grid_auto_flow": null,
            "grid_auto_rows": null,
            "grid_column": null,
            "grid_gap": null,
            "grid_row": null,
            "grid_template_areas": null,
            "grid_template_columns": null,
            "grid_template_rows": null,
            "height": null,
            "justify_content": null,
            "justify_items": null,
            "left": null,
            "margin": null,
            "max_height": null,
            "max_width": null,
            "min_height": null,
            "min_width": null,
            "object_fit": null,
            "object_position": null,
            "order": null,
            "overflow": null,
            "overflow_x": null,
            "overflow_y": null,
            "padding": null,
            "right": null,
            "top": null,
            "visibility": null,
            "width": null
          }
        },
        "d9316ea648734ff9bbda56148f6537ee": {
          "model_module": "@jupyter-widgets/controls",
          "model_name": "ProgressStyleModel",
          "model_module_version": "1.5.0",
          "state": {
            "_model_module": "@jupyter-widgets/controls",
            "_model_module_version": "1.5.0",
            "_model_name": "ProgressStyleModel",
            "_view_count": null,
            "_view_module": "@jupyter-widgets/base",
            "_view_module_version": "1.2.0",
            "_view_name": "StyleView",
            "bar_color": null,
            "description_width": ""
          }
        },
        "e0ed2e0a372b4edcb7c753c8be68349c": {
          "model_module": "@jupyter-widgets/base",
          "model_name": "LayoutModel",
          "model_module_version": "1.2.0",
          "state": {
            "_model_module": "@jupyter-widgets/base",
            "_model_module_version": "1.2.0",
            "_model_name": "LayoutModel",
            "_view_count": null,
            "_view_module": "@jupyter-widgets/base",
            "_view_module_version": "1.2.0",
            "_view_name": "LayoutView",
            "align_content": null,
            "align_items": null,
            "align_self": null,
            "border": null,
            "bottom": null,
            "display": null,
            "flex": null,
            "flex_flow": null,
            "grid_area": null,
            "grid_auto_columns": null,
            "grid_auto_flow": null,
            "grid_auto_rows": null,
            "grid_column": null,
            "grid_gap": null,
            "grid_row": null,
            "grid_template_areas": null,
            "grid_template_columns": null,
            "grid_template_rows": null,
            "height": null,
            "justify_content": null,
            "justify_items": null,
            "left": null,
            "margin": null,
            "max_height": null,
            "max_width": null,
            "min_height": null,
            "min_width": null,
            "object_fit": null,
            "object_position": null,
            "order": null,
            "overflow": null,
            "overflow_x": null,
            "overflow_y": null,
            "padding": null,
            "right": null,
            "top": null,
            "visibility": null,
            "width": null
          }
        },
        "28036f9082ec4e50bb9435c769f7a749": {
          "model_module": "@jupyter-widgets/controls",
          "model_name": "DescriptionStyleModel",
          "model_module_version": "1.5.0",
          "state": {
            "_model_module": "@jupyter-widgets/controls",
            "_model_module_version": "1.5.0",
            "_model_name": "DescriptionStyleModel",
            "_view_count": null,
            "_view_module": "@jupyter-widgets/base",
            "_view_module_version": "1.2.0",
            "_view_name": "StyleView",
            "description_width": ""
          }
        },
        "303c3aed6621463c8191f09b676db2c3": {
          "model_module": "@jupyter-widgets/controls",
          "model_name": "HBoxModel",
          "model_module_version": "1.5.0",
          "state": {
            "_dom_classes": [],
            "_model_module": "@jupyter-widgets/controls",
            "_model_module_version": "1.5.0",
            "_model_name": "HBoxModel",
            "_view_count": null,
            "_view_module": "@jupyter-widgets/controls",
            "_view_module_version": "1.5.0",
            "_view_name": "HBoxView",
            "box_style": "",
            "children": [
              "IPY_MODEL_fe4464ef7ba54f349f644964ac791faf",
              "IPY_MODEL_8bcf2705b65a4f689060f5fa9712ebfe",
              "IPY_MODEL_770163f594754b71abdc130882d93170"
            ],
            "layout": "IPY_MODEL_f09f705e339e4ac0a89a6bd25079ca34"
          }
        },
        "fe4464ef7ba54f349f644964ac791faf": {
          "model_module": "@jupyter-widgets/controls",
          "model_name": "HTMLModel",
          "model_module_version": "1.5.0",
          "state": {
            "_dom_classes": [],
            "_model_module": "@jupyter-widgets/controls",
            "_model_module_version": "1.5.0",
            "_model_name": "HTMLModel",
            "_view_count": null,
            "_view_module": "@jupyter-widgets/controls",
            "_view_module_version": "1.5.0",
            "_view_name": "HTMLView",
            "description": "",
            "description_tooltip": null,
            "layout": "IPY_MODEL_661337103110446483bf22c4c2c85868",
            "placeholder": "​",
            "style": "IPY_MODEL_49888fa9baed4d20a25bc3bd92c1a79f",
            "value": "model.safetensors: 100%"
          }
        },
        "8bcf2705b65a4f689060f5fa9712ebfe": {
          "model_module": "@jupyter-widgets/controls",
          "model_name": "FloatProgressModel",
          "model_module_version": "1.5.0",
          "state": {
            "_dom_classes": [],
            "_model_module": "@jupyter-widgets/controls",
            "_model_module_version": "1.5.0",
            "_model_name": "FloatProgressModel",
            "_view_count": null,
            "_view_module": "@jupyter-widgets/controls",
            "_view_module_version": "1.5.0",
            "_view_name": "ProgressView",
            "bar_style": "success",
            "description": "",
            "description_tooltip": null,
            "layout": "IPY_MODEL_e22e67fb41cf4b3594028d9b46ac5973",
            "max": 1346814194,
            "min": 0,
            "orientation": "horizontal",
            "style": "IPY_MODEL_24b4d10810b442888e68bf255eed289e",
            "value": 1346814194
          }
        },
        "770163f594754b71abdc130882d93170": {
          "model_module": "@jupyter-widgets/controls",
          "model_name": "HTMLModel",
          "model_module_version": "1.5.0",
          "state": {
            "_dom_classes": [],
            "_model_module": "@jupyter-widgets/controls",
            "_model_module_version": "1.5.0",
            "_model_name": "HTMLModel",
            "_view_count": null,
            "_view_module": "@jupyter-widgets/controls",
            "_view_module_version": "1.5.0",
            "_view_name": "HTMLView",
            "description": "",
            "description_tooltip": null,
            "layout": "IPY_MODEL_bc5b16bc10834eaa90e6a982624ede17",
            "placeholder": "​",
            "style": "IPY_MODEL_d92a4c9acc46497181fd14b5c3ac963e",
            "value": " 1.35G/1.35G [00:37&lt;00:00, 33.0MB/s]"
          }
        },
        "f09f705e339e4ac0a89a6bd25079ca34": {
          "model_module": "@jupyter-widgets/base",
          "model_name": "LayoutModel",
          "model_module_version": "1.2.0",
          "state": {
            "_model_module": "@jupyter-widgets/base",
            "_model_module_version": "1.2.0",
            "_model_name": "LayoutModel",
            "_view_count": null,
            "_view_module": "@jupyter-widgets/base",
            "_view_module_version": "1.2.0",
            "_view_name": "LayoutView",
            "align_content": null,
            "align_items": null,
            "align_self": null,
            "border": null,
            "bottom": null,
            "display": null,
            "flex": null,
            "flex_flow": null,
            "grid_area": null,
            "grid_auto_columns": null,
            "grid_auto_flow": null,
            "grid_auto_rows": null,
            "grid_column": null,
            "grid_gap": null,
            "grid_row": null,
            "grid_template_areas": null,
            "grid_template_columns": null,
            "grid_template_rows": null,
            "height": null,
            "justify_content": null,
            "justify_items": null,
            "left": null,
            "margin": null,
            "max_height": null,
            "max_width": null,
            "min_height": null,
            "min_width": null,
            "object_fit": null,
            "object_position": null,
            "order": null,
            "overflow": null,
            "overflow_x": null,
            "overflow_y": null,
            "padding": null,
            "right": null,
            "top": null,
            "visibility": null,
            "width": null
          }
        },
        "661337103110446483bf22c4c2c85868": {
          "model_module": "@jupyter-widgets/base",
          "model_name": "LayoutModel",
          "model_module_version": "1.2.0",
          "state": {
            "_model_module": "@jupyter-widgets/base",
            "_model_module_version": "1.2.0",
            "_model_name": "LayoutModel",
            "_view_count": null,
            "_view_module": "@jupyter-widgets/base",
            "_view_module_version": "1.2.0",
            "_view_name": "LayoutView",
            "align_content": null,
            "align_items": null,
            "align_self": null,
            "border": null,
            "bottom": null,
            "display": null,
            "flex": null,
            "flex_flow": null,
            "grid_area": null,
            "grid_auto_columns": null,
            "grid_auto_flow": null,
            "grid_auto_rows": null,
            "grid_column": null,
            "grid_gap": null,
            "grid_row": null,
            "grid_template_areas": null,
            "grid_template_columns": null,
            "grid_template_rows": null,
            "height": null,
            "justify_content": null,
            "justify_items": null,
            "left": null,
            "margin": null,
            "max_height": null,
            "max_width": null,
            "min_height": null,
            "min_width": null,
            "object_fit": null,
            "object_position": null,
            "order": null,
            "overflow": null,
            "overflow_x": null,
            "overflow_y": null,
            "padding": null,
            "right": null,
            "top": null,
            "visibility": null,
            "width": null
          }
        },
        "49888fa9baed4d20a25bc3bd92c1a79f": {
          "model_module": "@jupyter-widgets/controls",
          "model_name": "DescriptionStyleModel",
          "model_module_version": "1.5.0",
          "state": {
            "_model_module": "@jupyter-widgets/controls",
            "_model_module_version": "1.5.0",
            "_model_name": "DescriptionStyleModel",
            "_view_count": null,
            "_view_module": "@jupyter-widgets/base",
            "_view_module_version": "1.2.0",
            "_view_name": "StyleView",
            "description_width": ""
          }
        },
        "e22e67fb41cf4b3594028d9b46ac5973": {
          "model_module": "@jupyter-widgets/base",
          "model_name": "LayoutModel",
          "model_module_version": "1.2.0",
          "state": {
            "_model_module": "@jupyter-widgets/base",
            "_model_module_version": "1.2.0",
            "_model_name": "LayoutModel",
            "_view_count": null,
            "_view_module": "@jupyter-widgets/base",
            "_view_module_version": "1.2.0",
            "_view_name": "LayoutView",
            "align_content": null,
            "align_items": null,
            "align_self": null,
            "border": null,
            "bottom": null,
            "display": null,
            "flex": null,
            "flex_flow": null,
            "grid_area": null,
            "grid_auto_columns": null,
            "grid_auto_flow": null,
            "grid_auto_rows": null,
            "grid_column": null,
            "grid_gap": null,
            "grid_row": null,
            "grid_template_areas": null,
            "grid_template_columns": null,
            "grid_template_rows": null,
            "height": null,
            "justify_content": null,
            "justify_items": null,
            "left": null,
            "margin": null,
            "max_height": null,
            "max_width": null,
            "min_height": null,
            "min_width": null,
            "object_fit": null,
            "object_position": null,
            "order": null,
            "overflow": null,
            "overflow_x": null,
            "overflow_y": null,
            "padding": null,
            "right": null,
            "top": null,
            "visibility": null,
            "width": null
          }
        },
        "24b4d10810b442888e68bf255eed289e": {
          "model_module": "@jupyter-widgets/controls",
          "model_name": "ProgressStyleModel",
          "model_module_version": "1.5.0",
          "state": {
            "_model_module": "@jupyter-widgets/controls",
            "_model_module_version": "1.5.0",
            "_model_name": "ProgressStyleModel",
            "_view_count": null,
            "_view_module": "@jupyter-widgets/base",
            "_view_module_version": "1.2.0",
            "_view_name": "StyleView",
            "bar_color": null,
            "description_width": ""
          }
        },
        "bc5b16bc10834eaa90e6a982624ede17": {
          "model_module": "@jupyter-widgets/base",
          "model_name": "LayoutModel",
          "model_module_version": "1.2.0",
          "state": {
            "_model_module": "@jupyter-widgets/base",
            "_model_module_version": "1.2.0",
            "_model_name": "LayoutModel",
            "_view_count": null,
            "_view_module": "@jupyter-widgets/base",
            "_view_module_version": "1.2.0",
            "_view_name": "LayoutView",
            "align_content": null,
            "align_items": null,
            "align_self": null,
            "border": null,
            "bottom": null,
            "display": null,
            "flex": null,
            "flex_flow": null,
            "grid_area": null,
            "grid_auto_columns": null,
            "grid_auto_flow": null,
            "grid_auto_rows": null,
            "grid_column": null,
            "grid_gap": null,
            "grid_row": null,
            "grid_template_areas": null,
            "grid_template_columns": null,
            "grid_template_rows": null,
            "height": null,
            "justify_content": null,
            "justify_items": null,
            "left": null,
            "margin": null,
            "max_height": null,
            "max_width": null,
            "min_height": null,
            "min_width": null,
            "object_fit": null,
            "object_position": null,
            "order": null,
            "overflow": null,
            "overflow_x": null,
            "overflow_y": null,
            "padding": null,
            "right": null,
            "top": null,
            "visibility": null,
            "width": null
          }
        },
        "d92a4c9acc46497181fd14b5c3ac963e": {
          "model_module": "@jupyter-widgets/controls",
          "model_name": "DescriptionStyleModel",
          "model_module_version": "1.5.0",
          "state": {
            "_model_module": "@jupyter-widgets/controls",
            "_model_module_version": "1.5.0",
            "_model_name": "DescriptionStyleModel",
            "_view_count": null,
            "_view_module": "@jupyter-widgets/base",
            "_view_module_version": "1.2.0",
            "_view_name": "StyleView",
            "description_width": ""
          }
        },
        "3e1ead63fa1743c6b8e87f04ccd8e34a": {
          "model_module": "@jupyter-widgets/controls",
          "model_name": "HBoxModel",
          "model_module_version": "1.5.0",
          "state": {
            "_dom_classes": [],
            "_model_module": "@jupyter-widgets/controls",
            "_model_module_version": "1.5.0",
            "_model_name": "HBoxModel",
            "_view_count": null,
            "_view_module": "@jupyter-widgets/controls",
            "_view_module_version": "1.5.0",
            "_view_name": "HBoxView",
            "box_style": "",
            "children": [
              "IPY_MODEL_a33c120f440f4418a580ff6a141f396a",
              "IPY_MODEL_18ec8440e19545019c0c41f4ff6f8de9",
              "IPY_MODEL_e62976a023ff4a148861016b740975e1"
            ],
            "layout": "IPY_MODEL_0944733b71de4f8784e7ab495a5d665e"
          }
        },
        "a33c120f440f4418a580ff6a141f396a": {
          "model_module": "@jupyter-widgets/controls",
          "model_name": "HTMLModel",
          "model_module_version": "1.5.0",
          "state": {
            "_dom_classes": [],
            "_model_module": "@jupyter-widgets/controls",
            "_model_module_version": "1.5.0",
            "_model_name": "HTMLModel",
            "_view_count": null,
            "_view_module": "@jupyter-widgets/controls",
            "_view_module_version": "1.5.0",
            "_view_name": "HTMLView",
            "description": "",
            "description_tooltip": null,
            "layout": "IPY_MODEL_9e56ab701a75473ca995d947b0d48b19",
            "placeholder": "​",
            "style": "IPY_MODEL_a586d4cec303423ab43903f496b695fd",
            "value": "tokenizer_config.json: 100%"
          }
        },
        "18ec8440e19545019c0c41f4ff6f8de9": {
          "model_module": "@jupyter-widgets/controls",
          "model_name": "FloatProgressModel",
          "model_module_version": "1.5.0",
          "state": {
            "_dom_classes": [],
            "_model_module": "@jupyter-widgets/controls",
            "_model_module_version": "1.5.0",
            "_model_name": "FloatProgressModel",
            "_view_count": null,
            "_view_module": "@jupyter-widgets/controls",
            "_view_module_version": "1.5.0",
            "_view_name": "ProgressView",
            "bar_style": "success",
            "description": "",
            "description_tooltip": null,
            "layout": "IPY_MODEL_46a4aaa9979645e883029282f1e20b13",
            "max": 375,
            "min": 0,
            "orientation": "horizontal",
            "style": "IPY_MODEL_81ae800ed78946718585607df1c9d788",
            "value": 375
          }
        },
        "e62976a023ff4a148861016b740975e1": {
          "model_module": "@jupyter-widgets/controls",
          "model_name": "HTMLModel",
          "model_module_version": "1.5.0",
          "state": {
            "_dom_classes": [],
            "_model_module": "@jupyter-widgets/controls",
            "_model_module_version": "1.5.0",
            "_model_name": "HTMLModel",
            "_view_count": null,
            "_view_module": "@jupyter-widgets/controls",
            "_view_module_version": "1.5.0",
            "_view_name": "HTMLView",
            "description": "",
            "description_tooltip": null,
            "layout": "IPY_MODEL_bbea5f389464419eb48add0f15da7587",
            "placeholder": "​",
            "style": "IPY_MODEL_47b1fc6ff30d4ca7b6e030d4349952e2",
            "value": " 375/375 [00:00&lt;00:00, 41.1kB/s]"
          }
        },
        "0944733b71de4f8784e7ab495a5d665e": {
          "model_module": "@jupyter-widgets/base",
          "model_name": "LayoutModel",
          "model_module_version": "1.2.0",
          "state": {
            "_model_module": "@jupyter-widgets/base",
            "_model_module_version": "1.2.0",
            "_model_name": "LayoutModel",
            "_view_count": null,
            "_view_module": "@jupyter-widgets/base",
            "_view_module_version": "1.2.0",
            "_view_name": "LayoutView",
            "align_content": null,
            "align_items": null,
            "align_self": null,
            "border": null,
            "bottom": null,
            "display": null,
            "flex": null,
            "flex_flow": null,
            "grid_area": null,
            "grid_auto_columns": null,
            "grid_auto_flow": null,
            "grid_auto_rows": null,
            "grid_column": null,
            "grid_gap": null,
            "grid_row": null,
            "grid_template_areas": null,
            "grid_template_columns": null,
            "grid_template_rows": null,
            "height": null,
            "justify_content": null,
            "justify_items": null,
            "left": null,
            "margin": null,
            "max_height": null,
            "max_width": null,
            "min_height": null,
            "min_width": null,
            "object_fit": null,
            "object_position": null,
            "order": null,
            "overflow": null,
            "overflow_x": null,
            "overflow_y": null,
            "padding": null,
            "right": null,
            "top": null,
            "visibility": null,
            "width": null
          }
        },
        "9e56ab701a75473ca995d947b0d48b19": {
          "model_module": "@jupyter-widgets/base",
          "model_name": "LayoutModel",
          "model_module_version": "1.2.0",
          "state": {
            "_model_module": "@jupyter-widgets/base",
            "_model_module_version": "1.2.0",
            "_model_name": "LayoutModel",
            "_view_count": null,
            "_view_module": "@jupyter-widgets/base",
            "_view_module_version": "1.2.0",
            "_view_name": "LayoutView",
            "align_content": null,
            "align_items": null,
            "align_self": null,
            "border": null,
            "bottom": null,
            "display": null,
            "flex": null,
            "flex_flow": null,
            "grid_area": null,
            "grid_auto_columns": null,
            "grid_auto_flow": null,
            "grid_auto_rows": null,
            "grid_column": null,
            "grid_gap": null,
            "grid_row": null,
            "grid_template_areas": null,
            "grid_template_columns": null,
            "grid_template_rows": null,
            "height": null,
            "justify_content": null,
            "justify_items": null,
            "left": null,
            "margin": null,
            "max_height": null,
            "max_width": null,
            "min_height": null,
            "min_width": null,
            "object_fit": null,
            "object_position": null,
            "order": null,
            "overflow": null,
            "overflow_x": null,
            "overflow_y": null,
            "padding": null,
            "right": null,
            "top": null,
            "visibility": null,
            "width": null
          }
        },
        "a586d4cec303423ab43903f496b695fd": {
          "model_module": "@jupyter-widgets/controls",
          "model_name": "DescriptionStyleModel",
          "model_module_version": "1.5.0",
          "state": {
            "_model_module": "@jupyter-widgets/controls",
            "_model_module_version": "1.5.0",
            "_model_name": "DescriptionStyleModel",
            "_view_count": null,
            "_view_module": "@jupyter-widgets/base",
            "_view_module_version": "1.2.0",
            "_view_name": "StyleView",
            "description_width": ""
          }
        },
        "46a4aaa9979645e883029282f1e20b13": {
          "model_module": "@jupyter-widgets/base",
          "model_name": "LayoutModel",
          "model_module_version": "1.2.0",
          "state": {
            "_model_module": "@jupyter-widgets/base",
            "_model_module_version": "1.2.0",
            "_model_name": "LayoutModel",
            "_view_count": null,
            "_view_module": "@jupyter-widgets/base",
            "_view_module_version": "1.2.0",
            "_view_name": "LayoutView",
            "align_content": null,
            "align_items": null,
            "align_self": null,
            "border": null,
            "bottom": null,
            "display": null,
            "flex": null,
            "flex_flow": null,
            "grid_area": null,
            "grid_auto_columns": null,
            "grid_auto_flow": null,
            "grid_auto_rows": null,
            "grid_column": null,
            "grid_gap": null,
            "grid_row": null,
            "grid_template_areas": null,
            "grid_template_columns": null,
            "grid_template_rows": null,
            "height": null,
            "justify_content": null,
            "justify_items": null,
            "left": null,
            "margin": null,
            "max_height": null,
            "max_width": null,
            "min_height": null,
            "min_width": null,
            "object_fit": null,
            "object_position": null,
            "order": null,
            "overflow": null,
            "overflow_x": null,
            "overflow_y": null,
            "padding": null,
            "right": null,
            "top": null,
            "visibility": null,
            "width": null
          }
        },
        "81ae800ed78946718585607df1c9d788": {
          "model_module": "@jupyter-widgets/controls",
          "model_name": "ProgressStyleModel",
          "model_module_version": "1.5.0",
          "state": {
            "_model_module": "@jupyter-widgets/controls",
            "_model_module_version": "1.5.0",
            "_model_name": "ProgressStyleModel",
            "_view_count": null,
            "_view_module": "@jupyter-widgets/base",
            "_view_module_version": "1.2.0",
            "_view_name": "StyleView",
            "bar_color": null,
            "description_width": ""
          }
        },
        "bbea5f389464419eb48add0f15da7587": {
          "model_module": "@jupyter-widgets/base",
          "model_name": "LayoutModel",
          "model_module_version": "1.2.0",
          "state": {
            "_model_module": "@jupyter-widgets/base",
            "_model_module_version": "1.2.0",
            "_model_name": "LayoutModel",
            "_view_count": null,
            "_view_module": "@jupyter-widgets/base",
            "_view_module_version": "1.2.0",
            "_view_name": "LayoutView",
            "align_content": null,
            "align_items": null,
            "align_self": null,
            "border": null,
            "bottom": null,
            "display": null,
            "flex": null,
            "flex_flow": null,
            "grid_area": null,
            "grid_auto_columns": null,
            "grid_auto_flow": null,
            "grid_auto_rows": null,
            "grid_column": null,
            "grid_gap": null,
            "grid_row": null,
            "grid_template_areas": null,
            "grid_template_columns": null,
            "grid_template_rows": null,
            "height": null,
            "justify_content": null,
            "justify_items": null,
            "left": null,
            "margin": null,
            "max_height": null,
            "max_width": null,
            "min_height": null,
            "min_width": null,
            "object_fit": null,
            "object_position": null,
            "order": null,
            "overflow": null,
            "overflow_x": null,
            "overflow_y": null,
            "padding": null,
            "right": null,
            "top": null,
            "visibility": null,
            "width": null
          }
        },
        "47b1fc6ff30d4ca7b6e030d4349952e2": {
          "model_module": "@jupyter-widgets/controls",
          "model_name": "DescriptionStyleModel",
          "model_module_version": "1.5.0",
          "state": {
            "_model_module": "@jupyter-widgets/controls",
            "_model_module_version": "1.5.0",
            "_model_name": "DescriptionStyleModel",
            "_view_count": null,
            "_view_module": "@jupyter-widgets/base",
            "_view_module_version": "1.2.0",
            "_view_name": "StyleView",
            "description_width": ""
          }
        },
        "3786705f50d449119c0bdccfdd7fa88a": {
          "model_module": "@jupyter-widgets/controls",
          "model_name": "HBoxModel",
          "model_module_version": "1.5.0",
          "state": {
            "_dom_classes": [],
            "_model_module": "@jupyter-widgets/controls",
            "_model_module_version": "1.5.0",
            "_model_name": "HBoxModel",
            "_view_count": null,
            "_view_module": "@jupyter-widgets/controls",
            "_view_module_version": "1.5.0",
            "_view_name": "HBoxView",
            "box_style": "",
            "children": [
              "IPY_MODEL_c3e8d062a3e74e1087bd2084393dcf1b",
              "IPY_MODEL_6f0ae69d5d644b008da9557ddb7966d7",
              "IPY_MODEL_ce44636786104359bb1369006bbbf891"
            ],
            "layout": "IPY_MODEL_e061f122693041e78b97f6fec403638c"
          }
        },
        "c3e8d062a3e74e1087bd2084393dcf1b": {
          "model_module": "@jupyter-widgets/controls",
          "model_name": "HTMLModel",
          "model_module_version": "1.5.0",
          "state": {
            "_dom_classes": [],
            "_model_module": "@jupyter-widgets/controls",
            "_model_module_version": "1.5.0",
            "_model_name": "HTMLModel",
            "_view_count": null,
            "_view_module": "@jupyter-widgets/controls",
            "_view_module_version": "1.5.0",
            "_view_name": "HTMLView",
            "description": "",
            "description_tooltip": null,
            "layout": "IPY_MODEL_6c0372a269b44d8cbcef1c038b5e1996",
            "placeholder": "​",
            "style": "IPY_MODEL_1b18d4cdbfdb455ca1efa7205ffca104",
            "value": "vocab.txt: "
          }
        },
        "6f0ae69d5d644b008da9557ddb7966d7": {
          "model_module": "@jupyter-widgets/controls",
          "model_name": "FloatProgressModel",
          "model_module_version": "1.5.0",
          "state": {
            "_dom_classes": [],
            "_model_module": "@jupyter-widgets/controls",
            "_model_module_version": "1.5.0",
            "_model_name": "FloatProgressModel",
            "_view_count": null,
            "_view_module": "@jupyter-widgets/controls",
            "_view_module_version": "1.5.0",
            "_view_name": "ProgressView",
            "bar_style": "success",
            "description": "",
            "description_tooltip": null,
            "layout": "IPY_MODEL_a01bcada994a4eef8f905739bca562eb",
            "max": 1,
            "min": 0,
            "orientation": "horizontal",
            "style": "IPY_MODEL_7aed707832ca40c89f279e30c7ca9591",
            "value": 1
          }
        },
        "ce44636786104359bb1369006bbbf891": {
          "model_module": "@jupyter-widgets/controls",
          "model_name": "HTMLModel",
          "model_module_version": "1.5.0",
          "state": {
            "_dom_classes": [],
            "_model_module": "@jupyter-widgets/controls",
            "_model_module_version": "1.5.0",
            "_model_name": "HTMLModel",
            "_view_count": null,
            "_view_module": "@jupyter-widgets/controls",
            "_view_module_version": "1.5.0",
            "_view_name": "HTMLView",
            "description": "",
            "description_tooltip": null,
            "layout": "IPY_MODEL_b676627f4c7948eaaad4d6ddeedb7b81",
            "placeholder": "​",
            "style": "IPY_MODEL_bddc0fcf58454f99ae1aed69016f6bf0",
            "value": " 248k/? [00:00&lt;00:00, 10.6MB/s]"
          }
        },
        "e061f122693041e78b97f6fec403638c": {
          "model_module": "@jupyter-widgets/base",
          "model_name": "LayoutModel",
          "model_module_version": "1.2.0",
          "state": {
            "_model_module": "@jupyter-widgets/base",
            "_model_module_version": "1.2.0",
            "_model_name": "LayoutModel",
            "_view_count": null,
            "_view_module": "@jupyter-widgets/base",
            "_view_module_version": "1.2.0",
            "_view_name": "LayoutView",
            "align_content": null,
            "align_items": null,
            "align_self": null,
            "border": null,
            "bottom": null,
            "display": null,
            "flex": null,
            "flex_flow": null,
            "grid_area": null,
            "grid_auto_columns": null,
            "grid_auto_flow": null,
            "grid_auto_rows": null,
            "grid_column": null,
            "grid_gap": null,
            "grid_row": null,
            "grid_template_areas": null,
            "grid_template_columns": null,
            "grid_template_rows": null,
            "height": null,
            "justify_content": null,
            "justify_items": null,
            "left": null,
            "margin": null,
            "max_height": null,
            "max_width": null,
            "min_height": null,
            "min_width": null,
            "object_fit": null,
            "object_position": null,
            "order": null,
            "overflow": null,
            "overflow_x": null,
            "overflow_y": null,
            "padding": null,
            "right": null,
            "top": null,
            "visibility": null,
            "width": null
          }
        },
        "6c0372a269b44d8cbcef1c038b5e1996": {
          "model_module": "@jupyter-widgets/base",
          "model_name": "LayoutModel",
          "model_module_version": "1.2.0",
          "state": {
            "_model_module": "@jupyter-widgets/base",
            "_model_module_version": "1.2.0",
            "_model_name": "LayoutModel",
            "_view_count": null,
            "_view_module": "@jupyter-widgets/base",
            "_view_module_version": "1.2.0",
            "_view_name": "LayoutView",
            "align_content": null,
            "align_items": null,
            "align_self": null,
            "border": null,
            "bottom": null,
            "display": null,
            "flex": null,
            "flex_flow": null,
            "grid_area": null,
            "grid_auto_columns": null,
            "grid_auto_flow": null,
            "grid_auto_rows": null,
            "grid_column": null,
            "grid_gap": null,
            "grid_row": null,
            "grid_template_areas": null,
            "grid_template_columns": null,
            "grid_template_rows": null,
            "height": null,
            "justify_content": null,
            "justify_items": null,
            "left": null,
            "margin": null,
            "max_height": null,
            "max_width": null,
            "min_height": null,
            "min_width": null,
            "object_fit": null,
            "object_position": null,
            "order": null,
            "overflow": null,
            "overflow_x": null,
            "overflow_y": null,
            "padding": null,
            "right": null,
            "top": null,
            "visibility": null,
            "width": null
          }
        },
        "1b18d4cdbfdb455ca1efa7205ffca104": {
          "model_module": "@jupyter-widgets/controls",
          "model_name": "DescriptionStyleModel",
          "model_module_version": "1.5.0",
          "state": {
            "_model_module": "@jupyter-widgets/controls",
            "_model_module_version": "1.5.0",
            "_model_name": "DescriptionStyleModel",
            "_view_count": null,
            "_view_module": "@jupyter-widgets/base",
            "_view_module_version": "1.2.0",
            "_view_name": "StyleView",
            "description_width": ""
          }
        },
        "a01bcada994a4eef8f905739bca562eb": {
          "model_module": "@jupyter-widgets/base",
          "model_name": "LayoutModel",
          "model_module_version": "1.2.0",
          "state": {
            "_model_module": "@jupyter-widgets/base",
            "_model_module_version": "1.2.0",
            "_model_name": "LayoutModel",
            "_view_count": null,
            "_view_module": "@jupyter-widgets/base",
            "_view_module_version": "1.2.0",
            "_view_name": "LayoutView",
            "align_content": null,
            "align_items": null,
            "align_self": null,
            "border": null,
            "bottom": null,
            "display": null,
            "flex": null,
            "flex_flow": null,
            "grid_area": null,
            "grid_auto_columns": null,
            "grid_auto_flow": null,
            "grid_auto_rows": null,
            "grid_column": null,
            "grid_gap": null,
            "grid_row": null,
            "grid_template_areas": null,
            "grid_template_columns": null,
            "grid_template_rows": null,
            "height": null,
            "justify_content": null,
            "justify_items": null,
            "left": null,
            "margin": null,
            "max_height": null,
            "max_width": null,
            "min_height": null,
            "min_width": null,
            "object_fit": null,
            "object_position": null,
            "order": null,
            "overflow": null,
            "overflow_x": null,
            "overflow_y": null,
            "padding": null,
            "right": null,
            "top": null,
            "visibility": null,
            "width": "20px"
          }
        },
        "7aed707832ca40c89f279e30c7ca9591": {
          "model_module": "@jupyter-widgets/controls",
          "model_name": "ProgressStyleModel",
          "model_module_version": "1.5.0",
          "state": {
            "_model_module": "@jupyter-widgets/controls",
            "_model_module_version": "1.5.0",
            "_model_name": "ProgressStyleModel",
            "_view_count": null,
            "_view_module": "@jupyter-widgets/base",
            "_view_module_version": "1.2.0",
            "_view_name": "StyleView",
            "bar_color": null,
            "description_width": ""
          }
        },
        "b676627f4c7948eaaad4d6ddeedb7b81": {
          "model_module": "@jupyter-widgets/base",
          "model_name": "LayoutModel",
          "model_module_version": "1.2.0",
          "state": {
            "_model_module": "@jupyter-widgets/base",
            "_model_module_version": "1.2.0",
            "_model_name": "LayoutModel",
            "_view_count": null,
            "_view_module": "@jupyter-widgets/base",
            "_view_module_version": "1.2.0",
            "_view_name": "LayoutView",
            "align_content": null,
            "align_items": null,
            "align_self": null,
            "border": null,
            "bottom": null,
            "display": null,
            "flex": null,
            "flex_flow": null,
            "grid_area": null,
            "grid_auto_columns": null,
            "grid_auto_flow": null,
            "grid_auto_rows": null,
            "grid_column": null,
            "grid_gap": null,
            "grid_row": null,
            "grid_template_areas": null,
            "grid_template_columns": null,
            "grid_template_rows": null,
            "height": null,
            "justify_content": null,
            "justify_items": null,
            "left": null,
            "margin": null,
            "max_height": null,
            "max_width": null,
            "min_height": null,
            "min_width": null,
            "object_fit": null,
            "object_position": null,
            "order": null,
            "overflow": null,
            "overflow_x": null,
            "overflow_y": null,
            "padding": null,
            "right": null,
            "top": null,
            "visibility": null,
            "width": null
          }
        },
        "bddc0fcf58454f99ae1aed69016f6bf0": {
          "model_module": "@jupyter-widgets/controls",
          "model_name": "DescriptionStyleModel",
          "model_module_version": "1.5.0",
          "state": {
            "_model_module": "@jupyter-widgets/controls",
            "_model_module_version": "1.5.0",
            "_model_name": "DescriptionStyleModel",
            "_view_count": null,
            "_view_module": "@jupyter-widgets/base",
            "_view_module_version": "1.2.0",
            "_view_name": "StyleView",
            "description_width": ""
          }
        },
        "1884a785faa7443c8987ce0255082d78": {
          "model_module": "@jupyter-widgets/controls",
          "model_name": "HBoxModel",
          "model_module_version": "1.5.0",
          "state": {
            "_dom_classes": [],
            "_model_module": "@jupyter-widgets/controls",
            "_model_module_version": "1.5.0",
            "_model_name": "HBoxModel",
            "_view_count": null,
            "_view_module": "@jupyter-widgets/controls",
            "_view_module_version": "1.5.0",
            "_view_name": "HBoxView",
            "box_style": "",
            "children": [
              "IPY_MODEL_e335956df9ec480b82e6e915718f2559",
              "IPY_MODEL_55d9995156034feb817eba220ad387c4",
              "IPY_MODEL_dc64c9008b3d4ea9b9c289294684c28f"
            ],
            "layout": "IPY_MODEL_526dd2fc4e8c4f7e8a0131456e4cfed9"
          }
        },
        "e335956df9ec480b82e6e915718f2559": {
          "model_module": "@jupyter-widgets/controls",
          "model_name": "HTMLModel",
          "model_module_version": "1.5.0",
          "state": {
            "_dom_classes": [],
            "_model_module": "@jupyter-widgets/controls",
            "_model_module_version": "1.5.0",
            "_model_name": "HTMLModel",
            "_view_count": null,
            "_view_module": "@jupyter-widgets/controls",
            "_view_module_version": "1.5.0",
            "_view_name": "HTMLView",
            "description": "",
            "description_tooltip": null,
            "layout": "IPY_MODEL_d7939da0a0394db4a798afd8cce315cd",
            "placeholder": "​",
            "style": "IPY_MODEL_1e7adb3edafe4ca0bc23ea9f3194807f",
            "value": "tokenizer.json: "
          }
        },
        "55d9995156034feb817eba220ad387c4": {
          "model_module": "@jupyter-widgets/controls",
          "model_name": "FloatProgressModel",
          "model_module_version": "1.5.0",
          "state": {
            "_dom_classes": [],
            "_model_module": "@jupyter-widgets/controls",
            "_model_module_version": "1.5.0",
            "_model_name": "FloatProgressModel",
            "_view_count": null,
            "_view_module": "@jupyter-widgets/controls",
            "_view_module_version": "1.5.0",
            "_view_name": "ProgressView",
            "bar_style": "success",
            "description": "",
            "description_tooltip": null,
            "layout": "IPY_MODEL_f80e3688cd7046a09363b54e4fb6a1de",
            "max": 1,
            "min": 0,
            "orientation": "horizontal",
            "style": "IPY_MODEL_dfa3c7ffb20146f58b527beb8fddd40f",
            "value": 1
          }
        },
        "dc64c9008b3d4ea9b9c289294684c28f": {
          "model_module": "@jupyter-widgets/controls",
          "model_name": "HTMLModel",
          "model_module_version": "1.5.0",
          "state": {
            "_dom_classes": [],
            "_model_module": "@jupyter-widgets/controls",
            "_model_module_version": "1.5.0",
            "_model_name": "HTMLModel",
            "_view_count": null,
            "_view_module": "@jupyter-widgets/controls",
            "_view_module_version": "1.5.0",
            "_view_name": "HTMLView",
            "description": "",
            "description_tooltip": null,
            "layout": "IPY_MODEL_0d6d4af966a14b3dbae19b95bed15e5a",
            "placeholder": "​",
            "style": "IPY_MODEL_c581df093f6249ae9f2a7b5888fce0fd",
            "value": " 752k/? [00:00&lt;00:00, 39.8MB/s]"
          }
        },
        "526dd2fc4e8c4f7e8a0131456e4cfed9": {
          "model_module": "@jupyter-widgets/base",
          "model_name": "LayoutModel",
          "model_module_version": "1.2.0",
          "state": {
            "_model_module": "@jupyter-widgets/base",
            "_model_module_version": "1.2.0",
            "_model_name": "LayoutModel",
            "_view_count": null,
            "_view_module": "@jupyter-widgets/base",
            "_view_module_version": "1.2.0",
            "_view_name": "LayoutView",
            "align_content": null,
            "align_items": null,
            "align_self": null,
            "border": null,
            "bottom": null,
            "display": null,
            "flex": null,
            "flex_flow": null,
            "grid_area": null,
            "grid_auto_columns": null,
            "grid_auto_flow": null,
            "grid_auto_rows": null,
            "grid_column": null,
            "grid_gap": null,
            "grid_row": null,
            "grid_template_areas": null,
            "grid_template_columns": null,
            "grid_template_rows": null,
            "height": null,
            "justify_content": null,
            "justify_items": null,
            "left": null,
            "margin": null,
            "max_height": null,
            "max_width": null,
            "min_height": null,
            "min_width": null,
            "object_fit": null,
            "object_position": null,
            "order": null,
            "overflow": null,
            "overflow_x": null,
            "overflow_y": null,
            "padding": null,
            "right": null,
            "top": null,
            "visibility": null,
            "width": null
          }
        },
        "d7939da0a0394db4a798afd8cce315cd": {
          "model_module": "@jupyter-widgets/base",
          "model_name": "LayoutModel",
          "model_module_version": "1.2.0",
          "state": {
            "_model_module": "@jupyter-widgets/base",
            "_model_module_version": "1.2.0",
            "_model_name": "LayoutModel",
            "_view_count": null,
            "_view_module": "@jupyter-widgets/base",
            "_view_module_version": "1.2.0",
            "_view_name": "LayoutView",
            "align_content": null,
            "align_items": null,
            "align_self": null,
            "border": null,
            "bottom": null,
            "display": null,
            "flex": null,
            "flex_flow": null,
            "grid_area": null,
            "grid_auto_columns": null,
            "grid_auto_flow": null,
            "grid_auto_rows": null,
            "grid_column": null,
            "grid_gap": null,
            "grid_row": null,
            "grid_template_areas": null,
            "grid_template_columns": null,
            "grid_template_rows": null,
            "height": null,
            "justify_content": null,
            "justify_items": null,
            "left": null,
            "margin": null,
            "max_height": null,
            "max_width": null,
            "min_height": null,
            "min_width": null,
            "object_fit": null,
            "object_position": null,
            "order": null,
            "overflow": null,
            "overflow_x": null,
            "overflow_y": null,
            "padding": null,
            "right": null,
            "top": null,
            "visibility": null,
            "width": null
          }
        },
        "1e7adb3edafe4ca0bc23ea9f3194807f": {
          "model_module": "@jupyter-widgets/controls",
          "model_name": "DescriptionStyleModel",
          "model_module_version": "1.5.0",
          "state": {
            "_model_module": "@jupyter-widgets/controls",
            "_model_module_version": "1.5.0",
            "_model_name": "DescriptionStyleModel",
            "_view_count": null,
            "_view_module": "@jupyter-widgets/base",
            "_view_module_version": "1.2.0",
            "_view_name": "StyleView",
            "description_width": ""
          }
        },
        "f80e3688cd7046a09363b54e4fb6a1de": {
          "model_module": "@jupyter-widgets/base",
          "model_name": "LayoutModel",
          "model_module_version": "1.2.0",
          "state": {
            "_model_module": "@jupyter-widgets/base",
            "_model_module_version": "1.2.0",
            "_model_name": "LayoutModel",
            "_view_count": null,
            "_view_module": "@jupyter-widgets/base",
            "_view_module_version": "1.2.0",
            "_view_name": "LayoutView",
            "align_content": null,
            "align_items": null,
            "align_self": null,
            "border": null,
            "bottom": null,
            "display": null,
            "flex": null,
            "flex_flow": null,
            "grid_area": null,
            "grid_auto_columns": null,
            "grid_auto_flow": null,
            "grid_auto_rows": null,
            "grid_column": null,
            "grid_gap": null,
            "grid_row": null,
            "grid_template_areas": null,
            "grid_template_columns": null,
            "grid_template_rows": null,
            "height": null,
            "justify_content": null,
            "justify_items": null,
            "left": null,
            "margin": null,
            "max_height": null,
            "max_width": null,
            "min_height": null,
            "min_width": null,
            "object_fit": null,
            "object_position": null,
            "order": null,
            "overflow": null,
            "overflow_x": null,
            "overflow_y": null,
            "padding": null,
            "right": null,
            "top": null,
            "visibility": null,
            "width": "20px"
          }
        },
        "dfa3c7ffb20146f58b527beb8fddd40f": {
          "model_module": "@jupyter-widgets/controls",
          "model_name": "ProgressStyleModel",
          "model_module_version": "1.5.0",
          "state": {
            "_model_module": "@jupyter-widgets/controls",
            "_model_module_version": "1.5.0",
            "_model_name": "ProgressStyleModel",
            "_view_count": null,
            "_view_module": "@jupyter-widgets/base",
            "_view_module_version": "1.2.0",
            "_view_name": "StyleView",
            "bar_color": null,
            "description_width": ""
          }
        },
        "0d6d4af966a14b3dbae19b95bed15e5a": {
          "model_module": "@jupyter-widgets/base",
          "model_name": "LayoutModel",
          "model_module_version": "1.2.0",
          "state": {
            "_model_module": "@jupyter-widgets/base",
            "_model_module_version": "1.2.0",
            "_model_name": "LayoutModel",
            "_view_count": null,
            "_view_module": "@jupyter-widgets/base",
            "_view_module_version": "1.2.0",
            "_view_name": "LayoutView",
            "align_content": null,
            "align_items": null,
            "align_self": null,
            "border": null,
            "bottom": null,
            "display": null,
            "flex": null,
            "flex_flow": null,
            "grid_area": null,
            "grid_auto_columns": null,
            "grid_auto_flow": null,
            "grid_auto_rows": null,
            "grid_column": null,
            "grid_gap": null,
            "grid_row": null,
            "grid_template_areas": null,
            "grid_template_columns": null,
            "grid_template_rows": null,
            "height": null,
            "justify_content": null,
            "justify_items": null,
            "left": null,
            "margin": null,
            "max_height": null,
            "max_width": null,
            "min_height": null,
            "min_width": null,
            "object_fit": null,
            "object_position": null,
            "order": null,
            "overflow": null,
            "overflow_x": null,
            "overflow_y": null,
            "padding": null,
            "right": null,
            "top": null,
            "visibility": null,
            "width": null
          }
        },
        "c581df093f6249ae9f2a7b5888fce0fd": {
          "model_module": "@jupyter-widgets/controls",
          "model_name": "DescriptionStyleModel",
          "model_module_version": "1.5.0",
          "state": {
            "_model_module": "@jupyter-widgets/controls",
            "_model_module_version": "1.5.0",
            "_model_name": "DescriptionStyleModel",
            "_view_count": null,
            "_view_module": "@jupyter-widgets/base",
            "_view_module_version": "1.2.0",
            "_view_name": "StyleView",
            "description_width": ""
          }
        },
        "e1a164e005f1468fad5bd09dbbc7ea4e": {
          "model_module": "@jupyter-widgets/controls",
          "model_name": "HBoxModel",
          "model_module_version": "1.5.0",
          "state": {
            "_dom_classes": [],
            "_model_module": "@jupyter-widgets/controls",
            "_model_module_version": "1.5.0",
            "_model_name": "HBoxModel",
            "_view_count": null,
            "_view_module": "@jupyter-widgets/controls",
            "_view_module_version": "1.5.0",
            "_view_name": "HBoxView",
            "box_style": "",
            "children": [
              "IPY_MODEL_f1785d0d855d4b998e069441f1bab940",
              "IPY_MODEL_2f4dea3a79b54442b4fc330ff3351624",
              "IPY_MODEL_441179c6100d436f881adda22acf64f5"
            ],
            "layout": "IPY_MODEL_380265276d004d7cb65490864306c2dc"
          }
        },
        "f1785d0d855d4b998e069441f1bab940": {
          "model_module": "@jupyter-widgets/controls",
          "model_name": "HTMLModel",
          "model_module_version": "1.5.0",
          "state": {
            "_dom_classes": [],
            "_model_module": "@jupyter-widgets/controls",
            "_model_module_version": "1.5.0",
            "_model_name": "HTMLModel",
            "_view_count": null,
            "_view_module": "@jupyter-widgets/controls",
            "_view_module_version": "1.5.0",
            "_view_name": "HTMLView",
            "description": "",
            "description_tooltip": null,
            "layout": "IPY_MODEL_c8654a92d8b14a9abe124a225a129e27",
            "placeholder": "​",
            "style": "IPY_MODEL_d177fc0c061d407dabb061c3dc06440c",
            "value": "special_tokens_map.json: 100%"
          }
        },
        "2f4dea3a79b54442b4fc330ff3351624": {
          "model_module": "@jupyter-widgets/controls",
          "model_name": "FloatProgressModel",
          "model_module_version": "1.5.0",
          "state": {
            "_dom_classes": [],
            "_model_module": "@jupyter-widgets/controls",
            "_model_module_version": "1.5.0",
            "_model_name": "FloatProgressModel",
            "_view_count": null,
            "_view_module": "@jupyter-widgets/controls",
            "_view_module_version": "1.5.0",
            "_view_name": "ProgressView",
            "bar_style": "success",
            "description": "",
            "description_tooltip": null,
            "layout": "IPY_MODEL_b4bcc09d45ca40ec9d912edc3f1598f7",
            "max": 173,
            "min": 0,
            "orientation": "horizontal",
            "style": "IPY_MODEL_1ece70c24c5f44f0b65e3c19016fda1e",
            "value": 173
          }
        },
        "441179c6100d436f881adda22acf64f5": {
          "model_module": "@jupyter-widgets/controls",
          "model_name": "HTMLModel",
          "model_module_version": "1.5.0",
          "state": {
            "_dom_classes": [],
            "_model_module": "@jupyter-widgets/controls",
            "_model_module_version": "1.5.0",
            "_model_name": "HTMLModel",
            "_view_count": null,
            "_view_module": "@jupyter-widgets/controls",
            "_view_module_version": "1.5.0",
            "_view_name": "HTMLView",
            "description": "",
            "description_tooltip": null,
            "layout": "IPY_MODEL_39ced9fc0430487190009b1269760b11",
            "placeholder": "​",
            "style": "IPY_MODEL_718d45a0f48c4c4ab5a1c4df60725985",
            "value": " 173/173 [00:00&lt;00:00, 21.0kB/s]"
          }
        },
        "380265276d004d7cb65490864306c2dc": {
          "model_module": "@jupyter-widgets/base",
          "model_name": "LayoutModel",
          "model_module_version": "1.2.0",
          "state": {
            "_model_module": "@jupyter-widgets/base",
            "_model_module_version": "1.2.0",
            "_model_name": "LayoutModel",
            "_view_count": null,
            "_view_module": "@jupyter-widgets/base",
            "_view_module_version": "1.2.0",
            "_view_name": "LayoutView",
            "align_content": null,
            "align_items": null,
            "align_self": null,
            "border": null,
            "bottom": null,
            "display": null,
            "flex": null,
            "flex_flow": null,
            "grid_area": null,
            "grid_auto_columns": null,
            "grid_auto_flow": null,
            "grid_auto_rows": null,
            "grid_column": null,
            "grid_gap": null,
            "grid_row": null,
            "grid_template_areas": null,
            "grid_template_columns": null,
            "grid_template_rows": null,
            "height": null,
            "justify_content": null,
            "justify_items": null,
            "left": null,
            "margin": null,
            "max_height": null,
            "max_width": null,
            "min_height": null,
            "min_width": null,
            "object_fit": null,
            "object_position": null,
            "order": null,
            "overflow": null,
            "overflow_x": null,
            "overflow_y": null,
            "padding": null,
            "right": null,
            "top": null,
            "visibility": null,
            "width": null
          }
        },
        "c8654a92d8b14a9abe124a225a129e27": {
          "model_module": "@jupyter-widgets/base",
          "model_name": "LayoutModel",
          "model_module_version": "1.2.0",
          "state": {
            "_model_module": "@jupyter-widgets/base",
            "_model_module_version": "1.2.0",
            "_model_name": "LayoutModel",
            "_view_count": null,
            "_view_module": "@jupyter-widgets/base",
            "_view_module_version": "1.2.0",
            "_view_name": "LayoutView",
            "align_content": null,
            "align_items": null,
            "align_self": null,
            "border": null,
            "bottom": null,
            "display": null,
            "flex": null,
            "flex_flow": null,
            "grid_area": null,
            "grid_auto_columns": null,
            "grid_auto_flow": null,
            "grid_auto_rows": null,
            "grid_column": null,
            "grid_gap": null,
            "grid_row": null,
            "grid_template_areas": null,
            "grid_template_columns": null,
            "grid_template_rows": null,
            "height": null,
            "justify_content": null,
            "justify_items": null,
            "left": null,
            "margin": null,
            "max_height": null,
            "max_width": null,
            "min_height": null,
            "min_width": null,
            "object_fit": null,
            "object_position": null,
            "order": null,
            "overflow": null,
            "overflow_x": null,
            "overflow_y": null,
            "padding": null,
            "right": null,
            "top": null,
            "visibility": null,
            "width": null
          }
        },
        "d177fc0c061d407dabb061c3dc06440c": {
          "model_module": "@jupyter-widgets/controls",
          "model_name": "DescriptionStyleModel",
          "model_module_version": "1.5.0",
          "state": {
            "_model_module": "@jupyter-widgets/controls",
            "_model_module_version": "1.5.0",
            "_model_name": "DescriptionStyleModel",
            "_view_count": null,
            "_view_module": "@jupyter-widgets/base",
            "_view_module_version": "1.2.0",
            "_view_name": "StyleView",
            "description_width": ""
          }
        },
        "b4bcc09d45ca40ec9d912edc3f1598f7": {
          "model_module": "@jupyter-widgets/base",
          "model_name": "LayoutModel",
          "model_module_version": "1.2.0",
          "state": {
            "_model_module": "@jupyter-widgets/base",
            "_model_module_version": "1.2.0",
            "_model_name": "LayoutModel",
            "_view_count": null,
            "_view_module": "@jupyter-widgets/base",
            "_view_module_version": "1.2.0",
            "_view_name": "LayoutView",
            "align_content": null,
            "align_items": null,
            "align_self": null,
            "border": null,
            "bottom": null,
            "display": null,
            "flex": null,
            "flex_flow": null,
            "grid_area": null,
            "grid_auto_columns": null,
            "grid_auto_flow": null,
            "grid_auto_rows": null,
            "grid_column": null,
            "grid_gap": null,
            "grid_row": null,
            "grid_template_areas": null,
            "grid_template_columns": null,
            "grid_template_rows": null,
            "height": null,
            "justify_content": null,
            "justify_items": null,
            "left": null,
            "margin": null,
            "max_height": null,
            "max_width": null,
            "min_height": null,
            "min_width": null,
            "object_fit": null,
            "object_position": null,
            "order": null,
            "overflow": null,
            "overflow_x": null,
            "overflow_y": null,
            "padding": null,
            "right": null,
            "top": null,
            "visibility": null,
            "width": null
          }
        },
        "1ece70c24c5f44f0b65e3c19016fda1e": {
          "model_module": "@jupyter-widgets/controls",
          "model_name": "ProgressStyleModel",
          "model_module_version": "1.5.0",
          "state": {
            "_model_module": "@jupyter-widgets/controls",
            "_model_module_version": "1.5.0",
            "_model_name": "ProgressStyleModel",
            "_view_count": null,
            "_view_module": "@jupyter-widgets/base",
            "_view_module_version": "1.2.0",
            "_view_name": "StyleView",
            "bar_color": null,
            "description_width": ""
          }
        },
        "39ced9fc0430487190009b1269760b11": {
          "model_module": "@jupyter-widgets/base",
          "model_name": "LayoutModel",
          "model_module_version": "1.2.0",
          "state": {
            "_model_module": "@jupyter-widgets/base",
            "_model_module_version": "1.2.0",
            "_model_name": "LayoutModel",
            "_view_count": null,
            "_view_module": "@jupyter-widgets/base",
            "_view_module_version": "1.2.0",
            "_view_name": "LayoutView",
            "align_content": null,
            "align_items": null,
            "align_self": null,
            "border": null,
            "bottom": null,
            "display": null,
            "flex": null,
            "flex_flow": null,
            "grid_area": null,
            "grid_auto_columns": null,
            "grid_auto_flow": null,
            "grid_auto_rows": null,
            "grid_column": null,
            "grid_gap": null,
            "grid_row": null,
            "grid_template_areas": null,
            "grid_template_columns": null,
            "grid_template_rows": null,
            "height": null,
            "justify_content": null,
            "justify_items": null,
            "left": null,
            "margin": null,
            "max_height": null,
            "max_width": null,
            "min_height": null,
            "min_width": null,
            "object_fit": null,
            "object_position": null,
            "order": null,
            "overflow": null,
            "overflow_x": null,
            "overflow_y": null,
            "padding": null,
            "right": null,
            "top": null,
            "visibility": null,
            "width": null
          }
        },
        "718d45a0f48c4c4ab5a1c4df60725985": {
          "model_module": "@jupyter-widgets/controls",
          "model_name": "DescriptionStyleModel",
          "model_module_version": "1.5.0",
          "state": {
            "_model_module": "@jupyter-widgets/controls",
            "_model_module_version": "1.5.0",
            "_model_name": "DescriptionStyleModel",
            "_view_count": null,
            "_view_module": "@jupyter-widgets/base",
            "_view_module_version": "1.2.0",
            "_view_name": "StyleView",
            "description_width": ""
          }
        }
      }
    }
  },
  "cells": [
    {
      "cell_type": "markdown",
      "source": [
        "# 허깅페이스 트랜스포머즈 활용한 자연어처리\n"
      ],
      "metadata": {
        "id": "PuNVKN_vcQ_p"
      }
    },
    {
      "cell_type": "markdown",
      "source": [
        "\n",
        "\n",
        "---\n",
        "\n"
      ],
      "metadata": {
        "id": "Bn-D7hRPlqJM"
      }
    },
    {
      "cell_type": "markdown",
      "source": [
        "##  🎣 낚시성기사분류기 만들기\n",
        "> 기사의 제목과 본문을 입력으로 줬을때, `제목과 본문사이 관계가 아래 6가지에 포함된다면 낚시성기사로 판단 `"
      ],
      "metadata": {
        "id": "cY3pOJvkFA2u"
      }
    },
    {
      "cell_type": "markdown",
      "source": [
        "<center>\n",
        "\n",
        "![스크린샷 2023-10-03 11.59.54.png](data:image/png;base64,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)\n",
        "\n",
        "</center>"
      ],
      "metadata": {
        "id": "g_fn3rzceaPl"
      }
    },
    {
      "cell_type": "markdown",
      "source": [
        "#### 실습 목차\n",
        "\n",
        "1. Dataset & Tokenizing\n",
        "  * 1-1. news_dataset class 정의\n",
        "  * 1-2. load_Data, construct_tokenized_dataset 함수 정의\n",
        "  * 1-3. prepare_dataset 함수 정의\n",
        "2. Model & Trainer\n",
        "  * 2-1. compute_metrics 함수 정의\n",
        "  * 2-2. load_tokenizer_and_model_for_train 함수 정의\n",
        "  * 2-3. load_trainer_for_train 함수 정의\n",
        "  * 2-4. train 함수 정의\n",
        "  * 2-5. arguments 지정 및 학습 진행\n",
        "3. Inference & Evaluation\n",
        "  * 3-1. load_model_for_inference 함수 정의\n",
        "  * 3-2. inference 함수 정의\n",
        "  * 3-3. infer_and_eval 함수 정의"
      ],
      "metadata": {
        "id": "ZEsDaD-LkRZi"
      }
    },
    {
      "cell_type": "markdown",
      "source": [
        "### ⚙️ 데이터 및 환경설정\n",
        "- 학습(train) 데이터와 평가(test) 데이터를 불러옵니다.\n",
        "- 베이스라인에 필요한 라이브러리들을 설치합니다.\n",
        "- 런타임 유형을 GPU로 설정합니다."
      ],
      "metadata": {
        "id": "g2cn-e5AXNoM"
      }
    },
    {
      "cell_type": "markdown",
      "source": [
        "1.데이터 다운로드"
      ],
      "metadata": {
        "id": "kmmO-EK1X5Jo"
      }
    },
    {
      "cell_type": "markdown",
      "source": [
        "- 아래코드 실행후 좌측 \"파일\" Tab 내 train.csv , test.csv 확인합니다."
      ],
      "metadata": {
        "id": "U4jI8VwfXeQM"
      }
    },
    {
      "cell_type": "code",
      "source": [
        "!wget --no-check-certificate 'https://docs.google.com/uc?export=download&id=1gucFY-P9a1TzdV8Xb-OwVD4TpPy4iyJX' -O train.csv\n",
        "!wget --no-check-certificate 'https://docs.google.com/uc?export=download&id=1J05RaqfknDzTObofL7OyiSmT0B8rX0gZ' -O test.csv"
      ],
      "metadata": {
        "id": "7jYND9o60Xrx",
        "colab": {
          "base_uri": "https://localhost:8080/"
        },
        "outputId": "ed7b135f-c5f2-4d00-c35f-2cd284d89a4a"
      },
      "execution_count": 1,
      "outputs": [
        {
          "output_type": "stream",
          "name": "stdout",
          "text": [
            "--2025-09-13 12:14:48--  https://docs.google.com/uc?export=download&id=1gucFY-P9a1TzdV8Xb-OwVD4TpPy4iyJX\n",
            "Resolving docs.google.com (docs.google.com)... 74.125.137.102, 74.125.137.101, 74.125.137.138, ...\n",
            "Connecting to docs.google.com (docs.google.com)|74.125.137.102|:443... connected.\n",
            "HTTP request sent, awaiting response... 303 See Other\n",
            "Location: https://drive.usercontent.google.com/download?id=1gucFY-P9a1TzdV8Xb-OwVD4TpPy4iyJX&export=download [following]\n",
            "--2025-09-13 12:14:48--  https://drive.usercontent.google.com/download?id=1gucFY-P9a1TzdV8Xb-OwVD4TpPy4iyJX&export=download\n",
            "Resolving drive.usercontent.google.com (drive.usercontent.google.com)... 74.125.137.132, 2607:f8b0:4023:c03::84\n",
            "Connecting to drive.usercontent.google.com (drive.usercontent.google.com)|74.125.137.132|:443... connected.\n",
            "HTTP request sent, awaiting response... 200 OK\n",
            "Length: 41620993 (40M) [application/octet-stream]\n",
            "Saving to: ‘train.csv’\n",
            "\n",
            "train.csv           100%[===================>]  39.69M  80.1MB/s    in 0.5s    \n",
            "\n",
            "2025-09-13 12:14:51 (80.1 MB/s) - ‘train.csv’ saved [41620993/41620993]\n",
            "\n",
            "--2025-09-13 12:14:51--  https://docs.google.com/uc?export=download&id=1J05RaqfknDzTObofL7OyiSmT0B8rX0gZ\n",
            "Resolving docs.google.com (docs.google.com)... 74.125.137.102, 74.125.137.101, 74.125.137.138, ...\n",
            "Connecting to docs.google.com (docs.google.com)|74.125.137.102|:443... connected.\n",
            "HTTP request sent, awaiting response... 303 See Other\n",
            "Location: https://drive.usercontent.google.com/download?id=1J05RaqfknDzTObofL7OyiSmT0B8rX0gZ&export=download [following]\n",
            "--2025-09-13 12:14:51--  https://drive.usercontent.google.com/download?id=1J05RaqfknDzTObofL7OyiSmT0B8rX0gZ&export=download\n",
            "Resolving drive.usercontent.google.com (drive.usercontent.google.com)... 74.125.137.132, 2607:f8b0:4023:c03::84\n",
            "Connecting to drive.usercontent.google.com (drive.usercontent.google.com)|74.125.137.132|:443... connected.\n",
            "HTTP request sent, awaiting response... 200 OK\n",
            "Length: 10414352 (9.9M) [application/octet-stream]\n",
            "Saving to: ‘test.csv’\n",
            "\n",
            "test.csv            100%[===================>]   9.93M  55.9MB/s    in 0.2s    \n",
            "\n",
            "2025-09-13 12:14:53 (55.9 MB/s) - ‘test.csv’ saved [10414352/10414352]\n",
            "\n"
          ]
        }
      ]
    },
    {
      "cell_type": "markdown",
      "source": [
        "[참고용]\n",
        "- [원본 데이터 링크](https://www.aihub.or.kr/aihubdata/data/view.do?currMenu=115&topMenu=100&aihubDataSe=realm&dataSetSn=71338)\n",
        "- [데이터셋 분리 코드](https://colab.research.google.com/drive/1PEwivSUeQhgR8xjWQE6Xl0Hzh_9uf3L5?usp=sharing)\n",
        "- [데이터셋 저장 드라이브](https://drive.google.com/drive/folders/1r7Cn1Di9s-QlPTmieCunTP_CQjKXcnxE?usp=sharing)"
      ],
      "metadata": {
        "id": "TyH8Vx5Eo3w1"
      }
    },
    {
      "cell_type": "markdown",
      "source": [
        "2.환경설정"
      ],
      "metadata": {
        "id": "x_yp8JTZxqj0"
      }
    },
    {
      "cell_type": "markdown",
      "source": [
        "\n",
        "\n",
        "```\n",
        "pytorch_lightning\n",
        "torch\n",
        "pandas\n",
        "numpy\n",
        "transformers\n",
        "sklearn\n",
        "```\n",
        "- 코랩에서는 pytorch_lightning과 transformers 만 아래와 같이 설치해주면 됩니다.\n"
      ],
      "metadata": {
        "id": "J-FY0Z-axvzW"
      }
    },
    {
      "cell_type": "code",
      "source": [
        "!pip -q install pytorch_lightning\n",
        "!pip -q install transformers\n",
        "!pip -q install transformers[torch]"
      ],
      "metadata": {
        "id": "oEOPufUvU0bP",
        "colab": {
          "base_uri": "https://localhost:8080/"
        },
        "outputId": "bb6a11b3-40ea-4f79-91c7-d87ad98994fd"
      },
      "execution_count": 2,
      "outputs": [
        {
          "output_type": "stream",
          "name": "stdout",
          "text": [
            "\u001b[?25l   \u001b[90m━━━━━━━━━━━━━━━━━━━━━━━━━━━━━━━━━━━━━━━━\u001b[0m \u001b[32m0.0/832.4 kB\u001b[0m \u001b[31m?\u001b[0m eta \u001b[36m-:--:--\u001b[0m\r\u001b[2K   \u001b[91m━━━━━━━━━━━━━━━━━━━━━━━━━━━━━━━━━━━━━━━\u001b[0m\u001b[91m╸\u001b[0m \u001b[32m829.4/832.4 kB\u001b[0m \u001b[31m30.6 MB/s\u001b[0m eta \u001b[36m0:00:01\u001b[0m\r\u001b[2K   \u001b[90m━━━━━━━━━━━━━━━━━━━━━━━━━━━━━━━━━━━━━━━━\u001b[0m \u001b[32m832.4/832.4 kB\u001b[0m \u001b[31m21.9 MB/s\u001b[0m eta \u001b[36m0:00:00\u001b[0m\n",
            "\u001b[?25h\u001b[?25l   \u001b[90m━━━━━━━━━━━━━━━━━━━━━━━━━━━━━━━━━━━━━━━━\u001b[0m \u001b[32m0.0/983.2 kB\u001b[0m \u001b[31m?\u001b[0m eta \u001b[36m-:--:--\u001b[0m\r\u001b[2K   \u001b[90m━━━━━━━━━━━━━━━━━━━━━━━━━━━━━━━━━━━━━━━━\u001b[0m \u001b[32m983.2/983.2 kB\u001b[0m \u001b[31m51.4 MB/s\u001b[0m eta \u001b[36m0:00:00\u001b[0m\n",
            "\u001b[?25h"
          ]
        }
      ]
    },
    {
      "cell_type": "markdown",
      "source": [
        "- \"런타임\" > \"런타임유형변경\" > \"Python3, T4 GPU\" 선택해준 후, \"런타임재실행\"해줍니다."
      ],
      "metadata": {
        "id": "stJUffJpYEYc"
      }
    },
    {
      "cell_type": "code",
      "source": [
        "import torch\n",
        "torch.cuda.is_available() # GPU 할당여부 확인. GPU가 정상적으로 할당되면 True가 출력."
      ],
      "metadata": {
        "id": "beZvBYvC6UJl",
        "colab": {
          "base_uri": "https://localhost:8080/"
        },
        "outputId": "ef1f747a-6160-427f-86a4-0dd6ac11df11"
      },
      "execution_count": 3,
      "outputs": [
        {
          "output_type": "execute_result",
          "data": {
            "text/plain": [
              "True"
            ]
          },
          "metadata": {},
          "execution_count": 3
        }
      ]
    },
    {
      "cell_type": "markdown",
      "source": [
        "### 1️⃣ Dataset & Tokenizing\n",
        "- torch.utils.data.Dataset class 를 상속받아 news_dataset class를 정의해줍니다.\n",
        "- 데이터를 불러오는 load_data 와 tokenizing을 진행하는 <br> construct_tokenized_dataset 를 정의해줍니다.\n",
        "-  위에서 정의된 함수들을 활용하여, 데이터셋을 불러와 tokenizing 한후에, <br> torch dataset class로 변환해줍니다.\n",
        "- 이후 train data /validation data 는 7.5 : 2.5로 나눠줍니다."
      ],
      "metadata": {
        "id": "HjURBFwP46z-"
      }
    },
    {
      "cell_type": "markdown",
      "source": [
        "####1-1. <b> news_dataset class </b> 정의"
      ],
      "metadata": {
        "id": "1IRd2z-Xh2Ka"
      }
    },
    {
      "cell_type": "code",
      "execution_count": 4,
      "metadata": {
        "id": "qcvxKds43T1K"
      },
      "outputs": [],
      "source": [
        "import os\n",
        "import pandas as pd\n",
        "import torch\n",
        "\n",
        "class news_dataset(torch.utils.data.Dataset):\n",
        "    \"\"\"dataframe을 torch dataset class로 변환\"\"\"\n",
        "    def __init__(self, news_dataset, labels):\n",
        "        self.dataset = news_dataset\n",
        "        self.labels = labels\n",
        "\n",
        "    def __getitem__(self,idx):\n",
        "        item = {\n",
        "            key: val[idx].clone().detach() for key, val in self.dataset.items()\n",
        "        }\n",
        "        item['labels'] = torch.tensor(self.labels[idx])\n",
        "        return item\n",
        "\n",
        "    def __len__(self):\n",
        "        return len(self.labels)"
      ]
    },
    {
      "cell_type": "markdown",
      "source": [
        "####1-2. <b>load_data , construct_tokenized_dataset</b> 함수 정의\n",
        "- \"데이터를 불러오고\" \"토크나이징 해주는\" 함수들"
      ],
      "metadata": {
        "id": "P287gtcYh5L8"
      }
    },
    {
      "cell_type": "code",
      "source": [
        "def load_data(dataset_dir):\n",
        "    \"\"\"csv file을 dataframe으로 load\"\"\"\n",
        "    dataset = pd.read_csv(dataset_dir)[:500]\n",
        "    print(\"dataframe 의 형태\")\n",
        "    print(dataset.head())\n",
        "    return dataset\n",
        "\n",
        "def construct_tokenized_dataset(dataset,tokenizer, max_length):\n",
        "    \"\"\"[뉴스제목 + [SEP] + 뉴스본문]형태로 토크나이징\"\"\"\n",
        "    concat_entity = []\n",
        "    for title, body in zip(dataset[\"newsTitle\"],dataset[\"newsContent\"]):\n",
        "        total = str(title) + \"[SEP]\" + str(body)\n",
        "        concat_entity.append(total)\n",
        "    print(\"tokenizer 에 들어가는 데이터 형태\")\n",
        "    print(concat_entity[:5])\n",
        "    tokenized_senetences = tokenizer(\n",
        "        concat_entity,\n",
        "        return_tensors = \"pt\",\n",
        "        padding = True,\n",
        "        truncation = True,\n",
        "        max_length = max_length,\n",
        "        add_special_tokens = True,\n",
        "        # return_token_type_ids=False, # BERT 이후 모델(RoBERTa 등) 사용할때 False\n",
        "    )\n",
        "    print(\"tokenizing 된 데이터 형태\")\n",
        "    print(tokenized_senetences[:5])\n",
        "    return tokenized_senetences"
      ],
      "metadata": {
        "id": "zWtTFGpgOuZ5"
      },
      "execution_count": 5,
      "outputs": []
    },
    {
      "cell_type": "markdown",
      "source": [
        "####1-3. prepare_dataset 함수 정의\n",
        "- 앞서 정의한 함수들 기반으로 데이터셋 준비하는 함수\n",
        "\n",
        "🌟 전처리과정 🌟<blockquote>\n",
        "1. train.csv / test.csv 파일을 pd.dataframe 로 다운로드 해준다. <br>\n",
        "2. train/validation set을 나눠준다. (7.5:2.5) <br>\n",
        "3. label 값을 따로 저장해준다. <br>\n",
        "4. 제목과 본문 데이터만 정제한후에 tokenizing 해준다. <br>\n",
        "5. tokenizing 된 데이터를 news_dataset class로 반환해준다. <br>"
      ],
      "metadata": {
        "id": "X2EkEecuiPFs"
      }
    },
    {
      "cell_type": "code",
      "source": [
        "def prepare_dataset(dataset_dir, tokenizer,max_len):\n",
        "    \"\"\"학습(train)과 평가(test)를 위한 데이터셋을 준비\"\"\"\n",
        "    # load_data\n",
        "    train_dataset = load_data(os.path.join(dataset_dir, \"train.csv\"))\n",
        "    test_dataset = load_data(os.path.join(dataset_dir, \"test.csv\"))\n",
        "\n",
        "    # split train / validation = 7.5 : 2.5\n",
        "    train_dataset, val_dataset = train_test_split(train_dataset,test_size=0.25,random_state=42,stratify=train_dataset['label'])\n",
        "\n",
        "    # split label\n",
        "    train_label = train_dataset['label'].values\n",
        "    val_label = val_dataset['label'].values\n",
        "    test_label = test_dataset['label'].values\n",
        "\n",
        "    # tokenizing dataset\n",
        "    tokenized_train = construct_tokenized_dataset(train_dataset, tokenizer, max_len)\n",
        "    tokenized_val = construct_tokenized_dataset(val_dataset, tokenizer, max_len)\n",
        "    tokenized_test = construct_tokenized_dataset(test_dataset, tokenizer, max_len)\n",
        "    print(\"--- tokenizing Done ---\")\n",
        "\n",
        "    # make dataset for pytorch.\n",
        "    news_train_dataset = news_dataset(tokenized_train, train_label)\n",
        "    news_val_dataset = news_dataset(tokenized_val, val_label)\n",
        "    news_test_dataset = news_dataset(tokenized_test, test_label)\n",
        "    print(\"--- dataset class Done ---\")\n",
        "\n",
        "    return news_train_dataset , news_val_dataset, news_test_dataset , test_dataset"
      ],
      "metadata": {
        "id": "DJaCDNU442Mu"
      },
      "execution_count": 6,
      "outputs": []
    },
    {
      "cell_type": "markdown",
      "source": [
        "### 2️⃣ Model & Trainer\n",
        "- huggingface 에서 사전학습된(pre-trained) 모델을 불러옵니다.\n",
        "- huggingface 의 Trainer 모듈을 정의하고 학습에 사용될 Arguments 들을 지정해줍니다."
      ],
      "metadata": {
        "id": "YvGnvDc848-X"
      }
    },
    {
      "cell_type": "code",
      "source": [
        "import os\n",
        "import random\n",
        "import numpy as np\n",
        "import pytorch_lightning as pl\n",
        "import torch\n",
        "from sklearn.metrics import accuracy_score, f1_score\n",
        "from sklearn.model_selection import train_test_split\n",
        "\n",
        "from transformers import (\n",
        "    AutoTokenizer,\n",
        "    AutoConfig,\n",
        "    AutoModelForSequenceClassification,\n",
        ")\n",
        "from transformers import Trainer, TrainingArguments\n",
        "from transformers import EarlyStoppingCallback\n",
        "from transformers.optimization import get_cosine_with_hard_restarts_schedule_with_warmup"
      ],
      "metadata": {
        "id": "uEzOUH3lRoEu"
      },
      "execution_count": 7,
      "outputs": []
    },
    {
      "cell_type": "markdown",
      "source": [
        "####2-1. compute_metrics 함수 정의\n",
        "- 학습 중 validation 할때 사용될 평가지표 정의하는 함수\n",
        "- 해당 실습에서는 Accuracy와 F1 Score를 Metric으로 사용"
      ],
      "metadata": {
        "id": "pwPQVSmkLQ8X"
      }
    },
    {
      "cell_type": "code",
      "source": [
        "def compute_metrics(pred):\n",
        "    \"\"\"validation을 위한 metrics function\"\"\"\n",
        "    labels = pred.label_ids\n",
        "    preds = pred.predictions.argmax(-1)\n",
        "\n",
        "    # calculate accuracy using sklearn's function\n",
        "    acc = accuracy_score(labels, preds)\n",
        "\n",
        "    # calculate f1 score using sklearn's function\n",
        "    f1 = f1_score(labels, preds, average='micro')\n",
        "\n",
        "    return {\n",
        "        \"accuracy\": acc,\n",
        "        \"f1\": f1,\n",
        "    }"
      ],
      "metadata": {
        "id": "ZBCbg507RrUS"
      },
      "execution_count": 8,
      "outputs": []
    },
    {
      "cell_type": "markdown",
      "source": [
        "####2-2.load_tokenizer_and_model_for_train 함수 정의\n",
        "- 학습에 사용될 토크나이저와 모델을 불러오는 함수"
      ],
      "metadata": {
        "id": "s7Eon5-KLwnx"
      }
    },
    {
      "cell_type": "code",
      "source": [
        "from transformers import AutoModelForSequenceClassification\n",
        "test_model= AutoModelForSequenceClassification.from_pretrained('klue/roberta-large')"
      ],
      "metadata": {
        "colab": {
          "base_uri": "https://localhost:8080/",
          "height": 248,
          "referenced_widgets": [
            "bad6b142500c4d46b854610a9039391c",
            "c5184c92c7584762953806356826a185",
            "775c375da4d14c4b8f7119624d5993fd",
            "b0862dcd45a44eef9e6bca3248da50fc",
            "11c3fafce7d848728be7fdec494996e6",
            "5a8ae616061e400db1086ee24f4ead4a",
            "7de41b7857774b1d87dc5b8630bbdb7c",
            "3424acdda80a4e4c8b92ce86ffd0d225",
            "d9316ea648734ff9bbda56148f6537ee",
            "e0ed2e0a372b4edcb7c753c8be68349c",
            "28036f9082ec4e50bb9435c769f7a749",
            "303c3aed6621463c8191f09b676db2c3",
            "fe4464ef7ba54f349f644964ac791faf",
            "8bcf2705b65a4f689060f5fa9712ebfe",
            "770163f594754b71abdc130882d93170",
            "f09f705e339e4ac0a89a6bd25079ca34",
            "661337103110446483bf22c4c2c85868",
            "49888fa9baed4d20a25bc3bd92c1a79f",
            "e22e67fb41cf4b3594028d9b46ac5973",
            "24b4d10810b442888e68bf255eed289e",
            "bc5b16bc10834eaa90e6a982624ede17",
            "d92a4c9acc46497181fd14b5c3ac963e"
          ]
        },
        "id": "twLK3c5MgQ1h",
        "outputId": "96c5f00d-4edf-4553-8a39-6b3d4fb0040a"
      },
      "execution_count": 9,
      "outputs": [
        {
          "output_type": "stream",
          "name": "stderr",
          "text": [
            "/usr/local/lib/python3.12/dist-packages/huggingface_hub/utils/_auth.py:94: UserWarning: \n",
            "The secret `HF_TOKEN` does not exist in your Colab secrets.\n",
            "To authenticate with the Hugging Face Hub, create a token in your settings tab (https://huggingface.co/settings/tokens), set it as secret in your Google Colab and restart your session.\n",
            "You will be able to reuse this secret in all of your notebooks.\n",
            "Please note that authentication is recommended but still optional to access public models or datasets.\n",
            "  warnings.warn(\n"
          ]
        },
        {
          "output_type": "display_data",
          "data": {
            "text/plain": [
              "config.json:   0%|          | 0.00/547 [00:00<?, ?B/s]"
            ],
            "application/vnd.jupyter.widget-view+json": {
              "version_major": 2,
              "version_minor": 0,
              "model_id": "bad6b142500c4d46b854610a9039391c"
            }
          },
          "metadata": {}
        },
        {
          "output_type": "display_data",
          "data": {
            "text/plain": [
              "model.safetensors:   0%|          | 0.00/1.35G [00:00<?, ?B/s]"
            ],
            "application/vnd.jupyter.widget-view+json": {
              "version_major": 2,
              "version_minor": 0,
              "model_id": "303c3aed6621463c8191f09b676db2c3"
            }
          },
          "metadata": {}
        },
        {
          "output_type": "stream",
          "name": "stderr",
          "text": [
            "Some weights of RobertaForSequenceClassification were not initialized from the model checkpoint at klue/roberta-large and are newly initialized: ['classifier.dense.bias', 'classifier.dense.weight', 'classifier.out_proj.bias', 'classifier.out_proj.weight']\n",
            "You should probably TRAIN this model on a down-stream task to be able to use it for predictions and inference.\n"
          ]
        }
      ]
    },
    {
      "cell_type": "code",
      "source": [
        "print(test_model)"
      ],
      "metadata": {
        "colab": {
          "base_uri": "https://localhost:8080/"
        },
        "id": "SS3AHaXjgWNN",
        "outputId": "e49ba60a-833c-45bd-9679-4954a42f964d",
        "collapsed": true
      },
      "execution_count": null,
      "outputs": [
        {
          "output_type": "stream",
          "name": "stdout",
          "text": [
            "RobertaForSequenceClassification(\n",
            "  (roberta): RobertaModel(\n",
            "    (embeddings): RobertaEmbeddings(\n",
            "      (word_embeddings): Embedding(32000, 1024, padding_idx=1)\n",
            "      (position_embeddings): Embedding(514, 1024, padding_idx=1)\n",
            "      (token_type_embeddings): Embedding(1, 1024)\n",
            "      (LayerNorm): LayerNorm((1024,), eps=1e-05, elementwise_affine=True)\n",
            "      (dropout): Dropout(p=0.1, inplace=False)\n",
            "    )\n",
            "    (encoder): RobertaEncoder(\n",
            "      (layer): ModuleList(\n",
            "        (0-23): 24 x RobertaLayer(\n",
            "          (attention): RobertaAttention(\n",
            "            (self): RobertaSdpaSelfAttention(\n",
            "              (query): Linear(in_features=1024, out_features=1024, bias=True)\n",
            "              (key): Linear(in_features=1024, out_features=1024, bias=True)\n",
            "              (value): Linear(in_features=1024, out_features=1024, bias=True)\n",
            "              (dropout): Dropout(p=0.1, inplace=False)\n",
            "            )\n",
            "            (output): RobertaSelfOutput(\n",
            "              (dense): Linear(in_features=1024, out_features=1024, bias=True)\n",
            "              (LayerNorm): LayerNorm((1024,), eps=1e-05, elementwise_affine=True)\n",
            "              (dropout): Dropout(p=0.1, inplace=False)\n",
            "            )\n",
            "          )\n",
            "          (intermediate): RobertaIntermediate(\n",
            "            (dense): Linear(in_features=1024, out_features=4096, bias=True)\n",
            "            (intermediate_act_fn): GELUActivation()\n",
            "          )\n",
            "          (output): RobertaOutput(\n",
            "            (dense): Linear(in_features=4096, out_features=1024, bias=True)\n",
            "            (LayerNorm): LayerNorm((1024,), eps=1e-05, elementwise_affine=True)\n",
            "            (dropout): Dropout(p=0.1, inplace=False)\n",
            "          )\n",
            "        )\n",
            "      )\n",
            "    )\n",
            "  )\n",
            "  (classifier): RobertaClassificationHead(\n",
            "    (dense): Linear(in_features=1024, out_features=1024, bias=True)\n",
            "    (dropout): Dropout(p=0.1, inplace=False)\n",
            "    (out_proj): Linear(in_features=1024, out_features=2, bias=True)\n",
            "  )\n",
            ")\n"
          ]
        }
      ]
    },
    {
      "cell_type": "code",
      "source": [
        "def load_tokenizer_and_model_for_train():\n",
        "    \"\"\"학습(train)을 위한 사전학습(pretrained) 토크나이저와 모델을 huggingface에서 load\"\"\"\n",
        "    # load model and tokenizer\n",
        "    MODEL_NAME = args.model_name\n",
        "    tokenizer = AutoTokenizer.from_pretrained(MODEL_NAME)\n",
        "\n",
        "    # setting model hyperparameter\n",
        "    model_config = AutoConfig.from_pretrained(MODEL_NAME)\n",
        "    model_config.num_labels = 2\n",
        "    print(model_config)\n",
        "\n",
        "    model = AutoModelForSequenceClassification.from_pretrained(\n",
        "        MODEL_NAME, config=model_config\n",
        "    )\n",
        "    print(\"--- Modeling Done ---\")\n",
        "    return tokenizer , model"
      ],
      "metadata": {
        "id": "KQD7W8lil-zV"
      },
      "execution_count": 10,
      "outputs": []
    },
    {
      "cell_type": "markdown",
      "source": [
        "####2-3.load_trainer_for_train 함수 정의\n",
        "- 학습에 사용될 Trainer 모듈을 정의하고 Arguments들을 지정해준다."
      ],
      "metadata": {
        "id": "Efpcmx66LyKb"
      }
    },
    {
      "cell_type": "code",
      "source": [
        "def load_trainer_for_train(model,news_train_dataset,news_val_dataset):\n",
        "    \"\"\"학습(train)을 위한 huggingface trainer 설정\"\"\"\n",
        "    training_args = TrainingArguments(\n",
        "        output_dir=args.save_path + \"results\",  # output directory\n",
        "        save_total_limit=args.save_limit,  # number of total save model.\n",
        "        save_steps=args.save_step,  # model saving step.\n",
        "        num_train_epochs=args.epochs,  # total number of training epochs\n",
        "        learning_rate=args.lr,  # learning_rate\n",
        "        per_device_train_batch_size=args.batch_size,  # batch size per device during training\n",
        "        per_device_eval_batch_size=2,  # batch size for evaluation\n",
        "        warmup_steps=args.warmup_steps,  # number of warmup steps for learning rate scheduler\n",
        "        weight_decay=args.weight_decay,  # strength of weight decay\n",
        "        logging_dir=args.save_path + \"logs\",  # directory for storing logs\n",
        "        logging_steps=args.logging_step,  # log saving step.\n",
        "        eval_strategy=\"steps\",  # evaluation strategy to adopt during training\n",
        "            # `no`: No evaluation during training.\n",
        "            # `steps`: Evaluate every `eval_steps`.\n",
        "            # `epoch`: Evaluate every end of epoch.\n",
        "        eval_steps=args.eval_step,  # evaluation step.\n",
        "        load_best_model_at_end=True,\n",
        "    )\n",
        "\n",
        "    ## Add callback & optimizer & scheduler\n",
        "    MyCallback = EarlyStoppingCallback(\n",
        "        early_stopping_patience=3, early_stopping_threshold=0.001\n",
        "    )\n",
        "\n",
        "    optimizer = torch.optim.AdamW(\n",
        "        model.parameters(),\n",
        "        lr=args.lr,\n",
        "        betas=(0.9, 0.999),\n",
        "        eps=1e-08,\n",
        "        weight_decay=args.weight_decay,\n",
        "        amsgrad=False,\n",
        "    )\n",
        "    print(\"--- Set training arguments Done ---\")\n",
        "\n",
        "    trainer = Trainer(\n",
        "        model=model,  # the instantiated 🤗 Transformers model to be trained\n",
        "        args=training_args,  # training arguments, defined above\n",
        "        train_dataset=news_train_dataset,  # training dataset\n",
        "        eval_dataset=news_val_dataset,  # evaluation dataset\n",
        "        compute_metrics=compute_metrics,  # define metrics function\n",
        "        callbacks=[MyCallback],\n",
        "        optimizers=(\n",
        "            optimizer,\n",
        "            get_cosine_with_hard_restarts_schedule_with_warmup(\n",
        "                    optimizer,\n",
        "                    num_warmup_steps=args.warmup_steps,\n",
        "                    num_training_steps=len(news_train_dataset) * args.epochs,\n",
        "            ),\n",
        "        ),\n",
        "    )\n",
        "    print(\"--- Set Trainer Done ---\")\n",
        "\n",
        "    return trainer\n"
      ],
      "metadata": {
        "id": "74d4ASCAmV03"
      },
      "execution_count": 11,
      "outputs": []
    },
    {
      "cell_type": "markdown",
      "source": [
        "####2-4.train 함수 정의\n",
        "- 실험세팅 후 앞서 정의한 함수들 활용하여 학습을 진행하는 함수\n",
        "\n",
        "🌟 학습동작과정 🌟\n",
        "<blockquote>\n",
        "1. 실험에 영향을 주는 모든 seed를 고정해준다. <br>\n",
        "2. 사용할 gpu를 device에 할당해준다. <br>\n",
        "3. tokenizer와 model을 불러온후, model을 device에 할당해준다. <br>\n",
        "4. 학습에 사용될 news_dataset 을 불러온다.<br>\n",
        "5. 학습에 사용될 Trainer 를 불러온다.<br>\n",
        "6. 학습을 진행한후에 best_model을 저장해준다. <br>"
      ],
      "metadata": {
        "id": "MSugBph0Lz3V"
      }
    },
    {
      "cell_type": "code",
      "source": [
        "def train():\n",
        "    \"\"\"모델을 학습(train)하고 best model을 저장\"\"\"\n",
        "    # fix a seed\n",
        "    pl.seed_everything(seed=42, workers=False)\n",
        "\n",
        "    # set device\n",
        "    device = torch.device(\"cuda:0\" if torch.cuda.is_available() else \"cpu\")\n",
        "    print(\"device:\", device)\n",
        "\n",
        "    # set model and tokenizer\n",
        "    tokenizer , model = load_tokenizer_and_model_for_train()\n",
        "    model.to(device)\n",
        "\n",
        "    # set data\n",
        "    news_train_dataset, news_val_dataset, news_test_dataset, test_dataset = prepare_dataset(args.dataset_dir,tokenizer,args.max_len)\n",
        "\n",
        "    # set trainer\n",
        "    trainer = load_trainer_for_train(model,news_train_dataset,news_val_dataset)\n",
        "\n",
        "    # train model\n",
        "    print(\"--- Start train ---\")\n",
        "    trainer.train()\n",
        "    print(\"--- Finish train ---\")\n",
        "    model.save_pretrained(\"./best_model\")\n"
      ],
      "metadata": {
        "id": "4obCVJ0l4-AS"
      },
      "execution_count": 12,
      "outputs": []
    },
    {
      "cell_type": "markdown",
      "source": [
        "####2-5.arguments 지정 및 학습 진행\n",
        "- RoBERTa 모델 간략 설명\n",
        "\n",
        "<blockquote>\n",
        "1. BERT 모델의 변형으로, 학습 데이터의 양을 크게 늘리고 학습률(learning rate)을 조정하며, <br>문장의 길이를 다양화하여 성능을 향상시켰다. <br>\n",
        "2. BERT의 사전학습 방법 중 하나인 NSP(Next Sentence Prediction)을 제거하였다."
      ],
      "metadata": {
        "id": "n_HZwFKzL2jr"
      }
    },
    {
      "cell_type": "code",
      "source": [
        "class args ():\n",
        "  \"\"\"학습(train)과 추론(infer)에 사용되는 arguments 관리하는 class\"\"\"\n",
        "  dataset_dir = \"./\"\n",
        "  model_type = \"roberta\" # 다른 모델 사용 가능 e.g) \"bert\" , \"electra\" ···\n",
        "  model_name = \"klue/roberta-large\" # 다른 모델 사용 가능 e.g) \"klue/bert-base\" , \"monologg/koelectra-base-finetuned-nsmc\" ···\n",
        "  save_path = \"./\"\n",
        "  save_step = 200\n",
        "  logging_step = 200\n",
        "  eval_step = 100\n",
        "  save_limit = 5\n",
        "  seed = 42\n",
        "  epochs = 1 # 10\n",
        "  batch_size = 8 # 메모리 상황에 맞게 조절 e.g) 16 or 32\n",
        "  max_len = 128\n",
        "  lr = 3e-5\n",
        "  weight_decay = 0.01\n",
        "  warmup_steps = 300\n",
        "  scheduler = \"linear\"\n",
        "  model_dir = \"./best_model\" #추론 시, 저장된 모델 불러오는 경로 설정\n",
        "\n"
      ],
      "metadata": {
        "id": "VjlXJRCPQag0",
        "collapsed": true
      },
      "execution_count": 13,
      "outputs": []
    },
    {
      "cell_type": "code",
      "source": [
        "train()"
      ],
      "metadata": {
        "colab": {
          "base_uri": "https://localhost:8080/",
          "height": 1000,
          "referenced_widgets": [
            "3e1ead63fa1743c6b8e87f04ccd8e34a",
            "a33c120f440f4418a580ff6a141f396a",
            "18ec8440e19545019c0c41f4ff6f8de9",
            "e62976a023ff4a148861016b740975e1",
            "0944733b71de4f8784e7ab495a5d665e",
            "9e56ab701a75473ca995d947b0d48b19",
            "a586d4cec303423ab43903f496b695fd",
            "46a4aaa9979645e883029282f1e20b13",
            "81ae800ed78946718585607df1c9d788",
            "bbea5f389464419eb48add0f15da7587",
            "47b1fc6ff30d4ca7b6e030d4349952e2",
            "3786705f50d449119c0bdccfdd7fa88a",
            "c3e8d062a3e74e1087bd2084393dcf1b",
            "6f0ae69d5d644b008da9557ddb7966d7",
            "ce44636786104359bb1369006bbbf891",
            "e061f122693041e78b97f6fec403638c",
            "6c0372a269b44d8cbcef1c038b5e1996",
            "1b18d4cdbfdb455ca1efa7205ffca104",
            "a01bcada994a4eef8f905739bca562eb",
            "7aed707832ca40c89f279e30c7ca9591",
            "b676627f4c7948eaaad4d6ddeedb7b81",
            "bddc0fcf58454f99ae1aed69016f6bf0",
            "1884a785faa7443c8987ce0255082d78",
            "e335956df9ec480b82e6e915718f2559",
            "55d9995156034feb817eba220ad387c4",
            "dc64c9008b3d4ea9b9c289294684c28f",
            "526dd2fc4e8c4f7e8a0131456e4cfed9",
            "d7939da0a0394db4a798afd8cce315cd",
            "1e7adb3edafe4ca0bc23ea9f3194807f",
            "f80e3688cd7046a09363b54e4fb6a1de",
            "dfa3c7ffb20146f58b527beb8fddd40f",
            "0d6d4af966a14b3dbae19b95bed15e5a",
            "c581df093f6249ae9f2a7b5888fce0fd",
            "e1a164e005f1468fad5bd09dbbc7ea4e",
            "f1785d0d855d4b998e069441f1bab940",
            "2f4dea3a79b54442b4fc330ff3351624",
            "441179c6100d436f881adda22acf64f5",
            "380265276d004d7cb65490864306c2dc",
            "c8654a92d8b14a9abe124a225a129e27",
            "d177fc0c061d407dabb061c3dc06440c",
            "b4bcc09d45ca40ec9d912edc3f1598f7",
            "1ece70c24c5f44f0b65e3c19016fda1e",
            "39ced9fc0430487190009b1269760b11",
            "718d45a0f48c4c4ab5a1c4df60725985"
          ]
        },
        "id": "pj4GcVhGCaNK",
        "outputId": "dd59d450-65b3-4e19-d189-71652e36c894"
      },
      "execution_count": 14,
      "outputs": [
        {
          "output_type": "stream",
          "name": "stderr",
          "text": [
            "INFO:lightning_fabric.utilities.seed:Seed set to 42\n"
          ]
        },
        {
          "output_type": "stream",
          "name": "stdout",
          "text": [
            "device: cuda:0\n"
          ]
        },
        {
          "output_type": "display_data",
          "data": {
            "text/plain": [
              "tokenizer_config.json:   0%|          | 0.00/375 [00:00<?, ?B/s]"
            ],
            "application/vnd.jupyter.widget-view+json": {
              "version_major": 2,
              "version_minor": 0,
              "model_id": "3e1ead63fa1743c6b8e87f04ccd8e34a"
            }
          },
          "metadata": {}
        },
        {
          "output_type": "display_data",
          "data": {
            "text/plain": [
              "vocab.txt: 0.00B [00:00, ?B/s]"
            ],
            "application/vnd.jupyter.widget-view+json": {
              "version_major": 2,
              "version_minor": 0,
              "model_id": "3786705f50d449119c0bdccfdd7fa88a"
            }
          },
          "metadata": {}
        },
        {
          "output_type": "display_data",
          "data": {
            "text/plain": [
              "tokenizer.json: 0.00B [00:00, ?B/s]"
            ],
            "application/vnd.jupyter.widget-view+json": {
              "version_major": 2,
              "version_minor": 0,
              "model_id": "1884a785faa7443c8987ce0255082d78"
            }
          },
          "metadata": {}
        },
        {
          "output_type": "display_data",
          "data": {
            "text/plain": [
              "special_tokens_map.json:   0%|          | 0.00/173 [00:00<?, ?B/s]"
            ],
            "application/vnd.jupyter.widget-view+json": {
              "version_major": 2,
              "version_minor": 0,
              "model_id": "e1a164e005f1468fad5bd09dbbc7ea4e"
            }
          },
          "metadata": {}
        },
        {
          "output_type": "stream",
          "name": "stderr",
          "text": [
            "Some weights of RobertaForSequenceClassification were not initialized from the model checkpoint at klue/roberta-large and are newly initialized: ['classifier.dense.bias', 'classifier.dense.weight', 'classifier.out_proj.bias', 'classifier.out_proj.weight']\n",
            "You should probably TRAIN this model on a down-stream task to be able to use it for predictions and inference.\n"
          ]
        },
        {
          "output_type": "stream",
          "name": "stdout",
          "text": [
            "RobertaConfig {\n",
            "  \"architectures\": [\n",
            "    \"RobertaForMaskedLM\"\n",
            "  ],\n",
            "  \"attention_probs_dropout_prob\": 0.1,\n",
            "  \"bos_token_id\": 0,\n",
            "  \"classifier_dropout\": null,\n",
            "  \"eos_token_id\": 2,\n",
            "  \"gradient_checkpointing\": false,\n",
            "  \"hidden_act\": \"gelu\",\n",
            "  \"hidden_dropout_prob\": 0.1,\n",
            "  \"hidden_size\": 1024,\n",
            "  \"initializer_range\": 0.02,\n",
            "  \"intermediate_size\": 4096,\n",
            "  \"layer_norm_eps\": 1e-05,\n",
            "  \"max_position_embeddings\": 514,\n",
            "  \"model_type\": \"roberta\",\n",
            "  \"num_attention_heads\": 16,\n",
            "  \"num_hidden_layers\": 24,\n",
            "  \"pad_token_id\": 1,\n",
            "  \"position_embedding_type\": \"absolute\",\n",
            "  \"tokenizer_class\": \"BertTokenizer\",\n",
            "  \"transformers_version\": \"4.56.1\",\n",
            "  \"type_vocab_size\": 1,\n",
            "  \"use_cache\": true,\n",
            "  \"vocab_size\": 32000\n",
            "}\n",
            "\n",
            "--- Modeling Done ---\n",
            "dataframe 의 형태\n",
            "   Unnamed: 0 newsCategory newsSubcategory                        newsTitle  \\\n",
            "0       12529           경제           금융/증권  김종민 대전산단협회장 “산단 발전과 인식변화 위해 노력”   \n",
            "1        4815           경제              유통     힐튼 가든 인, 내달 1일 루프톱 야외 수영장 개장   \n",
            "2       11556           경제           유통/쇼핑                    이마트에서 겨울패션 충전   \n",
            "3       11798           경제           유통/쇼핑      새 통큰상품 기대하세요…롯데마트 창립17주년 행사   \n",
            "4       15381           경제            대덕특구              추석 열차 승차권 10~11일 예매   \n",
            "\n",
            "                                         newsContent  label  \n",
            "0  “대전산업단지 발전과 인식 변화를 위해 최선의 노력을 다하겠다.” 제14대 대전산업...      1  \n",
            "1  힐튼 가든 인 서울 강남은 다음달 1일부터 루프톱 야외 수영장을 오픈, 온수풀을 가...      0  \n",
            "2  이마트가 지속되는 한파에 끝이 보이지 않는 겨울을 이기기 위한 비법으로 겨울 패션 ...      1  \n",
            "3  롯데마트는 창립 17주년을 맞아 다양한 '통큰 상품'을 새롭게 출시한다고 26일 밝...      1  \n",
            "4  올해 추석 연휴(9월 9~14일) 열차 승차권(좌석지정 승차권) 예매가 오는 10일...      1  \n",
            "dataframe 의 형태\n",
            "   Unnamed: 0 newsCategory newsSubcategory  \\\n",
            "0       21851           경제              산업   \n",
            "1        1409           경제            경제일반   \n",
            "2       15087           경제          건설/부동산   \n",
            "3        8527           경제              정책   \n",
            "4        9157           경제              정책   \n",
            "\n",
            "                                    newsTitle  \\\n",
            "0            본그룹 \\\"일상 속 걷기로 비대면 기부 캠페인 참여해요\\\"   \n",
            "1       \\\"그림 완성하고 미니 콘서트도\\\" 아이파크몰, 체험형 콘텐츠 강화   \n",
            "2  LH 미분양아파트 소진 '진땀', 공급실적 올리기위해 알선수수료까지 지원키로   \n",
            "3       신한銀, 비대면 '땡겨요 사업자 대출' 출시…최대 1000만원 가능   \n",
            "4     [신년사]김현수 농식품부 장관 \\\"농업, 데이터 기반 첨단산업 변모\\\"   \n",
            "\n",
            "                                         newsContent  label  \n",
            "0  국내 대표 한식 프랜차이즈 기업 본아이에프가 속한 '본그룹'이 오늘부터 내달 16일...      1  \n",
            "1  HDC아이파크몰은 고객이 직접 참여하고 경험할 수 있는 체험형 콘텐츠를 통해 오프라...      0  \n",
            "2  연말을 앞두고 한국토지주택공사(LH) 대전충남지역본부가 아파트 공급실적을 끌어올리기...      1  \n",
            "3  신한은행은 시중은행 최초로 땡겨요 입점 개인사업자를 위한 신용대출 상품인 '땡겨요 ...      0  \n",
            "4  김현수 농림축산식품부 장관은 농업을 데이터 기반의 첨단산업으로 변모시키고 젊은 인재...      0  \n",
            "tokenizer 에 들어가는 데이터 형태\n",
            "['신한카드-제주테크노파크, 데이터 기반 ESG 업무협약[SEP]신한카드는 제주지역의 산업발전 지역혁신 거점 공공기관인 제주테크노파크와 \\'데이터 기반 제주 ESG 강화를 위한 공동연구\\'와 관련한 업무협약을 체결했다고 19일 밝혔다.\\n제주시 제주테크노파크에서 전날 열린 협약식에는 김일봉 신한카드 라이프사업본부 본부장과 장석호 제주테크노파크 디지털융합센터 센터장 등이 참석했다.\\n신한카드 관계자는 데일리임팩트에 \\\\\"이번 협약을 통해 양 기관은 신한카드의 소비 데이터 기반 빅데이터와 제주테크노파크가 보유한 공공데이터를 융합해 제주 지역 ESG 강화를 위한 다양한 공동연구를 전개해나갈 것\\\\\"이라고 설명했다.\\n먼저 배달음식 수요 확대, 1인 가구 증가 등의 다양한 요인에 따른 식습관 변화로 인한 쓰레기 배출량 연관관계 분석에 나선다.\\n이를 통해 제주 지역 음식물 쓰레기 배출량을 예측하고 쓰레기 배출량 감소 방안 등을 도출해 제주 지역 환경 개선을 위한 공동 연구를 추진한다는 계획이다.\\n특히 국내 최초로 개발 중인 카드 소비 기반 탄소배출지수인 \\'신한 그린 인덱스(Green Index)\\'를 활용해 친환경 소비를 유도하는 마케팅을 실시하는 등 제주 지역의 ESG 활동 강화에 기여할 수 있을 것으로 보고 있다.\\n이외에도 신한카드는 제주 지역 기업들의 데이터 분석·활용 능력 강화를 위한 컨설팅 진행 등 다양한 사회적 활동을 진행해 제주 지역 데이터 경제를 활성화할 방침이다.\\n한편 신한카드는 신한금융그룹의 새로운 비전인 \\'더 쉽고 편안한, 더 새로운 금융\\'과 연계해 총 170여개의 대한민국을 대표하는 다양한 분야의 공공기관과 민간기업을 대상으로 450여개 프로젝트를 수행하며 데이터 협업을 강화해 나가고 있다.', '코스피 2700·코스닥 900선 하회 출발…우크라이나 교전·물가상승 우려[SEP]코스피와 코스닥지수 모두 하락 출발했다.\\n러시아와 우크라이나 교전과 이에 따른 인플레이션(물가상승) 우려로 인해 코스피는 한 때 2676선까지 밀렸다.\\n7일 오전 10시 코스피는 전거래일대비 1.82%(49.27포인트) 하락한 2664.16을 가리키고 있다.\\n이날 코스피는 전 거래일대비 1.23%(30.26 포인트) 내린 2680.17에 장을 출발해 장 초반 낙폭을 키우는 모습이다.\\n지난 4일(현지시간) 견조한 미국 고용지표에도 불구하고 러시아가 우크라이나의 유럽 최대 원자력 발전소를 포격한 사실이 알려지며 투자심리를 위축한 것으로 풀이된다.\\n러시아와 우크라이나는 7일(현지시간) 휴전 및 민간인 대피를 위한 제3차 협상을 앞두고 있지만 긴장 상황은 여전하다.\\n6일(현지시간) 러시아가 루마니아 등 우크라이나 인접국에 우크라이나 전투기를 발진시킬 경우 전쟁에 개입한 것으로 간주하겠다고 경고하는 등 상황이 악화될 가능성에 투자심리가 크게 위축된 것으로 풀이된다.\\n미국 증시는 지난 4일(현지시간) 우크라이나에 위치한 유럽 최대 원자력 발전소가 러시아의 포격을 받았다는 소식에 하락 출발, 하락 마감했다.\\n2월 비농업 고용자 수가 예상치를 크게 뛰며 지난해 7월 이후 가장 높은 숫자를 기록했지만 전쟁에 따른 물가상승 우려가 더 큰 영향을 미친 것이다.\\n이 시각 현재 투자자 동향을 보면 외국인과 기관은 각각 3557억원, 4057억원을 팔아치운 반면 개인은 홀로 7562억원을 순매수하고 있다.\\n시가총액 상위 종목들도 대부분 하락세를 보이고 있다.\\n삼성전자는 전거래일 대비 1.96% 하락한 7만100원에 거래 중이다.\\n이외 SK하이닉스(-4.02%), 네이버(-2.99%), 삼성바이오로직스(-1.68%), 카카오 (-1.80%), LG화학(-3.36%), 현대차(-1.45%), 삼성SDI(-2.65%), 기아(-2.74%), 포스코(-1.37%) 등 시총 상위 10종목 모두 내림세다.\\n업종별로 보면 보험(-2.66%),섬유·의복(-2.56%), 금융업(-2.42%), 음식료품(-2.32%), 증권(-2.28%), 화학(-2.19%), 전기/전자(-2.11%), 은행(-2.01%) 순의 하락세를 보였다.\\n같은시각 코스닥지수는 전 거래일 대비 1.47%(13.22포인트) 하락한 887.74에 거래 중이다.\\n이날 코스닥지수는 전 거래일 대비 1.22%(11.01 포인트) 내린 889.95에 개장했다.\\n투자자별 동향을 보면 역시 개인 홀로 728억원치를 순매수한 반면 외국인과 기관은 각각 3747억원, 4173억원을 순매도했다.\\n업종별로 보면 IT부품이 2.97% 하락하며 가장 큰 낙폭을 보였다.\\n통신장비(-2.49%), 종이/목재(-2.26%), 반도체 -1.97%), 운송장비/부품(-2.09%), 화학(-2.02%)등 거의 전 업종이 하락하고 있다.\\n비금속만 유일하게 1.32% 상승 중이다.', '물 대신 CO2로 빨래를?…LG전자, \\'물 없는 세탁기\\' 나온다[SEP]물이나 기름 대신 이산화탄소로 의류를 세탁하는 \\'CO2 세탁기\\'가 나온다.\\n그동안 규제에 가로막혀 제품 출시가 불가능했지만 규제 샌드박스(규제 유예)를 통해 상용화의 길이 열렸다.\\n버스, 지하철 광고와 마찬가지로 서울시가 운영하는 공유자전거 서비스를 활용한 옥외광고도 허용된다.\\n1일 산업통상자원부에 따르면 지난달 30일 개최한 \\'2021년 제6차 산업융합 규제특례심의위원회\\'에서 CO2 세탁기를 포함해 실증특례 10건, 임시허가 5건 등 총 15건의 규제특례를 승인했다.\\n이번에 규제특례 승인을 받은 LG전자의 CO2 세탁기는 물 또는 기름을 사용하지 않고 액체 상태의 이산화탄소를 순환시켜 친환경 세탁이 가능토록 한다.\\n고압가스안전관리법상 CO2를 압축, 액화하는 것은 고압가스 제조행위로 상하좌우 8m 이격, 방호벽 설치, 안전관리자 선임 등 의무를 적용받기 때문에 현행 규제상 CO2 세탁기 상용화는 불가능하다.\\n규제특례심의위는 사고 발생에 대비해 산업부가 제시한 적정압력 모니터링, 방호벽 설치, 가스누출 검지설비 설치 등 안전조치 사항을 전제로 CO2 세탁기를 조건부로 승인했다.\\nCO2 세탁기가 세탁 용제를 쓰지 않아 친환경적이고, 해외에서 이미 상용화된 제품이라는 점도 고려했다.\\nLG전자는 CO2 세탁기를 자체 연구소 내에 설치, 2년간 시험운영한 후 안전성이 입증되면 일반 상가 내 세탁소 설치가 가능하도록 임시허가를 신청할 계획이다.\\n산업부 관계자는 \\\\\"향후 CO2 세탁기 상용화 시에는 물과 기름을 사용하지 않는 친환경 세탁방식이 확산될 수 있어 환경오염을 방지하고 탄소중립을 달성하는데 기여할 것\\\\\"이라고 밝혔다.\\n서울시가 신청한 공유자전거 차체를 활용한 광고 서비스에 대한 실증특례도 승인됐다.\\n지금은 옥외광고물법 시행령상 옥외광고물 표시대상에 자전거가 포함되지 않아 공유자전거를 이용한 광고 서비스 제공은 불가능하다.\\n그러나 앞으로는 공유자전거 바구니, 프레임, 앞바퀴 커버 등을 통한 광고가 가능해진다.\\n아울러 ▲셀프 수소충전소 구축 ▲과금형 콘센트를 활용한 전기차 저장 전력의 차량 외부 공급 서비스 ▲사용후 전기차 배터리 재사용을 통한 태양광 가로등 ▲공원 자율주행 순찰로봇 ▲재외국민 비대면 진료·상담 서비스 등에 대한 실증특례도 승인을 받았다.\\n이번 규제특례 승인 15건을 포함해 산업융합 규제특례심의위는 총 198건의 과제를 승인했다.\\n이를 통해 107개 기업이 사업을 개시해 매출 789억원, 투자 2462억원, 신규고용 403명 창출하는 성과를 거뒀다.', \"한가위 세일… 한아름 안고 가세요[SEP]▲ 상품권ㆍ기프트카드로 스마트한 선물 추석명절을 앞두고 20일 다양한 금액의 갤러리아 상품권과 기프트 카드가 갤러리아 타임월드점에서 판매돼 한복을 곱게 차려입은 직원들이 상품권과 기프트 카드를 들어보이고 있다.\\n손인중 기자 백화점업계가 추석을 1주일여 앞두고 다양한 선물전과 브랜드세일을 마련, 고객몰이에 나선다. 20일 백화점업계에 따르면 갤러리아백화점 타임월드는 청과, 정육, 건어물 등 식품류 선물세트와 제수용품 특별코너, 브랜드세일 등 다양한 상품의 선물전을 진행한다.\\n지하 2층 식품관에서는 제수용품 특별전, '10+1' 선물세트 행사도 펼친다.\\n지하 1층에서는 브랜드별 일정기간 동안 할인된 가격에 구입할 수 있는 브랜드데이를 실시하며 패션잡화 특집전도 진행, 실속 쇼핑의 기회를 제공한다. 5층 남성의류 매장에서는 구매금액에 따른 풍성한 사은선물을 증정하고, 8층 행사장에서는 효도선물 제안전으로 전시상품에 한 해 최대 40% 할인 판매한다.\\n대전 롯데백화점도 층별로 다양한 추석 선물전과 더불어 다음달 2일까지 유명 브랜드세일을 펼쳐 10~30% 할인된 금액에 판매한다.\\n지하 1층 식품관에서는 건강식품과 청과, 정육 등 선물세트가 마련돼 있으며 구매 금액에 따라 사은행사를 펼쳐 추가 혜택도 받을 수 있다. 1층 화장품 매장에서는 브랜드별 선물세트를 선보이고, 5층 매장에서는 유명 브랜드의 셔츠, 넥타이 선물상품전이 진행된다.\\n9층 특설매장에서는 35개 브랜드가 참여하는 '2012 여성 트렌치코트 Fair'가 펼쳐져 최대 70% 할인된 금액에 판매된다.\\n백화점세이도 구매금액에 따른 5% 상품권 또는 사은선물 행사를 진행하고, 5만원 이상 구매고객에게 양말을 증정한다.\\n지하 1층 슈퍼에서는 쇼핑객들의 부담은 덜고 격식은 갖출 수 있는 가격대별 다양한 선물세트를 마련했다.\\n백화점 관계자는 “추석을 앞두고 풍성하고 여유로운 한가위가 될 수 있도록 다양한 상품을 저렴하게 판매, 실속 쇼핑의 기회를 제공하고 있다”고 말했다.\", \"KT&G 지역사회공헌도 '인색'[SEP]대전에 본사를 두고 있는 대기업 KT&G가 대전상공회의소 회비를 10년 가까이 미납한 것으로 밝혀진데 이어, 지역 사회공헌활동에도 인색한 것으로 알려져 시민들로부터 곱지 않은 시선을 받고 있다.\\n대전사회복지공동모금회가 공개한 최근 10년 동안 KT&G의 기부현황 자료에 따르면, 2009년까지만 기부금을 후원했을 뿐, 2010년 이후부터는 기부가 전무한 것으로 확인됐다.\\n사회복지공동모금회는 지난해 말 KT&G 서울 사옥(사회공헌부)을 방문해 협조를 요청했지만, KT&G 측은 사회공헌활동 방식 전환 등을 이유로 이를 받아들이지 않은 것으로 알려졌다.\\n이런 가운데 지난해 지역에서 하나은행 충청사업본부를 비롯해 한국전자통신연구원(ETRI), 한라공조, 우성사료, 삼아제약, 계룡건설 등은 대전사회복지공동모금회에 1억원 이상의 기부금을 전달한 것으로 조사됐다.\\n기부에 인색한 KT&G와는 대조적이다.\\n또 KT&G는 기업들의 도움이 절실한 대전시티즌에도 후원을 하지 않고 있는 것으로 전해졌다.\\n대전시티즌에 따르면 KT&G는 2009년까지 매년 거액의 후원금을 지원하면서, 시민구단의 든든한 후원자 역할을 했다.\\n그러나 2010년 이후부터는 후원을 끊은 상태다.\\n반면, 대전도시공사를 비롯해 하나은행, 한라공조, 호반건설 등은 지난해 대전시티즌에 1억원 이상의 후원금을 지원했다.\\n시티즌 측은 “KT&G는 2009년까지 광고계약에 따라 후원금을 지원했으나, 계약이 끝난 이후에는 지원을 하지 않고 있다”고 설명했다.\\n이에 대해 일각에서는 KT&G가 지역 사회공헌활동에 무관심하다는 목소리가 나오고 있다.\\n대전지역 중소기업 한 관계자는 “KT&G는 대전을 대표하는 대기업으로, 지역 기업들의 사회공헌활동을 주도적으로 이끌어 가는 모습을 보여줄 필요성이 있다고 본다”고 지적했다.\\n이와 관련 서울에 있는 KT&G 사회공헌부 측은 회사의 사회공헌활동 방식을 전환했을 뿐이라고 설명했다.\\n사회공헌부 관계자는 “대전시티즌과 사회복지공동모금회에 후원을 하다, 최근 들어 하지 않고 있다. 후원이나 협찬 등 간접적인 봉사활동을 줄이면서, 직접적으로 직원들이 체험하는 KT&G 만의 사회활동으로 변환해 가고 있다”면서 “대전사회복지공동모금회의 협조방문이 있었지만, 도움을 주지 못했다”고 말했다.\"]\n",
            "tokenizing 된 데이터 형태\n",
            "[Encoding(num_tokens=128, attributes=[ids, type_ids, tokens, offsets, attention_mask, special_tokens_mask, overflowing]), Encoding(num_tokens=128, attributes=[ids, type_ids, tokens, offsets, attention_mask, special_tokens_mask, overflowing]), Encoding(num_tokens=128, attributes=[ids, type_ids, tokens, offsets, attention_mask, special_tokens_mask, overflowing]), Encoding(num_tokens=128, attributes=[ids, type_ids, tokens, offsets, attention_mask, special_tokens_mask, overflowing]), Encoding(num_tokens=128, attributes=[ids, type_ids, tokens, offsets, attention_mask, special_tokens_mask, overflowing])]\n",
            "tokenizer 에 들어가는 데이터 형태\n",
            "['세종엠코타운 특별공급 1.64대 1[SEP]세종엠코타운의 이전 기관 종사자 특별공급 1차 경쟁률이 1.64대 1로 마감됐다.\\n9일 행정도시건설청에 따르면 현대엠코는 지난 8일부터 이날까지 이전 기관 종사자를 대상으로 세종엠코타운(1-3생활권 M6블록) 특별공급 1차 청약을 받았다.\\n전체 1940세대 중 특별공급 물량은 1358세대(70%). 이틀간 최종 2239명이 청약에 나서 합계 경쟁률 1.64대 1을 기록했다.\\n84㎡ 쏠림 현상이 강하게 나타나 1차에서 마감됐고, 59㎡는 미달됐다.\\n84㎡는 499세대 청약가능 물량 중 1738명이 신청, 3.48대 1의 경쟁률을 나타냈다.\\n반면 59㎡의 경우, A타입이 743세대 모집에 467명이 몰려 0.62대1, B타입은 116세대에 34명 신청으로 0.29대 1에 그쳤다.\\n2차는 오는 13일 진행되고, 청약가능 물량은 59㎡ A타입 276세대, B타입 82세대 등 모두 358세대다.\\n2차 청약 후 남은 세대는 15일부터 진행되는 일반 청약물량으로 전환된다.\\n건설청 관계자는 “중앙 공무원들이 전반적으로 84㎡에 선호도를 보였다”며 “가족 동반 이주를 원하는 경향과 투자가치 측면에서 이 같은 선택을 한 것으로 분석된다”고 말했다.', 'IBK기업은행, 5억달러 규모 \\'코로나 지원\\' 채권 발행 성공[SEP]IBK기업은행이 코로나19 금융 지원에 사용할 목적으로 5억달러 규모의 외화 소셜본드 발행에 성공했다고 16일 밝혔다.\\n이번 채권 만기는 5년이며 미국 국채 금리에 72.5bp를 가산한 수준인 1.04% 고정금리로 발행됐다.\\n기업은행 관계자는 \\\\\"코로나19에 따른 시장 변동성 확대에도 불구하고 한국물 채권에 대한 투자자들의 견조한 수요를 통해 낮은 금리로 채권 발행에 성공했다\\\\\"고 밝혔다.\\n소셜 본드란 중소기업 지원, 일자리 창출, 취약계층 지원 등 사회문제 해결을 위한 목적에 자금의 용도가 제한되는 특수목적 채권이다.\\n환경·사회·지배구조(ESG)채권 중의 하나다.\\n기업은행은 2018년 8월 한국 기업 중 처음으로 소셜본드를 발행해 5억달러를 조달한 바 있다.\\n이로써 기업은행이 발행한 외화 소셜본드는 총 10억달러 규모로 늘었다.\\n기업은행 관계자는 이날 미디어SR에 \\\\\"이번 채권을 통해 발행한 자금은 기존에 기업은행이 진행하는 코로나19 피해 소상공인, 중소기업 지원에 사용될 것\\\\\"이라면서 \\\\\"내년 7, 8월경 홈페이지를 통해 자금 집행 결과, ESG 효과 등을 게시할 계획\\\\\"이라고 말했다.\\n오는 7월에는 지난 2018년 발행한 5억달러 규모의 소셜본드 집행 결과가 기업은행 홈페이지를 통해 공시될 예정이다.\\n윤종원 기업은행장은 이번 소셜본드 발행과 관련해 \\\\\"각국 중앙은행, 국제기구 등 다양한 투자자들의 관심이 성공적인 채권 발행으로 이어졌다\\\\\"며 \\\\\"앞으로도 기업은행은 사회적 책임을 다하기 위해 노력할 것\\\\\"이라고 강조했다.\\n한편 국내 은행이 한국물 시장에서 코로나19 관련 채권을 발행한 것은 지난 4월 KB국민은행에 이어 기업은행이 두 번째다.', '동원F&B-투썸플레이스 \\'맞손\\'…식물성 대체육 샌드위치 출시[SEP]동원F&B(대표 김재옥)가 프리미엄 디저트 카페 \\'투썸플레이스\\'와 손잡고 식물성 대체육 샌드위치 \\'비욘드미트 파니니\\' 2종(비욘드미트 더블 머쉬룸 파니니, 비욘드미트 커리 파니니)을 선보인다고 24일 밝혔다. \\'비욘드미트 파니니\\' 2종은 동원F&B가 2019년부터 미국에서 수입해 국내에 독점 판매하고 있는 식물성 대체육 브랜드 \\'비욘드미트(Beyond Meat)\\'의 \\'비욘드비프(Beyond Beef)\\' 제품을 넣은 샌드위치다.\\n새송이 버섯과 표고 버섯을 넣어 풍미를 더한 \\'비욘드미트 더블 머쉬룸 파니니\\'와 향긋한 커리 소스를 넣은 \\'비욘드미트 커리 파니니\\' 등 2종으로 구성됐다. \\'비욘드미트\\'는 2009년 설립된 미국의 스타트업으로 콩과 버섯, 호박 등에서 추출한 단백질로 100% 식물성 대체육을 만드는 업체다.\\n비욘드미트의 식물성 대체육은 환경호르몬이나 항생제 등이 들어 있지 않아 비건(Vegan) 소비자들은 물론 환경과 건강을 생각하는 소비자들로부터 각광 받고 있다.\\n비욘드미트의 대표 제품인 \\'비욘드버거(Beyond Burger)\\'는 출시 3년 만에 전세계 판매량 5,000만개를 돌파했으며 국내에서도 이마트를 비롯한 할인마트와 백화점, 온라인몰 등을 통해 현재까지 약 15만개 이상 판매됐다.\\n동원F&B는 이러한 호응에 힘입어 지난해 4월 \\'비욘드비프\\'와 \\'비욘드소시지\\'를 추가로 출시해 국내 대체육 시장 공략을 강화하고 있다.\\n동원F&B 관계자는 미디어SR에 \\\\\"건강과 환경에 대한 관심이 늘면서 밀레니얼 세대 사이에서는 \\'가치소비\\'가 트렌드로 자리잡고 있다\\\\\"며 \\\\\"국내 대체육 시장을 선도하는 기업으로서, \\'가치소비\\'를 원하는 소비자들을 위해 식물성 대체육을 활용한 다양한 신제품을 선보일 것\\\\\"이라고 말했다.', '트랜스베버리지, \\'와일드 터키 12년\\' 신제품 출시…한국서 처음 선봬[SEP]트랜스베버리지는 프리미엄 버번 위스키 \\'와일드 터키(Wild Turkey) 12년\\' 신제품을 한국에서 처음 출시한다고 2일 밝혔다.\\n와일드 터키 12년은 위스키 업계의 전설적인 부자 마스터 디스틸러인 지미 러셀(Jimmy Russell)과 에디 러셀(Eddie Russell)의 노하우가 담긴 와일드 터키 최상급 제품이다.\\n오크통에서 최소 12년 이상 숙성된 원액만을 사용해 만들었다.\\n한때 단종됐다가 20년 만에 새로운 패키지로 한국에 처음 선보이게 됐다.\\n와일드 터키 12년은 짙은 구리색에 캐러멜, 참나무 향을 느낄 수 있고 처음에는 달콤한 시트러스와 허브, 바닐라에 이어 피니시로는 스파이스와 함께 오크의 여운이 오래 남는다. \\'와일드 터키 8년\\'도 새로운 패키지로 리뉴얼됐다.\\n와일드 터키 12년과 8년 제품은 모두 50.5도로 나왔다.\\n700㎖ 용량으로 주요 리커 숍, 주류 판매점, 스마트 오더 등을 통해 구매할 수 있다.\\n트랜스베버리지 관계자는 \\\\\"최근 프리미엄 버번 위스키 애호가들이 폭발적으로 늘어나고 있어 와일드 터키 본사에서 한국을 전 세계 가장 중요한 4대 마켓으로 선정했다\\\\\"면서 \\\\\"한국 소비자들의 다양한 니즈를 충족하기 위해 최선을 다할 예정\\\\\"이라고 말했다.', '[CES2022]\\\\\"차원이 다른 화질\\\\\"…삼성디스플레이, TV·모니터용 QD디스플레이 공개[SEP]삼성디스플레이가 4일 오전(현지시간) 미국 라스베이거스에서 열리는 세계 최대 전자·IT 전시회 CES 2022 개막을 앞두고 TV와 모니터용 퀀텀닷(QD) 디스플레이를 공개했다.\\n최근 양산을 시작한 QD디스플레이는 세계 최초로 퀀텀닷을 내재화한, 백라이트가 없는 자발광 디스플레이다.\\n삼성디스플레이는 이날 55형과 65형 TV용 패널과 34형 모니터용 패널 등 총 3종의 제품을 선보였다.\\nQD디스플레이는 기존의 대형 디스플레이가 컬러 필터로 색을 구현하는 것과 달리 독자적인 잉크젯 프린팅 기술로 완성한 \\'QD 발광층\\'을 통해 역대 최고 수준의 색재현력과 넓은 시야각, 밝은 컬러 휘도, 혁신적인 HDR 등을 갖췄다.\\n입자 크기에 따라 다른 색을 내는 반도체 입자인 퀀텀닷은 순도 높은 RGB(빛의 삼원색)를 구현한다.\\n가장 레드에 가까운 레드, 블루에 가까운 블루를 표현하며 현재 상용화된 디스플레이 중 순수한 3원색에 가장 근접한 색을 낸다고 회사 측은 설명했다.\\n또 RGB 픽셀 만으로 색을 구현함으로서 RGB 컬러를 표현할 때도 밝기가 떨어지지 않아 더욱 더 선명한 색을 표현할 수 있다고 덧붙였다.\\nQD디스플레이는 서브 픽셀의 로컬 디밍 기술을 활용해 0.0005nit 이하의 트루 블랙부터 1500nit의 최고 밝기까지 표현 가능하다.\\n이렇게 넓은 휘도 폭 때문에 밝은 곳은 더 밝고 어두운 곳은 보다 어둡게 표현할 수 있으며 아주 어두운 화면에서도 세밀한 명암 표현이 가능하다.\\n삼성디스플레이는 이날 자발광 화질을 갖춘 34형 QHD+ QD디스플레이도 함께 공개했다.\\n모니터용 QD디스플레이는 화질뿐만 아니라 0.1ms의 빠른 응답 속도로 화면이 빠르게 전환되는 순간에도 끊김이나 끌림이 없는 선명한 화질을 구현한다.\\n이에 따라 업계 최고의 게이밍 퍼포먼스 인증인 \\'G-SYNC ULTIMATE\\'에 부합하는 성능도 확보했다.\\n삼성디스플레이는 \\\\\"QD디스플레이가 색감, 화질, 몰입감 등 모든 측면에서 최고의 게이밍 디스플레이로 모니터 시장에 새로운 변화를 몰고 올 것으로 기대한다\\\\\"고 밝혔다.\\n한편 삼성디스플레이는 이날 자사 OLED 패널을 대표하는 고유 기술인 \\'다이아몬드 픽셀\\'도 소개했다.\\n삼성디스플레이의 다이아몬드 픽셀은 인간의 망막이 적색, 녹색, 청색 중 녹색에 가장 민감하게 반응한다는 점에 착안해 녹색 소자 크기를 작고 촘촘하게 늘려서 구성됐다.\\n2013년 갤럭시 S4 OLED 패널에 처음 적용했다.\\n특히 45도 대각선 방향으로 화소를 구성한 다이아몬드 형태의 고유 배열 방식을 통해 높은 선명도와 가시성을 제공한다.\\n이에 따라 직선과 대각선, 날카롭고 정교한 패턴을 정확히 표현하는 데 탁월하다고 삼성디스플레이는 설명했다.']\n",
            "tokenizing 된 데이터 형태\n",
            "[Encoding(num_tokens=128, attributes=[ids, type_ids, tokens, offsets, attention_mask, special_tokens_mask, overflowing]), Encoding(num_tokens=128, attributes=[ids, type_ids, tokens, offsets, attention_mask, special_tokens_mask, overflowing]), Encoding(num_tokens=128, attributes=[ids, type_ids, tokens, offsets, attention_mask, special_tokens_mask, overflowing]), Encoding(num_tokens=128, attributes=[ids, type_ids, tokens, offsets, attention_mask, special_tokens_mask, overflowing]), Encoding(num_tokens=128, attributes=[ids, type_ids, tokens, offsets, attention_mask, special_tokens_mask, overflowing])]\n",
            "tokenizer 에 들어가는 데이터 형태\n",
            "['본그룹 \\\\\"일상 속 걷기로 비대면 기부 캠페인 참여해요\\\\\"[SEP]국내 대표 한식 프랜차이즈 기업 본아이에프가 속한 \\'본그룹\\'이 오늘부터 내달 16일까지 임직원들의 일상 속 걷기를 통해 보양죽을 기부하는 비대면 사회공헌 캠페인 \\'달빛아래 소소걸음\\'을 전개한다고 16일 밝혔다.\\n이번 캠페인은 \\'달빛아래 소소걸음\\'이라는 주제로 진행하게 됐으며, 지난 6월 진행한 1차 \\'소소걸음\\' 캠페인에 이어 2차로 진행되는 임직원 비대면 걸음 기부 프로그램이다.\\n본그룹 관계자는 미디어SR에 \\\\\"이번 캠페인은 깊어지는 겨울과 함께 아름다운 달빛 아래에서 더욱 부지런히 걸으며 정신적ㆍ신체적 건강을 모두 챙기는 것은 물론, 지역사회에도 따뜻한 손길을 다시 한번 내밀자는 뜻을 담았다\\\\\"고 설명했다.\\n지난 1차 캠페인 진행 당시, 임직원 195명이 참여해 최초 목표 걸음 수 대비 11%를 초과한 약 3500만 걸음을 달성하며 적극적인 참여와 높은 관심을 증명했다.\\n본그룹은 이를 통해 말복에 본죽 삼계죽, 전복죽 등으로 이루어진 보양죽 500인분을 홀몸 어르신들께 기부할 수 있었다.\\n이번 2차 \\'달빛아래 소소걸음\\' 역시 걸음 기부 사회 공헌 플랫폼 \\'빅워크\\'와의 제휴를 통해 비대면으로 진행하며, 출퇴근 혹은 개인 운동 시간 등 달빛 아래서 걸을 수 있다면 언제든 손쉽게 참여할 수 있다.\\n목표한 걸음 수를 충족시키면 오는 12월 혹한기 시즌에 맞춰 서울시 취약계층 어르신께 기운을 북돋아 줄 수 있는 본죽 동지팥죽 500인분을 기부할 계획이다.\\n한편 본그룹은 이외에도 올해 \\'코로나19\\' 여파에도 포기하지 않고 임직원들이 힘을 모아 주변 이웃들에게 비대면으로 행할 수 있는 따뜻한 손길을 지속적으로 전해오고 있다.\\n본그룹은 쪽방촌 주민을 위한 면마스크 제작 기부를 비롯해 환경의 날 거리 입양 및 쓰레기 줍깅(줍기+조깅의 합성어) 청각 장애인을 위한 립뷰(lip-view) 마스크\\' 제작 청각 장애인을 돕기 위해 영화의 소리 정보를 자막으로 입힌 \\'배리어프리(barrier free) 영화\\'제작에 참여하는 등 활발하게 비대면 사회공헌 활동을 전개하고 있다.\\n본그룹 김철호 그룹장은 \\\\\"지난 1차\\'소소걸음\\'캠페인에 임직원들의 적극적인 참여와 따뜻한 마음이 더해져 홀몸 어르신들이 든든하게 몸보신 할 수 있는 보양죽을 전달할 수 있었다\\\\\"며 \\\\\"지금껏 보여준 것처럼, 임직원들의 작지만 커다란 노력을 통해 이웃과 지역사회에 선한 영향력을 발휘할 수 있기를 바란다\\\\\"\"고 말했다.', '\\\\\"그림 완성하고 미니 콘서트도\\\\\" 아이파크몰, 체험형 콘텐츠 강화[SEP]HDC아이파크몰은 고객이 직접 참여하고 경험할 수 있는 체험형 콘텐츠를 통해 오프라인 시장 경쟁력 강화에 나선다고 19일 밝혔다.\\n아이파크몰은 리오프닝(경제 활동 재개)이 본격화 됨에 따라 신규 고객 유입과 기존 고객의 재방문율 등을 높이고자 새로운 콘셉트의 체험형 콘텐츠를 시리즈 별로 선보일 것이라고 말했다.\\n첫 번째 콘텐츠는 예체능 시리즈로 가족과 연인, 친구 등 남녀노소 누구나 즐길 수 있는 미술관, 미니 콘서트, 플라워 클래스, 미니카 레이싱 등으로 구성했다.\\n아이파크몰은 카페거리에 최근 MZ세대(밀레니얼+Z세대) 사이에서 큰 인기를 얻고 있는 성수 미술관을 선보였다.\\n누구나 자유롭게 미술작품을 완성할 수 있는 문화생활 공간으로 오는 31일까지 팝업스토어 형식으로 운영된다.\\n가족 단위 고객을 잡기 위한 콘텐츠도 준비했다.\\n4층 더 테라스 야외 공간에서 타미야 \\'2022 코리아 미니카 대회\\'가 21일, 22일 주말 양일간 \\'오픈 클래스\\', \\'팀 대항전 오픈 클래스\\', \\'점프 비기너 클래스(주니어 포함)\\', \\'스피트 스톡 클래스\\' 총 4가지 클래스로 진행된다.\\n반려식물과 플랜테리어(플랜트+인테리어)의 수요가 늘고 있는 것에 맞춰 \\'사라스가든\\'과 함께 하는 원데이 플라워 클래스 \\'센터피스 만들기\\' 체험형 프로그램이 주말간 4층 더 가든에서 진행되며 21일에는 편안하게 클래식 기타연주를 감상 할 수 있는 \\'야마하 미니 콘서트\\'도 즐길 수 있다.\\n아이파크몰 관계자는 \\\\\"오프라인 플랫폼으로서 경쟁력을 강화하기 위한 방법의 핵심은 \\'방문을 해야 하는 이유\\'를 만드는 것\\\\\"이라며 \\\\\"아이파크몰은 고객이 방문 할 때 마다 색다른 경험으로 즐겁게 즐길 수 있는 쇼핑문화를 만들어 나가기 위해 노력할 것\\\\\"이라고 말했다.', \"LH 미분양아파트 소진 '진땀', 공급실적 올리기위해 알선수수료까지 지원키로[SEP]연말을 앞두고 한국토지주택공사(LH) 대전충남지역본부가 아파트 공급실적을 끌어올리기 위해 안간힘을 쏟고 있다.\\n일부 공급 실적이 저조한 물량에 대해서는 공인중개사들을 동원해 알선수수료까지 지원하며 미분양 물량을 소진코자 여념이 없다.\\nLH 대전충남지역본부는 지난 24일 대전지역 공인중개사를 비롯해 LH 공동주택 계약자를 대상으로 미분양 아파트 및 토지 매매를 소개할 경우, 1건당 150만~200만원의 알선수수료를 지원한다는 안내서를 보냈다.\\n대상은 올해 분양된 천동2지구 500여세대 및 준공된 아파트(구성지구, 대동지구, 대신지구, 석촌2지구) 50세대 등 550여세대의 미분양 아파트다.\\n동구지역 부동산 시장이 상대적으로 위축된 나머지 올해 공급실적을 높이기 위해 LH는 평균적으로 1건 당 150만원을 알선수수료로 제공하고 천동2지구 아파트의 전용면적 118㎡에 대해서만 1건당 200만원을 지원키로 했다.\\n도안 신도시를 비롯해 관저지구의 단독주택용지 역시 목표 실적을 채우려면 갈 길이 멀다.\\nLH 대전충남본부는 도안 신도시 753필지, 관저지구 108필지 등 모두 871필지의 단독주택용지에 대한 추첨공급을 다음달께 진행할 예정이다.\\n그러나 부동산 경기 침체에 따라 계약체결이 가능한 물량이 많지 않을 것이라는 예상도 나오면서 각각 수의계약 때 1건당 200만원 안팎의 알선수수료를 공인중개사들에게 지원할 계획이다.\\nLH가 연말을 앞두고 실적 올리기에 박차를 가하는 데는 해마다 실시되는 업무평가를 대비하기 위해서다.\\n올해의 경우에는 대통령 선거도 겹쳐 인사에도 변수가 많을 것으로 예상되는 만큼 내년도 인사결정에서 우위를 차지할 수 있도록 실적관리에 매진하는 분위기다.\\n다만, 최근 들어 노은3지구 보금자리주택에 대한 지역 실수요자들의 기대치가 높은 만큼 LH 대전충남지역본부로서도 계약률에 촉각을 곤두세우고 있다.\\n지역의 한 공인중개사는 “최근 부동산 시장에서 워낙 거래수요가 많지 않아 알선수수료라도 받아볼 생각에 동구지역 아파트 중개에 관심을 두고 있다”며 “하지만 동구지역 미분양 물량을 매입하려는 수요자들이 얼마나 몰려들지는 확신하기는 어렵다”고 말했다.\", '신한銀, 비대면 \\'땡겨요 사업자 대출\\' 출시…최대 1000만원 가능[SEP]신한은행은 시중은행 최초로 땡겨요 입점 개인사업자를 위한 신용대출 상품인 \\'땡겨요 사업자 대출\\'을 출시했다고 6일 밝혔다.\\n이번 상품은 배달 애플리케이션(앱) 플랫폼 참여자인 개인사업자에게 이로운 혜택을 제공하고 배달 플랫폼에서의 상생을 실현하기 위해 개발했다.\\n땡겨요 사업자 대출은 배달앱 플랫폼인 땡겨요에 입점한 개인사업자 고객을 대상으로 대출한도는 신한은행 계좌로 입금되는 매출데이터를 분석해 최대1000만원까지 가능하다.\\n상환방식은 원금균등분할상환방식, 대출만기는 최대 36개월이다.\\n또한 땡겨요에서 발생한 매출정산대금 수령계좌를 신한은행으로 지정하면 0.5%우대금리를 받을 수 있다.\\n이번 상품은 신한 쏠비즈에서 신청할 수 있으며 대출 전 과정을 완전 비대면화해 생업에 바쁜 개인사업자들이 보다 손쉽게 대출 신청 할 수 있도록 구현했다.\\n신한은행 관계자는 \\\\\"선한 시장 조성자 땡겨요의 상생실현과 코로나19로 어려움을 겪는 개인사업자를 위해 이번 상품을 기획했다\\\\\"며 \\\\\"앞으로 땡겨요와 연계한 금융 및 비금융서비스를 통해 개인사업자 대상 신규 콘텐츠를 확대하겠다\\\\\"고 말했다.', '[신년사]김현수 농식품부 장관 \\\\\"농업, 데이터 기반 첨단산업 변모\\\\\"[SEP]김현수 농림축산식품부 장관은 농업을 데이터 기반의 첨단산업으로 변모시키고 젊은 인재를 육성하겠다고 30일 신년사에서 밝혔다.\\n\\\\\"스마트팜 혁신밸리는 단순한 토목공사가 아니다\\\\\"라고 힘주어 말했다.\\n김 장관은 \\\\\"(스마트팜 혁신밸리는) 노동력과 경험에 의존하던 농업을 기술과 데이터에 기반한 첨단 산업으로 바꿀 농업 혁명의 상징\\\\\"이라며 \\\\\"각 혁신밸리의 빅데이터센터에서 축적된 스마트팜 데이터를 민간에 개방하면 딥러닝을 통해 인공지능(AI)이 농업 현장의 문제를 분석하고 대안을 제시할 수 있다\\\\\"고 설명했다.\\n또 \\\\\"농산물 유통까지 스마트하게 변해야 한다\\\\\"며 \\\\\"내년에는 농산물 온라인 도매거래 품목과 물량을 늘리고 농가, 최종 수요자, 식자재 업체 등이 참여하는 온라인 거래 플랫폼을 만들 계획\\\\\"이라고 소개했다.\\n그러면서 \\\\\"이를 통해 농축산물 거래정보가 실시간으로 축적되고 공개돼 유통 빅데이터가 구축되는 것을 기대할 수 있다\\\\\"고 덧붙였다.\\n김 장관은 스마트팜 혁신밸리에서 청년농을 길러내겠다는 목표도 제시했다.\\n그는 \\\\\"전국 4곳의 혁신밸리에서는 스마트 농업에 관한 한 가장 앞선 기술을 배우게 될 것\\\\\"이라며 \\\\\"이렇게 배출될 농업인들이 대한민국 농업의 주역이 될 날이 머지않았다\\\\\"고 말했다.\\n김 장관은 식량안보를 강화하기 위해 밀과 콩 등의 생산·소비 기반을 확충하겠다는 계획도 언급했다.\\n그는 \\\\\"단기적으로 발생할 수 있는 식량위기에 대응하기 위해 국산 쌀, 밀, 콩 등 주요 곡물의 비축을 늘리겠다. 비료 등 필수적인 원자재 수입선도 다변화할 것\\\\\"이라고 공언했다.\\n아울러 내년 상반기에 \\'탄소중립 세부 이행계획\\'을 마련하겠다고 밝혔다.\\n작물이나 가축의 생육 과정에서 발생하는 탄소를 줄이기 위해서다.\\n김 장관은 \\\\\"농업은 기후변화의 영향을 가장 직접적으로 받는 산업인 만큼 지금 변화를 위한 행동에 나서야 한다\\\\\"며 \\\\\"농업인이 탄소배출권을 거래할 수 있도록 돕거나 공익직불제와 연계하는 등 다양한 지원 방안을 고민할 것\\\\\"이라고 말했다.\\n이와 함께 그는 코로나19 사태와 기후변화 등을 거론하면서 \\\\\"저를 비롯한 농림축산식품 공직자는 \\'대전환기\\'에 농업이 새로운 미래를 개척하도록 돕는 \\'액셀러레이터\\'가 될 것\\\\\"이라고 했다.']\n",
            "tokenizing 된 데이터 형태\n",
            "[Encoding(num_tokens=128, attributes=[ids, type_ids, tokens, offsets, attention_mask, special_tokens_mask, overflowing]), Encoding(num_tokens=128, attributes=[ids, type_ids, tokens, offsets, attention_mask, special_tokens_mask, overflowing]), Encoding(num_tokens=128, attributes=[ids, type_ids, tokens, offsets, attention_mask, special_tokens_mask, overflowing]), Encoding(num_tokens=128, attributes=[ids, type_ids, tokens, offsets, attention_mask, special_tokens_mask, overflowing]), Encoding(num_tokens=128, attributes=[ids, type_ids, tokens, offsets, attention_mask, special_tokens_mask, overflowing])]\n",
            "--- tokenizing Done ---\n",
            "--- dataset class Done ---\n",
            "--- Set training arguments Done ---\n",
            "--- Set Trainer Done ---\n",
            "--- Start train ---\n"
          ]
        },
        {
          "output_type": "stream",
          "name": "stderr",
          "text": [
            "/usr/local/lib/python3.12/dist-packages/notebook/notebookapp.py:191: SyntaxWarning: invalid escape sequence '\\/'\n",
            "  | |_| | '_ \\/ _` / _` |  _/ -_)\n"
          ]
        },
        {
          "output_type": "display_data",
          "data": {
            "text/plain": [
              "<IPython.core.display.Javascript object>"
            ],
            "application/javascript": [
              "\n",
              "        window._wandbApiKey = new Promise((resolve, reject) => {\n",
              "            function loadScript(url) {\n",
              "            return new Promise(function(resolve, reject) {\n",
              "                let newScript = document.createElement(\"script\");\n",
              "                newScript.onerror = reject;\n",
              "                newScript.onload = resolve;\n",
              "                document.body.appendChild(newScript);\n",
              "                newScript.src = url;\n",
              "            });\n",
              "            }\n",
              "            loadScript(\"https://cdn.jsdelivr.net/npm/postmate/build/postmate.min.js\").then(() => {\n",
              "            const iframe = document.createElement('iframe')\n",
              "            iframe.style.cssText = \"width:0;height:0;border:none\"\n",
              "            document.body.appendChild(iframe)\n",
              "            const handshake = new Postmate({\n",
              "                container: iframe,\n",
              "                url: 'https://wandb.ai/authorize'\n",
              "            });\n",
              "            const timeout = setTimeout(() => reject(\"Couldn't auto authenticate\"), 5000)\n",
              "            handshake.then(function(child) {\n",
              "                child.on('authorize', data => {\n",
              "                    clearTimeout(timeout)\n",
              "                    resolve(data)\n",
              "                });\n",
              "            });\n",
              "            })\n",
              "        });\n",
              "    "
            ]
          },
          "metadata": {}
        },
        {
          "output_type": "stream",
          "name": "stderr",
          "text": [
            "\u001b[34m\u001b[1mwandb\u001b[0m: Logging into wandb.ai. (Learn how to deploy a W&B server locally: https://wandb.me/wandb-server)\n",
            "\u001b[34m\u001b[1mwandb\u001b[0m: You can find your API key in your browser here: https://wandb.ai/authorize?ref=models\n",
            "wandb: Paste an API key from your profile and hit enter:"
          ]
        },
        {
          "name": "stdout",
          "output_type": "stream",
          "text": [
            " ··········\n"
          ]
        },
        {
          "output_type": "stream",
          "name": "stderr",
          "text": [
            "wandb: Paste an API key from your profile and hit enter:"
          ]
        },
        {
          "name": "stdout",
          "output_type": "stream",
          "text": [
            " ··········\n"
          ]
        },
        {
          "output_type": "stream",
          "name": "stderr",
          "text": [
            "\u001b[34m\u001b[1mwandb\u001b[0m: \u001b[33mWARNING\u001b[0m If you're specifying your api key in code, ensure this code is not shared publicly.\n",
            "\u001b[34m\u001b[1mwandb\u001b[0m: \u001b[33mWARNING\u001b[0m Consider setting the WANDB_API_KEY environment variable, or running `wandb login` from the command line.\n",
            "\u001b[34m\u001b[1mwandb\u001b[0m: No netrc file found, creating one.\n",
            "\u001b[34m\u001b[1mwandb\u001b[0m: Appending key for api.wandb.ai to your netrc file: /root/.netrc\n",
            "\u001b[34m\u001b[1mwandb\u001b[0m: Currently logged in as: \u001b[33mkkndsss0\u001b[0m (\u001b[33mkkndsss0-sesac\u001b[0m) to \u001b[32mhttps://api.wandb.ai\u001b[0m. Use \u001b[1m`wandb login --relogin`\u001b[0m to force relogin\n"
          ]
        },
        {
          "output_type": "display_data",
          "data": {
            "text/plain": [
              "<IPython.core.display.HTML object>"
            ],
            "text/html": [
              "creating run (0.0s)"
            ]
          },
          "metadata": {}
        },
        {
          "output_type": "display_data",
          "data": {
            "text/plain": [
              "<IPython.core.display.HTML object>"
            ],
            "text/html": [
              "Tracking run with wandb version 0.21.3"
            ]
          },
          "metadata": {}
        },
        {
          "output_type": "display_data",
          "data": {
            "text/plain": [
              "<IPython.core.display.HTML object>"
            ],
            "text/html": [
              "Run data is saved locally in <code>/content/wandb/run-20250913_122710-8py0cftn</code>"
            ]
          },
          "metadata": {}
        },
        {
          "output_type": "display_data",
          "data": {
            "text/plain": [
              "<IPython.core.display.HTML object>"
            ],
            "text/html": [
              "Syncing run <strong><a href='https://wandb.ai/kkndsss0-sesac/huggingface/runs/8py0cftn' target=\"_blank\">copper-sponge-2</a></strong> to <a href='https://wandb.ai/kkndsss0-sesac/huggingface' target=\"_blank\">Weights & Biases</a> (<a href='https://wandb.me/developer-guide' target=\"_blank\">docs</a>)<br>"
            ]
          },
          "metadata": {}
        },
        {
          "output_type": "display_data",
          "data": {
            "text/plain": [
              "<IPython.core.display.HTML object>"
            ],
            "text/html": [
              " View project at <a href='https://wandb.ai/kkndsss0-sesac/huggingface' target=\"_blank\">https://wandb.ai/kkndsss0-sesac/huggingface</a>"
            ]
          },
          "metadata": {}
        },
        {
          "output_type": "display_data",
          "data": {
            "text/plain": [
              "<IPython.core.display.HTML object>"
            ],
            "text/html": [
              " View run at <a href='https://wandb.ai/kkndsss0-sesac/huggingface/runs/8py0cftn' target=\"_blank\">https://wandb.ai/kkndsss0-sesac/huggingface/runs/8py0cftn</a>"
            ]
          },
          "metadata": {}
        },
        {
          "output_type": "display_data",
          "data": {
            "text/plain": [
              "<IPython.core.display.HTML object>"
            ],
            "text/html": [
              "\n",
              "    <div>\n",
              "      \n",
              "      <progress value='47' max='47' style='width:300px; height:20px; vertical-align: middle;'></progress>\n",
              "      [47/47 02:31, Epoch 1/1]\n",
              "    </div>\n",
              "    <table border=\"1\" class=\"dataframe\">\n",
              "  <thead>\n",
              " <tr style=\"text-align: left;\">\n",
              "      <th>Step</th>\n",
              "      <th>Training Loss</th>\n",
              "      <th>Validation Loss</th>\n",
              "    </tr>\n",
              "  </thead>\n",
              "  <tbody>\n",
              "  </tbody>\n",
              "</table><p>"
            ]
          },
          "metadata": {}
        },
        {
          "output_type": "stream",
          "name": "stdout",
          "text": [
            "--- Finish train ---\n"
          ]
        }
      ]
    },
    {
      "cell_type": "markdown",
      "source": [
        "### 3️⃣ Inference & Evaluation\n",
        "- 학습완료된(fine-tuned) 모델을 불러와서 추론(infer)을 진행합니다.\n",
        "- 추론된 예측값들과 정답값을 비교하여 평가(evaluation)합니다."
      ],
      "metadata": {
        "id": "OXBJlfpd4_PN"
      }
    },
    {
      "cell_type": "code",
      "source": [
        "from transformers import AutoTokenizer, AutoModelForSequenceClassification\n",
        "from torch.utils.data import DataLoader\n",
        "import pandas as pd\n",
        "import torch\n",
        "import torch.nn.functional as F\n",
        "\n",
        "import numpy as np\n",
        "from tqdm import tqdm\n",
        "from sklearn.metrics import accuracy_score, f1_score"
      ],
      "metadata": {
        "id": "H8pGzlZ4pdG5"
      },
      "execution_count": 15,
      "outputs": []
    },
    {
      "cell_type": "markdown",
      "source": [
        "####3-1.load_model_for_inference 함수 정의\n",
        "- 학습된(fine-tuned) 모델의 체크포인트(checkpoint)를 불러오는 함수 <br>\n",
        "<b>(이때, 토크나이저는 기존과 동일하게 huggingface 에서 불러온다. )</b>\n"
      ],
      "metadata": {
        "id": "U9pi3dOjL4ba"
      }
    },
    {
      "cell_type": "code",
      "source": [
        "def load_model_for_inference():\n",
        "    \"\"\"추론(infer)에 필요한 모델과 토크나이저 load \"\"\"\n",
        "    # load tokenizer\n",
        "    Tokenizer_NAME = args.model_name\n",
        "    tokenizer = AutoTokenizer.from_pretrained(Tokenizer_NAME)\n",
        "\n",
        "    ## load my model\n",
        "    model = AutoModelForSequenceClassification.from_pretrained(args.model_dir)\n",
        "\n",
        "    return tokenizer, model"
      ],
      "metadata": {
        "id": "uRapJSNBtCYp"
      },
      "execution_count": 16,
      "outputs": []
    },
    {
      "cell_type": "markdown",
      "source": [
        "####3-2. inference 함수 정의\n",
        "- 학습된(fine-tuned)모델을 통해 평가 데이터의 예측값 추론해내는 함수\n",
        "\n",
        "🌟 추론(infer) 계산과정 🌟\n",
        "\n",
        "<blockquote>\n",
        "1. model.eval , torh.no_grad 를 통해 모델을 추론 모드로 변경 <br>\n",
        "2. 모델에 입력값으로 input_ids 와 attention mask를 <b>gpu에 할당한 후</b> 입력으로 주고 결과값(outputs) 생성 <br>\n",
        "3. 결과값(outputs) 중 logits 값을 cpu로 할당한 후, argmax 를 통해 예측 레이블(label) 생성 <br>\n",
        "4. 생성된 레이블(label) 을 concat 하여 리스트 형태로 반환"
      ],
      "metadata": {
        "id": "FcqfBHzfL5-f"
      }
    },
    {
      "cell_type": "code",
      "source": [
        "def inference(model, tokenized_sent, device):\n",
        "    \"\"\"학습된(trained) 모델을 통해 결과를 추론하는 function\"\"\"\n",
        "    dataloader = DataLoader(tokenized_sent, batch_size=args.batch_size, shuffle=False)\n",
        "    model.eval()\n",
        "    output_pred = []\n",
        "    for i, data in enumerate(tqdm(dataloader)):\n",
        "        with torch.no_grad():\n",
        "            outputs = model(\n",
        "                input_ids=data[\"input_ids\"].to(device),\n",
        "                attention_mask=data[\"attention_mask\"].to(device),\n",
        "            )\n",
        "        logits = outputs[0]\n",
        "        logits = logits.detach().cpu().numpy()\n",
        "        result = np.argmax(logits, axis=-1)\n",
        "\n",
        "        output_pred.append(result)\n",
        "    return (np.concatenate(output_pred).tolist(),)"
      ],
      "metadata": {
        "id": "I3vSWt8N4_zN"
      },
      "execution_count": 17,
      "outputs": []
    },
    {
      "cell_type": "markdown",
      "source": [
        "####3-3.infer_and_eval 함수 정의\n",
        "- 학습된(fine-tuned) 모델로 추론(infer)한 후 예측한 결과를 평가(evaluation)하는 함수\n",
        "\n",
        "<blockquote>\n",
        "1. 사용할 gpu를 device에 할당해준다. <br>\n",
        "2. tokenizer와 model을 불러온후, model을 device에 할당해준다. <br>\n",
        "3. 추론에 사용될 news_dataset 을 불러온다.<br>\n",
        "4. model 과 news_dataset을 입력으로 주고 추론(infer)을 진행한다. <br>\n",
        "5. test data 의 레이블(label)과 예측값(pred)을 비교하여 평가지표를 계산한다.<br>\n",
        "6. 최종 예측값을 csv 형태로 저장해준다. <br>"
      ],
      "metadata": {
        "id": "0qPjsCcSL7LK"
      }
    },
    {
      "cell_type": "code",
      "source": [
        "def infer_and_eval():\n",
        "    \"\"\"학습된 모델로 추론(infer)한 후에 예측한 결과(pred)를 평가(eval)\"\"\"\n",
        "    # set device\n",
        "    device = torch.device(\"cuda:0\" if torch.cuda.is_available() else \"cpu\")\n",
        "\n",
        "    # set model & tokenizer\n",
        "    tokenizer, model = load_model_for_inference()\n",
        "    model.to(device)\n",
        "\n",
        "    # set data\n",
        "    news_train_dataset, news_val_dataset, news_test_dataset, test_dataset = prepare_dataset(args.dataset_dir,tokenizer,args.max_len)\n",
        "\n",
        "    # predict answer\n",
        "    pred_answer = inference(model, news_test_dataset, device)  # model에서 class 추론\n",
        "    print(\"--- Prediction done ---\")\n",
        "\n",
        "    # evaluate between label and prediction\n",
        "    labels = test_dataset['label'].values\n",
        "    pred = pred_answer[0]\n",
        "\n",
        "    acc = accuracy_score(labels, pred)\n",
        "    f1 = f1_score(labels, pred, average='macro')\n",
        "    print(f\" ----- accuracy:{acc * 100:.1f}% -----\")\n",
        "    print(f\"----- f1_score(macro): {f1 * 100:.1f}% ------\")\n",
        "\n",
        "    # make csv file with predicted answer\n",
        "    output = pd.DataFrame(\n",
        "        {\n",
        "            \"title\": test_dataset[\"newsTitle\"],\n",
        "            \"cleanBody\": test_dataset[\"newsContent\"],\n",
        "            \"clickbaitClass\": pred,\n",
        "        }\n",
        "    )\n",
        "\n",
        "    # 최종적으로 완성된 예측한 라벨 csv 파일 형태로 저장.\n",
        "    result_path = \"./prediction/\"\n",
        "    if not os.path.exists(result_path):\n",
        "        os.makedirs(result_path)\n",
        "    output.to_csv(\n",
        "        os.path.join(result_path,\"result.csv\"), index=False\n",
        "    )\n",
        "    print(\"--- Save result ---\")\n",
        "    return output"
      ],
      "metadata": {
        "id": "AMt-HzBJsYC6"
      },
      "execution_count": 18,
      "outputs": []
    },
    {
      "cell_type": "markdown",
      "source": [
        "- 추론 및 평가 진행 후 결과값 10개까지 출력"
      ],
      "metadata": {
        "id": "eym_XgeZL9OY"
      }
    },
    {
      "cell_type": "code",
      "source": [
        "output_df = infer_and_eval()\n",
        "output_df.head(10)"
      ],
      "metadata": {
        "id": "6FcGrktkppRP",
        "colab": {
          "base_uri": "https://localhost:8080/",
          "height": 1000
        },
        "outputId": "3b482fb1-3f76-47ed-e1d4-899762aa4e30"
      },
      "execution_count": 19,
      "outputs": [
        {
          "output_type": "stream",
          "name": "stdout",
          "text": [
            "dataframe 의 형태\n",
            "   Unnamed: 0 newsCategory newsSubcategory                        newsTitle  \\\n",
            "0       12529           경제           금융/증권  김종민 대전산단협회장 “산단 발전과 인식변화 위해 노력”   \n",
            "1        4815           경제              유통     힐튼 가든 인, 내달 1일 루프톱 야외 수영장 개장   \n",
            "2       11556           경제           유통/쇼핑                    이마트에서 겨울패션 충전   \n",
            "3       11798           경제           유통/쇼핑      새 통큰상품 기대하세요…롯데마트 창립17주년 행사   \n",
            "4       15381           경제            대덕특구              추석 열차 승차권 10~11일 예매   \n",
            "\n",
            "                                         newsContent  label  \n",
            "0  “대전산업단지 발전과 인식 변화를 위해 최선의 노력을 다하겠다.” 제14대 대전산업...      1  \n",
            "1  힐튼 가든 인 서울 강남은 다음달 1일부터 루프톱 야외 수영장을 오픈, 온수풀을 가...      0  \n",
            "2  이마트가 지속되는 한파에 끝이 보이지 않는 겨울을 이기기 위한 비법으로 겨울 패션 ...      1  \n",
            "3  롯데마트는 창립 17주년을 맞아 다양한 '통큰 상품'을 새롭게 출시한다고 26일 밝...      1  \n",
            "4  올해 추석 연휴(9월 9~14일) 열차 승차권(좌석지정 승차권) 예매가 오는 10일...      1  \n",
            "dataframe 의 형태\n",
            "   Unnamed: 0 newsCategory newsSubcategory  \\\n",
            "0       21851           경제              산업   \n",
            "1        1409           경제            경제일반   \n",
            "2       15087           경제          건설/부동산   \n",
            "3        8527           경제              정책   \n",
            "4        9157           경제              정책   \n",
            "\n",
            "                                    newsTitle  \\\n",
            "0            본그룹 \\\"일상 속 걷기로 비대면 기부 캠페인 참여해요\\\"   \n",
            "1       \\\"그림 완성하고 미니 콘서트도\\\" 아이파크몰, 체험형 콘텐츠 강화   \n",
            "2  LH 미분양아파트 소진 '진땀', 공급실적 올리기위해 알선수수료까지 지원키로   \n",
            "3       신한銀, 비대면 '땡겨요 사업자 대출' 출시…최대 1000만원 가능   \n",
            "4     [신년사]김현수 농식품부 장관 \\\"농업, 데이터 기반 첨단산업 변모\\\"   \n",
            "\n",
            "                                         newsContent  label  \n",
            "0  국내 대표 한식 프랜차이즈 기업 본아이에프가 속한 '본그룹'이 오늘부터 내달 16일...      1  \n",
            "1  HDC아이파크몰은 고객이 직접 참여하고 경험할 수 있는 체험형 콘텐츠를 통해 오프라...      0  \n",
            "2  연말을 앞두고 한국토지주택공사(LH) 대전충남지역본부가 아파트 공급실적을 끌어올리기...      1  \n",
            "3  신한은행은 시중은행 최초로 땡겨요 입점 개인사업자를 위한 신용대출 상품인 '땡겨요 ...      0  \n",
            "4  김현수 농림축산식품부 장관은 농업을 데이터 기반의 첨단산업으로 변모시키고 젊은 인재...      0  \n",
            "tokenizer 에 들어가는 데이터 형태\n",
            "['신한카드-제주테크노파크, 데이터 기반 ESG 업무협약[SEP]신한카드는 제주지역의 산업발전 지역혁신 거점 공공기관인 제주테크노파크와 \\'데이터 기반 제주 ESG 강화를 위한 공동연구\\'와 관련한 업무협약을 체결했다고 19일 밝혔다.\\n제주시 제주테크노파크에서 전날 열린 협약식에는 김일봉 신한카드 라이프사업본부 본부장과 장석호 제주테크노파크 디지털융합센터 센터장 등이 참석했다.\\n신한카드 관계자는 데일리임팩트에 \\\\\"이번 협약을 통해 양 기관은 신한카드의 소비 데이터 기반 빅데이터와 제주테크노파크가 보유한 공공데이터를 융합해 제주 지역 ESG 강화를 위한 다양한 공동연구를 전개해나갈 것\\\\\"이라고 설명했다.\\n먼저 배달음식 수요 확대, 1인 가구 증가 등의 다양한 요인에 따른 식습관 변화로 인한 쓰레기 배출량 연관관계 분석에 나선다.\\n이를 통해 제주 지역 음식물 쓰레기 배출량을 예측하고 쓰레기 배출량 감소 방안 등을 도출해 제주 지역 환경 개선을 위한 공동 연구를 추진한다는 계획이다.\\n특히 국내 최초로 개발 중인 카드 소비 기반 탄소배출지수인 \\'신한 그린 인덱스(Green Index)\\'를 활용해 친환경 소비를 유도하는 마케팅을 실시하는 등 제주 지역의 ESG 활동 강화에 기여할 수 있을 것으로 보고 있다.\\n이외에도 신한카드는 제주 지역 기업들의 데이터 분석·활용 능력 강화를 위한 컨설팅 진행 등 다양한 사회적 활동을 진행해 제주 지역 데이터 경제를 활성화할 방침이다.\\n한편 신한카드는 신한금융그룹의 새로운 비전인 \\'더 쉽고 편안한, 더 새로운 금융\\'과 연계해 총 170여개의 대한민국을 대표하는 다양한 분야의 공공기관과 민간기업을 대상으로 450여개 프로젝트를 수행하며 데이터 협업을 강화해 나가고 있다.', '코스피 2700·코스닥 900선 하회 출발…우크라이나 교전·물가상승 우려[SEP]코스피와 코스닥지수 모두 하락 출발했다.\\n러시아와 우크라이나 교전과 이에 따른 인플레이션(물가상승) 우려로 인해 코스피는 한 때 2676선까지 밀렸다.\\n7일 오전 10시 코스피는 전거래일대비 1.82%(49.27포인트) 하락한 2664.16을 가리키고 있다.\\n이날 코스피는 전 거래일대비 1.23%(30.26 포인트) 내린 2680.17에 장을 출발해 장 초반 낙폭을 키우는 모습이다.\\n지난 4일(현지시간) 견조한 미국 고용지표에도 불구하고 러시아가 우크라이나의 유럽 최대 원자력 발전소를 포격한 사실이 알려지며 투자심리를 위축한 것으로 풀이된다.\\n러시아와 우크라이나는 7일(현지시간) 휴전 및 민간인 대피를 위한 제3차 협상을 앞두고 있지만 긴장 상황은 여전하다.\\n6일(현지시간) 러시아가 루마니아 등 우크라이나 인접국에 우크라이나 전투기를 발진시킬 경우 전쟁에 개입한 것으로 간주하겠다고 경고하는 등 상황이 악화될 가능성에 투자심리가 크게 위축된 것으로 풀이된다.\\n미국 증시는 지난 4일(현지시간) 우크라이나에 위치한 유럽 최대 원자력 발전소가 러시아의 포격을 받았다는 소식에 하락 출발, 하락 마감했다.\\n2월 비농업 고용자 수가 예상치를 크게 뛰며 지난해 7월 이후 가장 높은 숫자를 기록했지만 전쟁에 따른 물가상승 우려가 더 큰 영향을 미친 것이다.\\n이 시각 현재 투자자 동향을 보면 외국인과 기관은 각각 3557억원, 4057억원을 팔아치운 반면 개인은 홀로 7562억원을 순매수하고 있다.\\n시가총액 상위 종목들도 대부분 하락세를 보이고 있다.\\n삼성전자는 전거래일 대비 1.96% 하락한 7만100원에 거래 중이다.\\n이외 SK하이닉스(-4.02%), 네이버(-2.99%), 삼성바이오로직스(-1.68%), 카카오 (-1.80%), LG화학(-3.36%), 현대차(-1.45%), 삼성SDI(-2.65%), 기아(-2.74%), 포스코(-1.37%) 등 시총 상위 10종목 모두 내림세다.\\n업종별로 보면 보험(-2.66%),섬유·의복(-2.56%), 금융업(-2.42%), 음식료품(-2.32%), 증권(-2.28%), 화학(-2.19%), 전기/전자(-2.11%), 은행(-2.01%) 순의 하락세를 보였다.\\n같은시각 코스닥지수는 전 거래일 대비 1.47%(13.22포인트) 하락한 887.74에 거래 중이다.\\n이날 코스닥지수는 전 거래일 대비 1.22%(11.01 포인트) 내린 889.95에 개장했다.\\n투자자별 동향을 보면 역시 개인 홀로 728억원치를 순매수한 반면 외국인과 기관은 각각 3747억원, 4173억원을 순매도했다.\\n업종별로 보면 IT부품이 2.97% 하락하며 가장 큰 낙폭을 보였다.\\n통신장비(-2.49%), 종이/목재(-2.26%), 반도체 -1.97%), 운송장비/부품(-2.09%), 화학(-2.02%)등 거의 전 업종이 하락하고 있다.\\n비금속만 유일하게 1.32% 상승 중이다.', '물 대신 CO2로 빨래를?…LG전자, \\'물 없는 세탁기\\' 나온다[SEP]물이나 기름 대신 이산화탄소로 의류를 세탁하는 \\'CO2 세탁기\\'가 나온다.\\n그동안 규제에 가로막혀 제품 출시가 불가능했지만 규제 샌드박스(규제 유예)를 통해 상용화의 길이 열렸다.\\n버스, 지하철 광고와 마찬가지로 서울시가 운영하는 공유자전거 서비스를 활용한 옥외광고도 허용된다.\\n1일 산업통상자원부에 따르면 지난달 30일 개최한 \\'2021년 제6차 산업융합 규제특례심의위원회\\'에서 CO2 세탁기를 포함해 실증특례 10건, 임시허가 5건 등 총 15건의 규제특례를 승인했다.\\n이번에 규제특례 승인을 받은 LG전자의 CO2 세탁기는 물 또는 기름을 사용하지 않고 액체 상태의 이산화탄소를 순환시켜 친환경 세탁이 가능토록 한다.\\n고압가스안전관리법상 CO2를 압축, 액화하는 것은 고압가스 제조행위로 상하좌우 8m 이격, 방호벽 설치, 안전관리자 선임 등 의무를 적용받기 때문에 현행 규제상 CO2 세탁기 상용화는 불가능하다.\\n규제특례심의위는 사고 발생에 대비해 산업부가 제시한 적정압력 모니터링, 방호벽 설치, 가스누출 검지설비 설치 등 안전조치 사항을 전제로 CO2 세탁기를 조건부로 승인했다.\\nCO2 세탁기가 세탁 용제를 쓰지 않아 친환경적이고, 해외에서 이미 상용화된 제품이라는 점도 고려했다.\\nLG전자는 CO2 세탁기를 자체 연구소 내에 설치, 2년간 시험운영한 후 안전성이 입증되면 일반 상가 내 세탁소 설치가 가능하도록 임시허가를 신청할 계획이다.\\n산업부 관계자는 \\\\\"향후 CO2 세탁기 상용화 시에는 물과 기름을 사용하지 않는 친환경 세탁방식이 확산될 수 있어 환경오염을 방지하고 탄소중립을 달성하는데 기여할 것\\\\\"이라고 밝혔다.\\n서울시가 신청한 공유자전거 차체를 활용한 광고 서비스에 대한 실증특례도 승인됐다.\\n지금은 옥외광고물법 시행령상 옥외광고물 표시대상에 자전거가 포함되지 않아 공유자전거를 이용한 광고 서비스 제공은 불가능하다.\\n그러나 앞으로는 공유자전거 바구니, 프레임, 앞바퀴 커버 등을 통한 광고가 가능해진다.\\n아울러 ▲셀프 수소충전소 구축 ▲과금형 콘센트를 활용한 전기차 저장 전력의 차량 외부 공급 서비스 ▲사용후 전기차 배터리 재사용을 통한 태양광 가로등 ▲공원 자율주행 순찰로봇 ▲재외국민 비대면 진료·상담 서비스 등에 대한 실증특례도 승인을 받았다.\\n이번 규제특례 승인 15건을 포함해 산업융합 규제특례심의위는 총 198건의 과제를 승인했다.\\n이를 통해 107개 기업이 사업을 개시해 매출 789억원, 투자 2462억원, 신규고용 403명 창출하는 성과를 거뒀다.', \"한가위 세일… 한아름 안고 가세요[SEP]▲ 상품권ㆍ기프트카드로 스마트한 선물 추석명절을 앞두고 20일 다양한 금액의 갤러리아 상품권과 기프트 카드가 갤러리아 타임월드점에서 판매돼 한복을 곱게 차려입은 직원들이 상품권과 기프트 카드를 들어보이고 있다.\\n손인중 기자 백화점업계가 추석을 1주일여 앞두고 다양한 선물전과 브랜드세일을 마련, 고객몰이에 나선다. 20일 백화점업계에 따르면 갤러리아백화점 타임월드는 청과, 정육, 건어물 등 식품류 선물세트와 제수용품 특별코너, 브랜드세일 등 다양한 상품의 선물전을 진행한다.\\n지하 2층 식품관에서는 제수용품 특별전, '10+1' 선물세트 행사도 펼친다.\\n지하 1층에서는 브랜드별 일정기간 동안 할인된 가격에 구입할 수 있는 브랜드데이를 실시하며 패션잡화 특집전도 진행, 실속 쇼핑의 기회를 제공한다. 5층 남성의류 매장에서는 구매금액에 따른 풍성한 사은선물을 증정하고, 8층 행사장에서는 효도선물 제안전으로 전시상품에 한 해 최대 40% 할인 판매한다.\\n대전 롯데백화점도 층별로 다양한 추석 선물전과 더불어 다음달 2일까지 유명 브랜드세일을 펼쳐 10~30% 할인된 금액에 판매한다.\\n지하 1층 식품관에서는 건강식품과 청과, 정육 등 선물세트가 마련돼 있으며 구매 금액에 따라 사은행사를 펼쳐 추가 혜택도 받을 수 있다. 1층 화장품 매장에서는 브랜드별 선물세트를 선보이고, 5층 매장에서는 유명 브랜드의 셔츠, 넥타이 선물상품전이 진행된다.\\n9층 특설매장에서는 35개 브랜드가 참여하는 '2012 여성 트렌치코트 Fair'가 펼쳐져 최대 70% 할인된 금액에 판매된다.\\n백화점세이도 구매금액에 따른 5% 상품권 또는 사은선물 행사를 진행하고, 5만원 이상 구매고객에게 양말을 증정한다.\\n지하 1층 슈퍼에서는 쇼핑객들의 부담은 덜고 격식은 갖출 수 있는 가격대별 다양한 선물세트를 마련했다.\\n백화점 관계자는 “추석을 앞두고 풍성하고 여유로운 한가위가 될 수 있도록 다양한 상품을 저렴하게 판매, 실속 쇼핑의 기회를 제공하고 있다”고 말했다.\", \"KT&G 지역사회공헌도 '인색'[SEP]대전에 본사를 두고 있는 대기업 KT&G가 대전상공회의소 회비를 10년 가까이 미납한 것으로 밝혀진데 이어, 지역 사회공헌활동에도 인색한 것으로 알려져 시민들로부터 곱지 않은 시선을 받고 있다.\\n대전사회복지공동모금회가 공개한 최근 10년 동안 KT&G의 기부현황 자료에 따르면, 2009년까지만 기부금을 후원했을 뿐, 2010년 이후부터는 기부가 전무한 것으로 확인됐다.\\n사회복지공동모금회는 지난해 말 KT&G 서울 사옥(사회공헌부)을 방문해 협조를 요청했지만, KT&G 측은 사회공헌활동 방식 전환 등을 이유로 이를 받아들이지 않은 것으로 알려졌다.\\n이런 가운데 지난해 지역에서 하나은행 충청사업본부를 비롯해 한국전자통신연구원(ETRI), 한라공조, 우성사료, 삼아제약, 계룡건설 등은 대전사회복지공동모금회에 1억원 이상의 기부금을 전달한 것으로 조사됐다.\\n기부에 인색한 KT&G와는 대조적이다.\\n또 KT&G는 기업들의 도움이 절실한 대전시티즌에도 후원을 하지 않고 있는 것으로 전해졌다.\\n대전시티즌에 따르면 KT&G는 2009년까지 매년 거액의 후원금을 지원하면서, 시민구단의 든든한 후원자 역할을 했다.\\n그러나 2010년 이후부터는 후원을 끊은 상태다.\\n반면, 대전도시공사를 비롯해 하나은행, 한라공조, 호반건설 등은 지난해 대전시티즌에 1억원 이상의 후원금을 지원했다.\\n시티즌 측은 “KT&G는 2009년까지 광고계약에 따라 후원금을 지원했으나, 계약이 끝난 이후에는 지원을 하지 않고 있다”고 설명했다.\\n이에 대해 일각에서는 KT&G가 지역 사회공헌활동에 무관심하다는 목소리가 나오고 있다.\\n대전지역 중소기업 한 관계자는 “KT&G는 대전을 대표하는 대기업으로, 지역 기업들의 사회공헌활동을 주도적으로 이끌어 가는 모습을 보여줄 필요성이 있다고 본다”고 지적했다.\\n이와 관련 서울에 있는 KT&G 사회공헌부 측은 회사의 사회공헌활동 방식을 전환했을 뿐이라고 설명했다.\\n사회공헌부 관계자는 “대전시티즌과 사회복지공동모금회에 후원을 하다, 최근 들어 하지 않고 있다. 후원이나 협찬 등 간접적인 봉사활동을 줄이면서, 직접적으로 직원들이 체험하는 KT&G 만의 사회활동으로 변환해 가고 있다”면서 “대전사회복지공동모금회의 협조방문이 있었지만, 도움을 주지 못했다”고 말했다.\"]\n",
            "tokenizing 된 데이터 형태\n",
            "[Encoding(num_tokens=128, attributes=[ids, type_ids, tokens, offsets, attention_mask, special_tokens_mask, overflowing]), Encoding(num_tokens=128, attributes=[ids, type_ids, tokens, offsets, attention_mask, special_tokens_mask, overflowing]), Encoding(num_tokens=128, attributes=[ids, type_ids, tokens, offsets, attention_mask, special_tokens_mask, overflowing]), Encoding(num_tokens=128, attributes=[ids, type_ids, tokens, offsets, attention_mask, special_tokens_mask, overflowing]), Encoding(num_tokens=128, attributes=[ids, type_ids, tokens, offsets, attention_mask, special_tokens_mask, overflowing])]\n",
            "tokenizer 에 들어가는 데이터 형태\n",
            "['세종엠코타운 특별공급 1.64대 1[SEP]세종엠코타운의 이전 기관 종사자 특별공급 1차 경쟁률이 1.64대 1로 마감됐다.\\n9일 행정도시건설청에 따르면 현대엠코는 지난 8일부터 이날까지 이전 기관 종사자를 대상으로 세종엠코타운(1-3생활권 M6블록) 특별공급 1차 청약을 받았다.\\n전체 1940세대 중 특별공급 물량은 1358세대(70%). 이틀간 최종 2239명이 청약에 나서 합계 경쟁률 1.64대 1을 기록했다.\\n84㎡ 쏠림 현상이 강하게 나타나 1차에서 마감됐고, 59㎡는 미달됐다.\\n84㎡는 499세대 청약가능 물량 중 1738명이 신청, 3.48대 1의 경쟁률을 나타냈다.\\n반면 59㎡의 경우, A타입이 743세대 모집에 467명이 몰려 0.62대1, B타입은 116세대에 34명 신청으로 0.29대 1에 그쳤다.\\n2차는 오는 13일 진행되고, 청약가능 물량은 59㎡ A타입 276세대, B타입 82세대 등 모두 358세대다.\\n2차 청약 후 남은 세대는 15일부터 진행되는 일반 청약물량으로 전환된다.\\n건설청 관계자는 “중앙 공무원들이 전반적으로 84㎡에 선호도를 보였다”며 “가족 동반 이주를 원하는 경향과 투자가치 측면에서 이 같은 선택을 한 것으로 분석된다”고 말했다.', 'IBK기업은행, 5억달러 규모 \\'코로나 지원\\' 채권 발행 성공[SEP]IBK기업은행이 코로나19 금융 지원에 사용할 목적으로 5억달러 규모의 외화 소셜본드 발행에 성공했다고 16일 밝혔다.\\n이번 채권 만기는 5년이며 미국 국채 금리에 72.5bp를 가산한 수준인 1.04% 고정금리로 발행됐다.\\n기업은행 관계자는 \\\\\"코로나19에 따른 시장 변동성 확대에도 불구하고 한국물 채권에 대한 투자자들의 견조한 수요를 통해 낮은 금리로 채권 발행에 성공했다\\\\\"고 밝혔다.\\n소셜 본드란 중소기업 지원, 일자리 창출, 취약계층 지원 등 사회문제 해결을 위한 목적에 자금의 용도가 제한되는 특수목적 채권이다.\\n환경·사회·지배구조(ESG)채권 중의 하나다.\\n기업은행은 2018년 8월 한국 기업 중 처음으로 소셜본드를 발행해 5억달러를 조달한 바 있다.\\n이로써 기업은행이 발행한 외화 소셜본드는 총 10억달러 규모로 늘었다.\\n기업은행 관계자는 이날 미디어SR에 \\\\\"이번 채권을 통해 발행한 자금은 기존에 기업은행이 진행하는 코로나19 피해 소상공인, 중소기업 지원에 사용될 것\\\\\"이라면서 \\\\\"내년 7, 8월경 홈페이지를 통해 자금 집행 결과, ESG 효과 등을 게시할 계획\\\\\"이라고 말했다.\\n오는 7월에는 지난 2018년 발행한 5억달러 규모의 소셜본드 집행 결과가 기업은행 홈페이지를 통해 공시될 예정이다.\\n윤종원 기업은행장은 이번 소셜본드 발행과 관련해 \\\\\"각국 중앙은행, 국제기구 등 다양한 투자자들의 관심이 성공적인 채권 발행으로 이어졌다\\\\\"며 \\\\\"앞으로도 기업은행은 사회적 책임을 다하기 위해 노력할 것\\\\\"이라고 강조했다.\\n한편 국내 은행이 한국물 시장에서 코로나19 관련 채권을 발행한 것은 지난 4월 KB국민은행에 이어 기업은행이 두 번째다.', '동원F&B-투썸플레이스 \\'맞손\\'…식물성 대체육 샌드위치 출시[SEP]동원F&B(대표 김재옥)가 프리미엄 디저트 카페 \\'투썸플레이스\\'와 손잡고 식물성 대체육 샌드위치 \\'비욘드미트 파니니\\' 2종(비욘드미트 더블 머쉬룸 파니니, 비욘드미트 커리 파니니)을 선보인다고 24일 밝혔다. \\'비욘드미트 파니니\\' 2종은 동원F&B가 2019년부터 미국에서 수입해 국내에 독점 판매하고 있는 식물성 대체육 브랜드 \\'비욘드미트(Beyond Meat)\\'의 \\'비욘드비프(Beyond Beef)\\' 제품을 넣은 샌드위치다.\\n새송이 버섯과 표고 버섯을 넣어 풍미를 더한 \\'비욘드미트 더블 머쉬룸 파니니\\'와 향긋한 커리 소스를 넣은 \\'비욘드미트 커리 파니니\\' 등 2종으로 구성됐다. \\'비욘드미트\\'는 2009년 설립된 미국의 스타트업으로 콩과 버섯, 호박 등에서 추출한 단백질로 100% 식물성 대체육을 만드는 업체다.\\n비욘드미트의 식물성 대체육은 환경호르몬이나 항생제 등이 들어 있지 않아 비건(Vegan) 소비자들은 물론 환경과 건강을 생각하는 소비자들로부터 각광 받고 있다.\\n비욘드미트의 대표 제품인 \\'비욘드버거(Beyond Burger)\\'는 출시 3년 만에 전세계 판매량 5,000만개를 돌파했으며 국내에서도 이마트를 비롯한 할인마트와 백화점, 온라인몰 등을 통해 현재까지 약 15만개 이상 판매됐다.\\n동원F&B는 이러한 호응에 힘입어 지난해 4월 \\'비욘드비프\\'와 \\'비욘드소시지\\'를 추가로 출시해 국내 대체육 시장 공략을 강화하고 있다.\\n동원F&B 관계자는 미디어SR에 \\\\\"건강과 환경에 대한 관심이 늘면서 밀레니얼 세대 사이에서는 \\'가치소비\\'가 트렌드로 자리잡고 있다\\\\\"며 \\\\\"국내 대체육 시장을 선도하는 기업으로서, \\'가치소비\\'를 원하는 소비자들을 위해 식물성 대체육을 활용한 다양한 신제품을 선보일 것\\\\\"이라고 말했다.', '트랜스베버리지, \\'와일드 터키 12년\\' 신제품 출시…한국서 처음 선봬[SEP]트랜스베버리지는 프리미엄 버번 위스키 \\'와일드 터키(Wild Turkey) 12년\\' 신제품을 한국에서 처음 출시한다고 2일 밝혔다.\\n와일드 터키 12년은 위스키 업계의 전설적인 부자 마스터 디스틸러인 지미 러셀(Jimmy Russell)과 에디 러셀(Eddie Russell)의 노하우가 담긴 와일드 터키 최상급 제품이다.\\n오크통에서 최소 12년 이상 숙성된 원액만을 사용해 만들었다.\\n한때 단종됐다가 20년 만에 새로운 패키지로 한국에 처음 선보이게 됐다.\\n와일드 터키 12년은 짙은 구리색에 캐러멜, 참나무 향을 느낄 수 있고 처음에는 달콤한 시트러스와 허브, 바닐라에 이어 피니시로는 스파이스와 함께 오크의 여운이 오래 남는다. \\'와일드 터키 8년\\'도 새로운 패키지로 리뉴얼됐다.\\n와일드 터키 12년과 8년 제품은 모두 50.5도로 나왔다.\\n700㎖ 용량으로 주요 리커 숍, 주류 판매점, 스마트 오더 등을 통해 구매할 수 있다.\\n트랜스베버리지 관계자는 \\\\\"최근 프리미엄 버번 위스키 애호가들이 폭발적으로 늘어나고 있어 와일드 터키 본사에서 한국을 전 세계 가장 중요한 4대 마켓으로 선정했다\\\\\"면서 \\\\\"한국 소비자들의 다양한 니즈를 충족하기 위해 최선을 다할 예정\\\\\"이라고 말했다.', '[CES2022]\\\\\"차원이 다른 화질\\\\\"…삼성디스플레이, TV·모니터용 QD디스플레이 공개[SEP]삼성디스플레이가 4일 오전(현지시간) 미국 라스베이거스에서 열리는 세계 최대 전자·IT 전시회 CES 2022 개막을 앞두고 TV와 모니터용 퀀텀닷(QD) 디스플레이를 공개했다.\\n최근 양산을 시작한 QD디스플레이는 세계 최초로 퀀텀닷을 내재화한, 백라이트가 없는 자발광 디스플레이다.\\n삼성디스플레이는 이날 55형과 65형 TV용 패널과 34형 모니터용 패널 등 총 3종의 제품을 선보였다.\\nQD디스플레이는 기존의 대형 디스플레이가 컬러 필터로 색을 구현하는 것과 달리 독자적인 잉크젯 프린팅 기술로 완성한 \\'QD 발광층\\'을 통해 역대 최고 수준의 색재현력과 넓은 시야각, 밝은 컬러 휘도, 혁신적인 HDR 등을 갖췄다.\\n입자 크기에 따라 다른 색을 내는 반도체 입자인 퀀텀닷은 순도 높은 RGB(빛의 삼원색)를 구현한다.\\n가장 레드에 가까운 레드, 블루에 가까운 블루를 표현하며 현재 상용화된 디스플레이 중 순수한 3원색에 가장 근접한 색을 낸다고 회사 측은 설명했다.\\n또 RGB 픽셀 만으로 색을 구현함으로서 RGB 컬러를 표현할 때도 밝기가 떨어지지 않아 더욱 더 선명한 색을 표현할 수 있다고 덧붙였다.\\nQD디스플레이는 서브 픽셀의 로컬 디밍 기술을 활용해 0.0005nit 이하의 트루 블랙부터 1500nit의 최고 밝기까지 표현 가능하다.\\n이렇게 넓은 휘도 폭 때문에 밝은 곳은 더 밝고 어두운 곳은 보다 어둡게 표현할 수 있으며 아주 어두운 화면에서도 세밀한 명암 표현이 가능하다.\\n삼성디스플레이는 이날 자발광 화질을 갖춘 34형 QHD+ QD디스플레이도 함께 공개했다.\\n모니터용 QD디스플레이는 화질뿐만 아니라 0.1ms의 빠른 응답 속도로 화면이 빠르게 전환되는 순간에도 끊김이나 끌림이 없는 선명한 화질을 구현한다.\\n이에 따라 업계 최고의 게이밍 퍼포먼스 인증인 \\'G-SYNC ULTIMATE\\'에 부합하는 성능도 확보했다.\\n삼성디스플레이는 \\\\\"QD디스플레이가 색감, 화질, 몰입감 등 모든 측면에서 최고의 게이밍 디스플레이로 모니터 시장에 새로운 변화를 몰고 올 것으로 기대한다\\\\\"고 밝혔다.\\n한편 삼성디스플레이는 이날 자사 OLED 패널을 대표하는 고유 기술인 \\'다이아몬드 픽셀\\'도 소개했다.\\n삼성디스플레이의 다이아몬드 픽셀은 인간의 망막이 적색, 녹색, 청색 중 녹색에 가장 민감하게 반응한다는 점에 착안해 녹색 소자 크기를 작고 촘촘하게 늘려서 구성됐다.\\n2013년 갤럭시 S4 OLED 패널에 처음 적용했다.\\n특히 45도 대각선 방향으로 화소를 구성한 다이아몬드 형태의 고유 배열 방식을 통해 높은 선명도와 가시성을 제공한다.\\n이에 따라 직선과 대각선, 날카롭고 정교한 패턴을 정확히 표현하는 데 탁월하다고 삼성디스플레이는 설명했다.']\n",
            "tokenizing 된 데이터 형태\n",
            "[Encoding(num_tokens=128, attributes=[ids, type_ids, tokens, offsets, attention_mask, special_tokens_mask, overflowing]), Encoding(num_tokens=128, attributes=[ids, type_ids, tokens, offsets, attention_mask, special_tokens_mask, overflowing]), Encoding(num_tokens=128, attributes=[ids, type_ids, tokens, offsets, attention_mask, special_tokens_mask, overflowing]), Encoding(num_tokens=128, attributes=[ids, type_ids, tokens, offsets, attention_mask, special_tokens_mask, overflowing]), Encoding(num_tokens=128, attributes=[ids, type_ids, tokens, offsets, attention_mask, special_tokens_mask, overflowing])]\n",
            "tokenizer 에 들어가는 데이터 형태\n",
            "['본그룹 \\\\\"일상 속 걷기로 비대면 기부 캠페인 참여해요\\\\\"[SEP]국내 대표 한식 프랜차이즈 기업 본아이에프가 속한 \\'본그룹\\'이 오늘부터 내달 16일까지 임직원들의 일상 속 걷기를 통해 보양죽을 기부하는 비대면 사회공헌 캠페인 \\'달빛아래 소소걸음\\'을 전개한다고 16일 밝혔다.\\n이번 캠페인은 \\'달빛아래 소소걸음\\'이라는 주제로 진행하게 됐으며, 지난 6월 진행한 1차 \\'소소걸음\\' 캠페인에 이어 2차로 진행되는 임직원 비대면 걸음 기부 프로그램이다.\\n본그룹 관계자는 미디어SR에 \\\\\"이번 캠페인은 깊어지는 겨울과 함께 아름다운 달빛 아래에서 더욱 부지런히 걸으며 정신적ㆍ신체적 건강을 모두 챙기는 것은 물론, 지역사회에도 따뜻한 손길을 다시 한번 내밀자는 뜻을 담았다\\\\\"고 설명했다.\\n지난 1차 캠페인 진행 당시, 임직원 195명이 참여해 최초 목표 걸음 수 대비 11%를 초과한 약 3500만 걸음을 달성하며 적극적인 참여와 높은 관심을 증명했다.\\n본그룹은 이를 통해 말복에 본죽 삼계죽, 전복죽 등으로 이루어진 보양죽 500인분을 홀몸 어르신들께 기부할 수 있었다.\\n이번 2차 \\'달빛아래 소소걸음\\' 역시 걸음 기부 사회 공헌 플랫폼 \\'빅워크\\'와의 제휴를 통해 비대면으로 진행하며, 출퇴근 혹은 개인 운동 시간 등 달빛 아래서 걸을 수 있다면 언제든 손쉽게 참여할 수 있다.\\n목표한 걸음 수를 충족시키면 오는 12월 혹한기 시즌에 맞춰 서울시 취약계층 어르신께 기운을 북돋아 줄 수 있는 본죽 동지팥죽 500인분을 기부할 계획이다.\\n한편 본그룹은 이외에도 올해 \\'코로나19\\' 여파에도 포기하지 않고 임직원들이 힘을 모아 주변 이웃들에게 비대면으로 행할 수 있는 따뜻한 손길을 지속적으로 전해오고 있다.\\n본그룹은 쪽방촌 주민을 위한 면마스크 제작 기부를 비롯해 환경의 날 거리 입양 및 쓰레기 줍깅(줍기+조깅의 합성어) 청각 장애인을 위한 립뷰(lip-view) 마스크\\' 제작 청각 장애인을 돕기 위해 영화의 소리 정보를 자막으로 입힌 \\'배리어프리(barrier free) 영화\\'제작에 참여하는 등 활발하게 비대면 사회공헌 활동을 전개하고 있다.\\n본그룹 김철호 그룹장은 \\\\\"지난 1차\\'소소걸음\\'캠페인에 임직원들의 적극적인 참여와 따뜻한 마음이 더해져 홀몸 어르신들이 든든하게 몸보신 할 수 있는 보양죽을 전달할 수 있었다\\\\\"며 \\\\\"지금껏 보여준 것처럼, 임직원들의 작지만 커다란 노력을 통해 이웃과 지역사회에 선한 영향력을 발휘할 수 있기를 바란다\\\\\"\"고 말했다.', '\\\\\"그림 완성하고 미니 콘서트도\\\\\" 아이파크몰, 체험형 콘텐츠 강화[SEP]HDC아이파크몰은 고객이 직접 참여하고 경험할 수 있는 체험형 콘텐츠를 통해 오프라인 시장 경쟁력 강화에 나선다고 19일 밝혔다.\\n아이파크몰은 리오프닝(경제 활동 재개)이 본격화 됨에 따라 신규 고객 유입과 기존 고객의 재방문율 등을 높이고자 새로운 콘셉트의 체험형 콘텐츠를 시리즈 별로 선보일 것이라고 말했다.\\n첫 번째 콘텐츠는 예체능 시리즈로 가족과 연인, 친구 등 남녀노소 누구나 즐길 수 있는 미술관, 미니 콘서트, 플라워 클래스, 미니카 레이싱 등으로 구성했다.\\n아이파크몰은 카페거리에 최근 MZ세대(밀레니얼+Z세대) 사이에서 큰 인기를 얻고 있는 성수 미술관을 선보였다.\\n누구나 자유롭게 미술작품을 완성할 수 있는 문화생활 공간으로 오는 31일까지 팝업스토어 형식으로 운영된다.\\n가족 단위 고객을 잡기 위한 콘텐츠도 준비했다.\\n4층 더 테라스 야외 공간에서 타미야 \\'2022 코리아 미니카 대회\\'가 21일, 22일 주말 양일간 \\'오픈 클래스\\', \\'팀 대항전 오픈 클래스\\', \\'점프 비기너 클래스(주니어 포함)\\', \\'스피트 스톡 클래스\\' 총 4가지 클래스로 진행된다.\\n반려식물과 플랜테리어(플랜트+인테리어)의 수요가 늘고 있는 것에 맞춰 \\'사라스가든\\'과 함께 하는 원데이 플라워 클래스 \\'센터피스 만들기\\' 체험형 프로그램이 주말간 4층 더 가든에서 진행되며 21일에는 편안하게 클래식 기타연주를 감상 할 수 있는 \\'야마하 미니 콘서트\\'도 즐길 수 있다.\\n아이파크몰 관계자는 \\\\\"오프라인 플랫폼으로서 경쟁력을 강화하기 위한 방법의 핵심은 \\'방문을 해야 하는 이유\\'를 만드는 것\\\\\"이라며 \\\\\"아이파크몰은 고객이 방문 할 때 마다 색다른 경험으로 즐겁게 즐길 수 있는 쇼핑문화를 만들어 나가기 위해 노력할 것\\\\\"이라고 말했다.', \"LH 미분양아파트 소진 '진땀', 공급실적 올리기위해 알선수수료까지 지원키로[SEP]연말을 앞두고 한국토지주택공사(LH) 대전충남지역본부가 아파트 공급실적을 끌어올리기 위해 안간힘을 쏟고 있다.\\n일부 공급 실적이 저조한 물량에 대해서는 공인중개사들을 동원해 알선수수료까지 지원하며 미분양 물량을 소진코자 여념이 없다.\\nLH 대전충남지역본부는 지난 24일 대전지역 공인중개사를 비롯해 LH 공동주택 계약자를 대상으로 미분양 아파트 및 토지 매매를 소개할 경우, 1건당 150만~200만원의 알선수수료를 지원한다는 안내서를 보냈다.\\n대상은 올해 분양된 천동2지구 500여세대 및 준공된 아파트(구성지구, 대동지구, 대신지구, 석촌2지구) 50세대 등 550여세대의 미분양 아파트다.\\n동구지역 부동산 시장이 상대적으로 위축된 나머지 올해 공급실적을 높이기 위해 LH는 평균적으로 1건 당 150만원을 알선수수료로 제공하고 천동2지구 아파트의 전용면적 118㎡에 대해서만 1건당 200만원을 지원키로 했다.\\n도안 신도시를 비롯해 관저지구의 단독주택용지 역시 목표 실적을 채우려면 갈 길이 멀다.\\nLH 대전충남본부는 도안 신도시 753필지, 관저지구 108필지 등 모두 871필지의 단독주택용지에 대한 추첨공급을 다음달께 진행할 예정이다.\\n그러나 부동산 경기 침체에 따라 계약체결이 가능한 물량이 많지 않을 것이라는 예상도 나오면서 각각 수의계약 때 1건당 200만원 안팎의 알선수수료를 공인중개사들에게 지원할 계획이다.\\nLH가 연말을 앞두고 실적 올리기에 박차를 가하는 데는 해마다 실시되는 업무평가를 대비하기 위해서다.\\n올해의 경우에는 대통령 선거도 겹쳐 인사에도 변수가 많을 것으로 예상되는 만큼 내년도 인사결정에서 우위를 차지할 수 있도록 실적관리에 매진하는 분위기다.\\n다만, 최근 들어 노은3지구 보금자리주택에 대한 지역 실수요자들의 기대치가 높은 만큼 LH 대전충남지역본부로서도 계약률에 촉각을 곤두세우고 있다.\\n지역의 한 공인중개사는 “최근 부동산 시장에서 워낙 거래수요가 많지 않아 알선수수료라도 받아볼 생각에 동구지역 아파트 중개에 관심을 두고 있다”며 “하지만 동구지역 미분양 물량을 매입하려는 수요자들이 얼마나 몰려들지는 확신하기는 어렵다”고 말했다.\", '신한銀, 비대면 \\'땡겨요 사업자 대출\\' 출시…최대 1000만원 가능[SEP]신한은행은 시중은행 최초로 땡겨요 입점 개인사업자를 위한 신용대출 상품인 \\'땡겨요 사업자 대출\\'을 출시했다고 6일 밝혔다.\\n이번 상품은 배달 애플리케이션(앱) 플랫폼 참여자인 개인사업자에게 이로운 혜택을 제공하고 배달 플랫폼에서의 상생을 실현하기 위해 개발했다.\\n땡겨요 사업자 대출은 배달앱 플랫폼인 땡겨요에 입점한 개인사업자 고객을 대상으로 대출한도는 신한은행 계좌로 입금되는 매출데이터를 분석해 최대1000만원까지 가능하다.\\n상환방식은 원금균등분할상환방식, 대출만기는 최대 36개월이다.\\n또한 땡겨요에서 발생한 매출정산대금 수령계좌를 신한은행으로 지정하면 0.5%우대금리를 받을 수 있다.\\n이번 상품은 신한 쏠비즈에서 신청할 수 있으며 대출 전 과정을 완전 비대면화해 생업에 바쁜 개인사업자들이 보다 손쉽게 대출 신청 할 수 있도록 구현했다.\\n신한은행 관계자는 \\\\\"선한 시장 조성자 땡겨요의 상생실현과 코로나19로 어려움을 겪는 개인사업자를 위해 이번 상품을 기획했다\\\\\"며 \\\\\"앞으로 땡겨요와 연계한 금융 및 비금융서비스를 통해 개인사업자 대상 신규 콘텐츠를 확대하겠다\\\\\"고 말했다.', '[신년사]김현수 농식품부 장관 \\\\\"농업, 데이터 기반 첨단산업 변모\\\\\"[SEP]김현수 농림축산식품부 장관은 농업을 데이터 기반의 첨단산업으로 변모시키고 젊은 인재를 육성하겠다고 30일 신년사에서 밝혔다.\\n\\\\\"스마트팜 혁신밸리는 단순한 토목공사가 아니다\\\\\"라고 힘주어 말했다.\\n김 장관은 \\\\\"(스마트팜 혁신밸리는) 노동력과 경험에 의존하던 농업을 기술과 데이터에 기반한 첨단 산업으로 바꿀 농업 혁명의 상징\\\\\"이라며 \\\\\"각 혁신밸리의 빅데이터센터에서 축적된 스마트팜 데이터를 민간에 개방하면 딥러닝을 통해 인공지능(AI)이 농업 현장의 문제를 분석하고 대안을 제시할 수 있다\\\\\"고 설명했다.\\n또 \\\\\"농산물 유통까지 스마트하게 변해야 한다\\\\\"며 \\\\\"내년에는 농산물 온라인 도매거래 품목과 물량을 늘리고 농가, 최종 수요자, 식자재 업체 등이 참여하는 온라인 거래 플랫폼을 만들 계획\\\\\"이라고 소개했다.\\n그러면서 \\\\\"이를 통해 농축산물 거래정보가 실시간으로 축적되고 공개돼 유통 빅데이터가 구축되는 것을 기대할 수 있다\\\\\"고 덧붙였다.\\n김 장관은 스마트팜 혁신밸리에서 청년농을 길러내겠다는 목표도 제시했다.\\n그는 \\\\\"전국 4곳의 혁신밸리에서는 스마트 농업에 관한 한 가장 앞선 기술을 배우게 될 것\\\\\"이라며 \\\\\"이렇게 배출될 농업인들이 대한민국 농업의 주역이 될 날이 머지않았다\\\\\"고 말했다.\\n김 장관은 식량안보를 강화하기 위해 밀과 콩 등의 생산·소비 기반을 확충하겠다는 계획도 언급했다.\\n그는 \\\\\"단기적으로 발생할 수 있는 식량위기에 대응하기 위해 국산 쌀, 밀, 콩 등 주요 곡물의 비축을 늘리겠다. 비료 등 필수적인 원자재 수입선도 다변화할 것\\\\\"이라고 공언했다.\\n아울러 내년 상반기에 \\'탄소중립 세부 이행계획\\'을 마련하겠다고 밝혔다.\\n작물이나 가축의 생육 과정에서 발생하는 탄소를 줄이기 위해서다.\\n김 장관은 \\\\\"농업은 기후변화의 영향을 가장 직접적으로 받는 산업인 만큼 지금 변화를 위한 행동에 나서야 한다\\\\\"며 \\\\\"농업인이 탄소배출권을 거래할 수 있도록 돕거나 공익직불제와 연계하는 등 다양한 지원 방안을 고민할 것\\\\\"이라고 말했다.\\n이와 함께 그는 코로나19 사태와 기후변화 등을 거론하면서 \\\\\"저를 비롯한 농림축산식품 공직자는 \\'대전환기\\'에 농업이 새로운 미래를 개척하도록 돕는 \\'액셀러레이터\\'가 될 것\\\\\"이라고 했다.']\n",
            "tokenizing 된 데이터 형태\n",
            "[Encoding(num_tokens=128, attributes=[ids, type_ids, tokens, offsets, attention_mask, special_tokens_mask, overflowing]), Encoding(num_tokens=128, attributes=[ids, type_ids, tokens, offsets, attention_mask, special_tokens_mask, overflowing]), Encoding(num_tokens=128, attributes=[ids, type_ids, tokens, offsets, attention_mask, special_tokens_mask, overflowing]), Encoding(num_tokens=128, attributes=[ids, type_ids, tokens, offsets, attention_mask, special_tokens_mask, overflowing]), Encoding(num_tokens=128, attributes=[ids, type_ids, tokens, offsets, attention_mask, special_tokens_mask, overflowing])]\n",
            "--- tokenizing Done ---\n",
            "--- dataset class Done ---\n"
          ]
        },
        {
          "output_type": "stream",
          "name": "stderr",
          "text": [
            "100%|██████████| 63/63 [00:11<00:00,  5.68it/s]\n"
          ]
        },
        {
          "output_type": "stream",
          "name": "stdout",
          "text": [
            "--- Prediction done ---\n",
            " ----- accuracy:60.6% -----\n",
            "----- f1_score(macro): 37.7% ------\n",
            "--- Save result ---\n"
          ]
        },
        {
          "output_type": "execute_result",
          "data": {
            "text/plain": [
              "                                        title  \\\n",
              "0            본그룹 \\\"일상 속 걷기로 비대면 기부 캠페인 참여해요\\\"   \n",
              "1       \\\"그림 완성하고 미니 콘서트도\\\" 아이파크몰, 체험형 콘텐츠 강화   \n",
              "2  LH 미분양아파트 소진 '진땀', 공급실적 올리기위해 알선수수료까지 지원키로   \n",
              "3       신한銀, 비대면 '땡겨요 사업자 대출' 출시…최대 1000만원 가능   \n",
              "4     [신년사]김현수 농식품부 장관 \\\"농업, 데이터 기반 첨단산업 변모\\\"   \n",
              "5                            충청권 지방은행 설립 속도낸다   \n",
              "6                            지역 하반기 고용시장 '쾌청'   \n",
              "7             삼성전자, 산학협력으로 모바일 기술 개발·인재 육성 가속   \n",
              "8    이영 중기부 장관 후보 \\\"정치하기 위해 스펙 쌓기·기업 이용 안했다\\\"   \n",
              "9                          지방은행 설립 세종시도 힘 보탠다   \n",
              "\n",
              "                                           cleanBody  clickbaitClass  \n",
              "0  국내 대표 한식 프랜차이즈 기업 본아이에프가 속한 '본그룹'이 오늘부터 내달 16일...               1  \n",
              "1  HDC아이파크몰은 고객이 직접 참여하고 경험할 수 있는 체험형 콘텐츠를 통해 오프라...               1  \n",
              "2  연말을 앞두고 한국토지주택공사(LH) 대전충남지역본부가 아파트 공급실적을 끌어올리기...               1  \n",
              "3  신한은행은 시중은행 최초로 땡겨요 입점 개인사업자를 위한 신용대출 상품인 '땡겨요 ...               1  \n",
              "4  김현수 농림축산식품부 장관은 농업을 데이터 기반의 첨단산업으로 변모시키고 젊은 인재...               1  \n",
              "5  충청권 지방은행 설립을 위한 대전시와 지역경제계의 발걸음이 빨라질 것으로 보인다.\\...               1  \n",
              "6  올해 하반기 대전·충청지역의 고용시장이 활기를 띨 전망이다.\\n12일 대전고용노동청...               1  \n",
              "7  삼성전자가 최첨단 모바일 기술 개발과 인재 육성에 속도를 내기 위해 국내 대학들과의...               1  \n",
              "8  이영 중소벤처기업부 장관 후보자는 11일 \\\"정치를 하기 위해 스펙 쌓기를 하거나 ...               1  \n",
              "9  대전시가 추진중인 지방은행 부활 문제가 전국적 이슈로 부상하는 가운데 세종시까지 이...               1  "
            ],
            "text/html": [
              "\n",
              "  <div id=\"df-200a2802-ad6f-4b6c-9731-70d695cbd0ad\" class=\"colab-df-container\">\n",
              "    <div>\n",
              "<style scoped>\n",
              "    .dataframe tbody tr th:only-of-type {\n",
              "        vertical-align: middle;\n",
              "    }\n",
              "\n",
              "    .dataframe tbody tr th {\n",
              "        vertical-align: top;\n",
              "    }\n",
              "\n",
              "    .dataframe thead th {\n",
              "        text-align: right;\n",
              "    }\n",
              "</style>\n",
              "<table border=\"1\" class=\"dataframe\">\n",
              "  <thead>\n",
              "    <tr style=\"text-align: right;\">\n",
              "      <th></th>\n",
              "      <th>title</th>\n",
              "      <th>cleanBody</th>\n",
              "      <th>clickbaitClass</th>\n",
              "    </tr>\n",
              "  </thead>\n",
              "  <tbody>\n",
              "    <tr>\n",
              "      <th>0</th>\n",
              "      <td>본그룹 \\\"일상 속 걷기로 비대면 기부 캠페인 참여해요\\\"</td>\n",
              "      <td>국내 대표 한식 프랜차이즈 기업 본아이에프가 속한 '본그룹'이 오늘부터 내달 16일...</td>\n",
              "      <td>1</td>\n",
              "    </tr>\n",
              "    <tr>\n",
              "      <th>1</th>\n",
              "      <td>\\\"그림 완성하고 미니 콘서트도\\\" 아이파크몰, 체험형 콘텐츠 강화</td>\n",
              "      <td>HDC아이파크몰은 고객이 직접 참여하고 경험할 수 있는 체험형 콘텐츠를 통해 오프라...</td>\n",
              "      <td>1</td>\n",
              "    </tr>\n",
              "    <tr>\n",
              "      <th>2</th>\n",
              "      <td>LH 미분양아파트 소진 '진땀', 공급실적 올리기위해 알선수수료까지 지원키로</td>\n",
              "      <td>연말을 앞두고 한국토지주택공사(LH) 대전충남지역본부가 아파트 공급실적을 끌어올리기...</td>\n",
              "      <td>1</td>\n",
              "    </tr>\n",
              "    <tr>\n",
              "      <th>3</th>\n",
              "      <td>신한銀, 비대면 '땡겨요 사업자 대출' 출시…최대 1000만원 가능</td>\n",
              "      <td>신한은행은 시중은행 최초로 땡겨요 입점 개인사업자를 위한 신용대출 상품인 '땡겨요 ...</td>\n",
              "      <td>1</td>\n",
              "    </tr>\n",
              "    <tr>\n",
              "      <th>4</th>\n",
              "      <td>[신년사]김현수 농식품부 장관 \\\"농업, 데이터 기반 첨단산업 변모\\\"</td>\n",
              "      <td>김현수 농림축산식품부 장관은 농업을 데이터 기반의 첨단산업으로 변모시키고 젊은 인재...</td>\n",
              "      <td>1</td>\n",
              "    </tr>\n",
              "    <tr>\n",
              "      <th>5</th>\n",
              "      <td>충청권 지방은행 설립 속도낸다</td>\n",
              "      <td>충청권 지방은행 설립을 위한 대전시와 지역경제계의 발걸음이 빨라질 것으로 보인다.\\...</td>\n",
              "      <td>1</td>\n",
              "    </tr>\n",
              "    <tr>\n",
              "      <th>6</th>\n",
              "      <td>지역 하반기 고용시장 '쾌청'</td>\n",
              "      <td>올해 하반기 대전·충청지역의 고용시장이 활기를 띨 전망이다.\\n12일 대전고용노동청...</td>\n",
              "      <td>1</td>\n",
              "    </tr>\n",
              "    <tr>\n",
              "      <th>7</th>\n",
              "      <td>삼성전자, 산학협력으로 모바일 기술 개발·인재 육성 가속</td>\n",
              "      <td>삼성전자가 최첨단 모바일 기술 개발과 인재 육성에 속도를 내기 위해 국내 대학들과의...</td>\n",
              "      <td>1</td>\n",
              "    </tr>\n",
              "    <tr>\n",
              "      <th>8</th>\n",
              "      <td>이영 중기부 장관 후보 \\\"정치하기 위해 스펙 쌓기·기업 이용 안했다\\\"</td>\n",
              "      <td>이영 중소벤처기업부 장관 후보자는 11일 \\\"정치를 하기 위해 스펙 쌓기를 하거나 ...</td>\n",
              "      <td>1</td>\n",
              "    </tr>\n",
              "    <tr>\n",
              "      <th>9</th>\n",
              "      <td>지방은행 설립 세종시도 힘 보탠다</td>\n",
              "      <td>대전시가 추진중인 지방은행 부활 문제가 전국적 이슈로 부상하는 가운데 세종시까지 이...</td>\n",
              "      <td>1</td>\n",
              "    </tr>\n",
              "  </tbody>\n",
              "</table>\n",
              "</div>\n",
              "    <div class=\"colab-df-buttons\">\n",
              "\n",
              "  <div class=\"colab-df-container\">\n",
              "    <button class=\"colab-df-convert\" onclick=\"convertToInteractive('df-200a2802-ad6f-4b6c-9731-70d695cbd0ad')\"\n",
              "            title=\"Convert this dataframe to an interactive table.\"\n",
              "            style=\"display:none;\">\n",
              "\n",
              "  <svg xmlns=\"http://www.w3.org/2000/svg\" height=\"24px\" viewBox=\"0 -960 960 960\">\n",
              "    <path d=\"M120-120v-720h720v720H120Zm60-500h600v-160H180v160Zm220 220h160v-160H400v160Zm0 220h160v-160H400v160ZM180-400h160v-160H180v160Zm440 0h160v-160H620v160ZM180-180h160v-160H180v160Zm440 0h160v-160H620v160Z\"/>\n",
              "  </svg>\n",
              "    </button>\n",
              "\n",
              "  <style>\n",
              "    .colab-df-container {\n",
              "      display:flex;\n",
              "      gap: 12px;\n",
              "    }\n",
              "\n",
              "    .colab-df-convert {\n",
              "      background-color: #E8F0FE;\n",
              "      border: none;\n",
              "      border-radius: 50%;\n",
              "      cursor: pointer;\n",
              "      display: none;\n",
              "      fill: #1967D2;\n",
              "      height: 32px;\n",
              "      padding: 0 0 0 0;\n",
              "      width: 32px;\n",
              "    }\n",
              "\n",
              "    .colab-df-convert:hover {\n",
              "      background-color: #E2EBFA;\n",
              "      box-shadow: 0px 1px 2px rgba(60, 64, 67, 0.3), 0px 1px 3px 1px rgba(60, 64, 67, 0.15);\n",
              "      fill: #174EA6;\n",
              "    }\n",
              "\n",
              "    .colab-df-buttons div {\n",
              "      margin-bottom: 4px;\n",
              "    }\n",
              "\n",
              "    [theme=dark] .colab-df-convert {\n",
              "      background-color: #3B4455;\n",
              "      fill: #D2E3FC;\n",
              "    }\n",
              "\n",
              "    [theme=dark] .colab-df-convert:hover {\n",
              "      background-color: #434B5C;\n",
              "      box-shadow: 0px 1px 3px 1px rgba(0, 0, 0, 0.15);\n",
              "      filter: drop-shadow(0px 1px 2px rgba(0, 0, 0, 0.3));\n",
              "      fill: #FFFFFF;\n",
              "    }\n",
              "  </style>\n",
              "\n",
              "    <script>\n",
              "      const buttonEl =\n",
              "        document.querySelector('#df-200a2802-ad6f-4b6c-9731-70d695cbd0ad button.colab-df-convert');\n",
              "      buttonEl.style.display =\n",
              "        google.colab.kernel.accessAllowed ? 'block' : 'none';\n",
              "\n",
              "      async function convertToInteractive(key) {\n",
              "        const element = document.querySelector('#df-200a2802-ad6f-4b6c-9731-70d695cbd0ad');\n",
              "        const dataTable =\n",
              "          await google.colab.kernel.invokeFunction('convertToInteractive',\n",
              "                                                    [key], {});\n",
              "        if (!dataTable) return;\n",
              "\n",
              "        const docLinkHtml = 'Like what you see? Visit the ' +\n",
              "          '<a target=\"_blank\" href=https://colab.research.google.com/notebooks/data_table.ipynb>data table notebook</a>'\n",
              "          + ' to learn more about interactive tables.';\n",
              "        element.innerHTML = '';\n",
              "        dataTable['output_type'] = 'display_data';\n",
              "        await google.colab.output.renderOutput(dataTable, element);\n",
              "        const docLink = document.createElement('div');\n",
              "        docLink.innerHTML = docLinkHtml;\n",
              "        element.appendChild(docLink);\n",
              "      }\n",
              "    </script>\n",
              "  </div>\n",
              "\n",
              "\n",
              "    <div id=\"df-5068002f-ee37-41e9-bf2c-ccabbeb1bf2e\">\n",
              "      <button class=\"colab-df-quickchart\" onclick=\"quickchart('df-5068002f-ee37-41e9-bf2c-ccabbeb1bf2e')\"\n",
              "                title=\"Suggest charts\"\n",
              "                style=\"display:none;\">\n",
              "\n",
              "<svg xmlns=\"http://www.w3.org/2000/svg\" height=\"24px\"viewBox=\"0 0 24 24\"\n",
              "     width=\"24px\">\n",
              "    <g>\n",
              "        <path d=\"M19 3H5c-1.1 0-2 .9-2 2v14c0 1.1.9 2 2 2h14c1.1 0 2-.9 2-2V5c0-1.1-.9-2-2-2zM9 17H7v-7h2v7zm4 0h-2V7h2v10zm4 0h-2v-4h2v4z\"/>\n",
              "    </g>\n",
              "</svg>\n",
              "      </button>\n",
              "\n",
              "<style>\n",
              "  .colab-df-quickchart {\n",
              "      --bg-color: #E8F0FE;\n",
              "      --fill-color: #1967D2;\n",
              "      --hover-bg-color: #E2EBFA;\n",
              "      --hover-fill-color: #174EA6;\n",
              "      --disabled-fill-color: #AAA;\n",
              "      --disabled-bg-color: #DDD;\n",
              "  }\n",
              "\n",
              "  [theme=dark] .colab-df-quickchart {\n",
              "      --bg-color: #3B4455;\n",
              "      --fill-color: #D2E3FC;\n",
              "      --hover-bg-color: #434B5C;\n",
              "      --hover-fill-color: #FFFFFF;\n",
              "      --disabled-bg-color: #3B4455;\n",
              "      --disabled-fill-color: #666;\n",
              "  }\n",
              "\n",
              "  .colab-df-quickchart {\n",
              "    background-color: var(--bg-color);\n",
              "    border: none;\n",
              "    border-radius: 50%;\n",
              "    cursor: pointer;\n",
              "    display: none;\n",
              "    fill: var(--fill-color);\n",
              "    height: 32px;\n",
              "    padding: 0;\n",
              "    width: 32px;\n",
              "  }\n",
              "\n",
              "  .colab-df-quickchart:hover {\n",
              "    background-color: var(--hover-bg-color);\n",
              "    box-shadow: 0 1px 2px rgba(60, 64, 67, 0.3), 0 1px 3px 1px rgba(60, 64, 67, 0.15);\n",
              "    fill: var(--button-hover-fill-color);\n",
              "  }\n",
              "\n",
              "  .colab-df-quickchart-complete:disabled,\n",
              "  .colab-df-quickchart-complete:disabled:hover {\n",
              "    background-color: var(--disabled-bg-color);\n",
              "    fill: var(--disabled-fill-color);\n",
              "    box-shadow: none;\n",
              "  }\n",
              "\n",
              "  .colab-df-spinner {\n",
              "    border: 2px solid var(--fill-color);\n",
              "    border-color: transparent;\n",
              "    border-bottom-color: var(--fill-color);\n",
              "    animation:\n",
              "      spin 1s steps(1) infinite;\n",
              "  }\n",
              "\n",
              "  @keyframes spin {\n",
              "    0% {\n",
              "      border-color: transparent;\n",
              "      border-bottom-color: var(--fill-color);\n",
              "      border-left-color: var(--fill-color);\n",
              "    }\n",
              "    20% {\n",
              "      border-color: transparent;\n",
              "      border-left-color: var(--fill-color);\n",
              "      border-top-color: var(--fill-color);\n",
              "    }\n",
              "    30% {\n",
              "      border-color: transparent;\n",
              "      border-left-color: var(--fill-color);\n",
              "      border-top-color: var(--fill-color);\n",
              "      border-right-color: var(--fill-color);\n",
              "    }\n",
              "    40% {\n",
              "      border-color: transparent;\n",
              "      border-right-color: var(--fill-color);\n",
              "      border-top-color: var(--fill-color);\n",
              "    }\n",
              "    60% {\n",
              "      border-color: transparent;\n",
              "      border-right-color: var(--fill-color);\n",
              "    }\n",
              "    80% {\n",
              "      border-color: transparent;\n",
              "      border-right-color: var(--fill-color);\n",
              "      border-bottom-color: var(--fill-color);\n",
              "    }\n",
              "    90% {\n",
              "      border-color: transparent;\n",
              "      border-bottom-color: var(--fill-color);\n",
              "    }\n",
              "  }\n",
              "</style>\n",
              "\n",
              "      <script>\n",
              "        async function quickchart(key) {\n",
              "          const quickchartButtonEl =\n",
              "            document.querySelector('#' + key + ' button');\n",
              "          quickchartButtonEl.disabled = true;  // To prevent multiple clicks.\n",
              "          quickchartButtonEl.classList.add('colab-df-spinner');\n",
              "          try {\n",
              "            const charts = await google.colab.kernel.invokeFunction(\n",
              "                'suggestCharts', [key], {});\n",
              "          } catch (error) {\n",
              "            console.error('Error during call to suggestCharts:', error);\n",
              "          }\n",
              "          quickchartButtonEl.classList.remove('colab-df-spinner');\n",
              "          quickchartButtonEl.classList.add('colab-df-quickchart-complete');\n",
              "        }\n",
              "        (() => {\n",
              "          let quickchartButtonEl =\n",
              "            document.querySelector('#df-5068002f-ee37-41e9-bf2c-ccabbeb1bf2e button');\n",
              "          quickchartButtonEl.style.display =\n",
              "            google.colab.kernel.accessAllowed ? 'block' : 'none';\n",
              "        })();\n",
              "      </script>\n",
              "    </div>\n",
              "\n",
              "    </div>\n",
              "  </div>\n"
            ],
            "application/vnd.google.colaboratory.intrinsic+json": {
              "type": "dataframe",
              "variable_name": "output_df",
              "summary": "{\n  \"name\": \"output_df\",\n  \"rows\": 500,\n  \"fields\": [\n    {\n      \"column\": \"title\",\n      \"properties\": {\n        \"dtype\": \"string\",\n        \"num_unique_values\": 500,\n        \"samples\": [\n          \"\\ub300\\ub9cc\\uc5d0 \\ub77c\\uc778\\ubc45\\ud06c\\uac00 \\uc0dd\\uae34\\ub2e4\",\n          \"\\uc7a5\\ubc14\\uad6c\\ub2c8 \\ubb3c\\uac00 \\uc7a1\\uae30 \\ub098\\uc120 \\ub300\\ud615\\ub9c8\\ud2b8\",\n          \"G\\ub9c8\\ucf13\\u00b7\\uc625\\uc158, \\ubc38\\ub7f0\\ud0c0\\uc778\\ub370\\uc774 \\uc120\\ubb3c\\uc804\\u2026\\ucd5c\\ub300 67% \\ud560\\uc778\"\n        ],\n        \"semantic_type\": \"\",\n        \"description\": \"\"\n      }\n    },\n    {\n      \"column\": \"cleanBody\",\n      \"properties\": {\n        \"dtype\": \"string\",\n        \"num_unique_values\": 500,\n        \"samples\": [\n          \"\\ub300\\ub9cc\\uc5d0 \\ub77c\\uc778\\ubc45\\ud06c\\uac00 \\uc124\\ub9bd\\ub41c\\ub2e4.\\n\\ub124\\uc774\\ubc84 \\uc790\\ud68c\\uc0ac \\ub77c\\uc778\\uc740 \\ub300\\ub9cc \\uae08\\uc735\\uac10\\ub3c5\\uc704\\uc6d0\\ud68c\\uac00 '\\ub300\\ub9cc \\ub77c\\uc778\\ubc45\\ud06c \\uc124\\ub9bd\\uc900\\ube44\\uc0ac\\ubb34\\uc18c(LINE Bank Preparatory Office)'\\uc758 \\uc778\\ud130\\ub137 \\uc804\\ubb38\\uc740\\ud589 \\uc124\\ub9bd\\uc744 \\ud5c8\\uac00\\ud588\\ub2e4\\uace0 31\\uc77c \\ubc1d\\ud614\\ub2e4.\\n\\ub77c\\uc778 \\uc778\\ud130\\ub137 \\uc804\\ubb38\\uc740\\ud589(\\ub77c\\uc778\\ubc45\\ud06c) \\uac00\\uc6b4\\ub370 \\uc815\\ubd80\\uc5d0\\uc11c \\uc124\\ub9bd \\ud5c8\\uac00\\uac00 \\ub09c \\uac83\\uc740 \\ub300\\ub9cc\\uc774 \\ucc98\\uc74c\\uc774\\ub2e4.\\n\\ub77c\\uc778\\uc740 \\ub300\\ub9cc\\uc5d0\\uc11c \\uc778\\uacf5\\uc9c0\\ub2a5(AI), \\ube45\\ub370\\uc774\\ud130, \\ud540\\ud14c\\ud06c\\ub97c \\ud65c\\uc6a9\\ud55c \\uc740\\ud589 \\uc11c\\ube44\\uc2a4\\ub97c \\uc81c\\uacf5\\ud560 \\uacc4\\ud68d\\uc774\\ub2e4.\\n\\ub77c\\uc778\\uc740 \\\\\\\"\\uc0ac\\uc6a9\\uc790\\uc758 \\ub2c8\\uc988\\ub97c \\ubc14\\ud0d5\\uc73c\\ub85c \\ub204\\uad6c\\ub098 \\uc27d\\uac8c \\uc0ac\\uc6a9\\ud560 \\uc218 \\uc788\\ub294 \\uc778\\ud130\\ub137 \\uc740\\ud589 \\uc11c\\ube44\\uc2a4\\ub97c \\uc81c\\uacf5\\ud558\\ub294 \\ud55c\\ud3b8, \\ud3ec\\uc6a9\\uc801\\uc778 \\uae08\\uc735\\uc744 \\uc120\\ubcf4\\uc774\\uba70 \\ub300\\ub9cc \\uc2dc\\uc7a5\\uc5d0 \\uc548\\ucc29\\uace0\\uc790 \\ud55c\\ub2e4\\\\\\\"\\uace0 \\ubc1d\\ud614\\ub2e4.\\n\\ub77c\\uc778\\uc740 \\\\\\\"\\ub300\\ub9cc \\uc778\\ud130\\ub137 \\uc804\\ubb38\\uc740\\ud589 \\uc124\\ub9bd \\ud5c8\\uac00 \\ud68d\\ub4dd\\uc740 \\ub77c\\uc778\\uc758 \\ud540\\ud14c\\ud06c \\uc0ac\\uc5c5\\uc5d0 \\uc788\\uc5b4 \\uc8fc\\uc694\\ud55c \\uc131\\uacfc \\uc911 \\ud558\\ub098\\ub2e4\\\\\\\"\\ub77c\\uace0 \\uac15\\uc870\\ud588\\ub2e4.\\n\\ud604\\uc7ac \\ub300\\ub9cc\\uc5d0\\ub294 \\ub77c\\uc778 \\uc774\\uc6a9\\uc790 2100\\ub9cc \\uba85\\uc774 \\uc788\\uc5b4 \\ub77c\\uc778\\ubc45\\ud06c \\uc548\\ucc29\\uc5d0 \\ud070 \\uc5b4\\ub824\\uc6c0\\uc740 \\uc5c6\\uc744 \\uac83\\uc73c\\ub85c \\ubcf4\\uc778\\ub2e4.\\n\\ub300\\ub9cc \\ub77c\\uc778\\ubc45\\ud06c \\uc124\\ub9bd\\uc900\\ube44\\uc0ac\\ubb34\\uc18c\\ub294 \\uba54\\uc2dc\\uc9d5\\uacfc \\uae08\\uc735, \\ud1b5\\uc2e0 \\uc0b0\\uc5c5\\uc758 \\uc120\\ub450\\uc8fc\\uc790 \\uac04 \\ud30c\\ud2b8\\ub108\\uc2ed\\uc744 \\ud1b5\\ud574 \\ub300\\ub9cc\\uc744 \\uc704\\ud55c \\uc778\\ud130\\ub137 \\uc804\\ubb38\\uc740\\ud589 \\uc11c\\ube44\\uc2a4\\ub97c \\uac1c\\ubc1c\\ud560 \\uc608\\uc815\\uc774\\ub2e4.\\n\\ub77c\\uc778 \\uad00\\uacc4\\uc790\\ub294 1\\uc77c \\ubbf8\\ub514\\uc5b4SR\\uc5d0 \\\\\\\"\\uad6c\\uccb4\\uc801\\uc778 \\uc11c\\ube44\\uc2a4\\uc640 \\ucd9c\\uc2dc \\uc2dc\\uc810\\uc740 \\uc815\\ud574\\uc9c0\\uc9c0 \\uc54a\\uc558\\ub2e4. \\uc778\\ub825 \\uad6c\\uc131 \\ub4f1\\uc774 \\ud544\\uc694\\ud574 \\ucd9c\\uc2dc\\uae4c\\uc9c0 \\uc5b4\\ub290 \\uc815\\ub3c4 \\uc2dc\\uac04\\uc774 \\uac78\\ub9b4 \\uac83\\uc73c\\ub85c \\ubcf8\\ub2e4\\\\\\\"\\uace0 \\ub9d0\\ud588\\ub2e4.\\n\\ub300\\ub9cc \\ub77c\\uc778\\ubc45\\ud06c \\uc124\\ub9bd\\uc900\\ube44\\uc0ac\\ubb34\\uc18c \\ucee8\\uc18c\\uc2dc\\uc5c4\\uc758 \\uc9c0\\ubd84\\uc740 \\ub77c\\uc778\\ud30c\\uc774\\ub0b8\\uc15c \\ud0c0\\uc774\\uc644\\uc774 49.9%\\ub97c, \\ud0c0\\uc774\\ubca0\\uc774 \\ud478\\ubcf8\\uc740\\ud589(Taipei Fubon Bank)\\uc774 25.1%\\ub97c \\ubcf4\\uc720\\ud558\\uace0 \\uc788\\ub2e4.\\n\\uc774\\uc678 CTBC\\uc740\\ud589(CTBC Bank), \\uc2a4\\ud0e0\\ub2e4\\ub4dc\\ucc28\\ud0c0\\ub4dc\\uc740\\ud589(Standard Chartered Bank), \\ud0c0\\uc774\\uc644 \\uc720\\ub2c8\\uc628\\uc740\\ud589(Union Bank of Taiwan), \\ud30c\\uc774\\uc2a4\\ud1a4(FarEasTone), \\ud0c0\\uc774\\uc644 \\ubaa8\\ubc14\\uc77c(Taiwan Mobile)\\uc774 \\uac01\\uac01 5%\\uc758 \\uc9c0\\ubd84\\uc744 \\uac00\\uc9c0\\uace0 \\uc788\\ub2e4.\\n\\ud55c\\ud3b8, \\ub77c\\uc778\\ubc45\\ud06c\\ub294 \\ub77c\\uc778\\uc758 \\uc0c8\\ub85c\\uc6b4 \\ube44\\uc804 '\\ub77c\\uc774\\ud504 \\uc628 \\ub77c\\uc778(Life on LINE)'\\uc758 \\uc2e4\\ud604 \\ubc29\\uc548 \\uc911 \\ud558\\ub098\\ub2e4.\\n\\ub77c\\uc778\\uc740 \\uc9c0\\ub09c 6\\uc6d4 \\uc0ac\\uc6a9\\uc790\\uc5d0 \\ud601\\uc2e0\\uc801 \\uc11c\\ube44\\uc2a4\\ub97c \\uc81c\\uacf5\\ud568\\uc73c\\ub85c\\uc368 \\ub77c\\uc774\\ud504\\uc2a4\\ud0c0\\uc77c \\ud601\\uc2e0\\uc744 \\uc774\\ub04c\\uc5b4\\ub098\\uac00\\uaca0\\ub2e4\\ub294 \\ube44\\uc804\\uc744 \\ubc1d\\ud78c \\ubc14 \\uc788\\ub2e4.\\n\\ud0dc\\uad6d\\uc5d0\\uc11c\\ub294 \\uce74\\uc2dc\\ucf58\\uc740\\ud589(KASIKORNBANK; Kbank)\\uacfc '\\uce74\\uc2dc\\ucf58 \\ub77c\\uc778(KASIKORN LINE)'\\uc744 \\ud569\\uc791 \\uc124\\ub9bd\\ud558\\uace0, \\uc778\\ub3c4\\ub124\\uc2dc\\uc544\\uc5d0\\uc11c\\ub294 KEB\\ud558\\ub098\\uc740\\ud589 \\uc778\\ub3c4\\ub124\\uc2dc\\uc544(PT Bank KEB Hana Indonesia)\\uc640 \\ud568\\uaed8 \\ub514\\uc9c0\\ud138 \\ubc45\\ud06c\\uc0ac\\uc5c5\\uc744 \\uc900\\ube44\\ud558\\uace0 \\uc788\\ub2e4.\\n\\uc77c\\ubcf8\\uc5d0\\uc11c\\ub294 2020\\ub144\\uae4c\\uc9c0 '\\uc2a4\\ub9c8\\ud2b8\\ud3f0 \\uc740\\ud589'\\uc744 \\uc120\\ubcf4\\uc774\\ub294 \\uac83\\uc744 \\ubaa9\\ud45c\\ub85c \\uc9c0\\ub09c 5\\uc6d4 \\ub77c\\uc778\\ubc45\\ud06c \\uc124\\ub9bd\\uc900\\ube44 \\uc8fc\\uc2dd\\ud68c\\uc0ac\\ub97c \\uc138\\uc6e0\\ub2e4.\",\n          \"\\ub300\\ud615\\ub9c8\\ud2b8\\uac00 \\uc7a5\\ubc14\\uad6c\\ub2c8 \\ubb3c\\uac00 \\uc7a1\\uae30\\uc5d0 \\ud314\\uc744 \\uac77\\uc5b4\\ubd99\\uc600\\ub2e4.\\n\\uc0ac\\uc804 \\ube44\\ucd95 \\ubb3c\\ub7c9\\uc744 \\ud480\\uace0, \\ub9c8\\uc9c4\\uc744 \\uc904\\uc5ec \\ubb3c\\ub7c9\\uc744 \\uc870\\ub2ec\\u00b7\\ud310\\ub9e4\\ud558\\ub294 \\uc2dd\\uc774\\ub2e4.\\n24\\uc77c \\uc5c5\\uacc4\\uc5d0 \\ub530\\ub974\\uba74 \\uc774\\ub9c8\\ud2b8\\ub294 26\\uc77c\\uae4c\\uc9c0 \\uc2e0\\uc120, \\uac00\\uacf5, \\uc0dd\\ud65c\\uc6a9\\ud488\\uc744 \\ucd5c\\ub300 50% \\ud560\\uc778 \\ud310\\ub9e4\\ud558\\ub294 \\u2018e\\ub0a0 \\ud2b9\\uac00\\u2019 \\ud589\\uc0ac\\ub97c \\uc9c4\\ud589\\ud55c\\ub2e4.\\n\\ub300\\ud45c \\uc0c1\\ud488\\uc73c\\ub85c \\ud488\\uc9c8 \\uc120\\ubcc4\\uc744 \\uc9c4\\ud589\\ud55c \\ubc24\\uace0\\uad6c\\ub9c8(2\\u338f)\\ub97c \\uc2e0\\uc138\\uacc4 \\ud3ec\\uc778\\ud2b8 \\uc801\\ub9bd \\uc2dc 4000\\uc6d0 \\ud560\\uc778\\ud55c \\uac00\\uaca9\\uc5d0 \\ud310\\ub9e4\\ud55c\\ub2e4.\\n\\ub0c9\\ub3d9 \\ud56b\\ub3c4\\uadf8, \\ub0c9\\ub3d9 \\uce58\\uc988\\uc2a4\\ud2f1\\u00b7\\uce58\\uc988\\ubcfc, \\ubd84\\ub9d0 \\uce74\\ub808\\uc640 \\uc9dc\\uc7a5 \\ub4f1 \\uc0dd\\ud544\\ud488\\ub3c4 \\uc6d0 \\ud50c\\ub7ec\\uc2a4 \\uc6d0(1+1)\\uc73c\\ub85c \\uad6c\\ub9e4\\ud560 \\uc218 \\uc788\\ub2e4.\\n\\ub3c4\\ub8e8\\ucf54 \\uba74\\ub3c4\\uae30, \\ud5e4\\uc5b4\\uc2a4\\ud0c0\\uc77c\\ub9c1 \\uc6a9\\ud488, \\uce58\\uc57d, \\uce6b\\uc194 \\ub4f1\\ub3c4 2\\uac1c \\uc774\\uc0c1 \\uad6c\\ub9e4 \\uc2dc 50% \\ud560\\uc778\\ud574 \\uc900\\ub2e4.\\n\\ub86f\\ub370\\ub9c8\\ud2b8\\ub294 \\uc624\\ub294 28\\uc77c\\ubd80\\ud130 \\ub2e4\\uc74c \\ub2ec 6\\uc77c\\uae4c\\uc9c0 \\uc0bc\\uacb9\\uc0b4\\u00b7\\ubaa9\\uc2ec(\\uac01 100g\\u00b7\\ub0c9\\uc7a5)\\uc744 \\ucd5c\\ub300 40% \\uc800\\ub834\\ud558\\uac8c \\uc81c\\uacf5\\ud55c\\ub2e4.\\n\\ub86f\\ub370\\ub9c8\\ud2b8\\ub294 \\uc804\\ub144 \\ub300\\ube44 \\ud589\\uc0ac \\ubb3c\\ub7c9\\uc744 30% \\uc774\\uc0c1 \\ub298\\ub838\\uace0, \\uad6d\\ub0b4 \\uacf5\\ud310\\uc7a5 \\ubc0f \\ud574\\uc678 \\uc9c1\\uc18c\\uc2f1\\uc744 \\ud1b5\\ud574 \\ud655\\ubcf4\\ud55c \\uc6d0\\ubb3c\\uc744 \\ub86f\\ub370 \\uc790\\uccb4 \\u2018\\uc2e0\\uc120\\ud488\\uc9c8\\ud601\\uc2e0\\uc13c\\ud130\\u2019\\uc5d0\\uc11c \\uac00\\uacf5\\ud574 \\uc720\\ud1b5\\ub2e8\\uacc4\\ub97c \\uc904\\uc600\\ub2e4.\\n\\uce90\\ub098\\ub2e4\\uc0b0 \\uc0bc\\uacb9\\uc0b4\\u00b7\\ubaa9\\uc2ec\\uc740 30% \\ud560\\uc778\\ub41c \\uac00\\uaca9\\uc5d0 \\uc120\\ubcf4\\uc778\\ub2e4.\\n\\ub18d\\ud611\\uc720\\ud1b5\\ub3c4 26\\uc77c\\uae4c\\uc9c0 \\ud558\\ub098\\ub85c\\ub9c8\\ud2b8 \\uc591\\uc7ac\\uc810\\uc5d0\\uc11c 1\\ub4f1\\uae09 \\ud55c\\uc6b0\\ub97c \\ubd80\\uc704\\ubcc4\\ub85c \\ucd5c\\ub300 41%\\uae4c\\uc9c0 \\ud560\\uc778\\ud558\\ub294 \\ud589\\uc0ac\\ub97c \\uc9c4\\ud589\\ud55c\\ub2e4.\\n\\uc774\\ubc88 \\u2018\\uc18c \\ud55c\\ub9c8\\ub9ac \\ud30c\\uaca9 \\ud560\\uc778 \\ud589\\uc0ac\\u2019\\uc5d0\\uc11c\\ub294 \\uc548\\uc2ec(100g) 1\\ub9cc1480\\uc6d0, \\ucc44\\ub05d 1\\ub9cc1480\\uc6d0, \\ub4f1\\uc2ec(100g) 6980\\uc6d0, \\ubd88\\uace0\\uae30(100g) 3180\\uc6d0, \\uad6d\\uac70\\ub9ac(100g) 3180\\uc6d0 \\ub4f1\\uc5d0 \\ub9cc\\ub098\\ubcfc \\uc218 \\uc788\\ub2e4.\\n\\ub18d\\ud611\\uc720\\ud1b5\\uc740 \\uc774\\ubc88 \\ud589\\uc0ac\\ub97c \\uc2dc\\uc791\\uc73c\\ub85c \\ub9e4\\uc6d4 \\ub137\\uc9f8 \\uc8fc \\ud654\\uc694\\uc77c\\ubd80\\ud130 \\ubaa9\\uc694\\uc77c\\uae4c\\uc9c0 \\uc815\\uae30\\uc801\\uc73c\\ub85c \\uc2e4\\uc2dc\\ud560 \\uc608\\uc815\\uc774\\ub2e4.\",\n          \"G\\ub9c8\\ucf13\\uacfc \\uc625\\uc158\\uc740 \\uc624\\ub294 13\\uc77c\\uae4c\\uc9c0 \\u2018\\ubc38\\ub7f0\\ud0c0\\uc778\\ub370\\uc774 \\uc120\\ubb3c\\uc804\\u2019\\uc744 \\uc5f4\\uace0, \\uae30\\ub150\\uc77c\\uc5d0 \\uc120\\ubb3c\\ud558\\uae30 \\uc88b\\uc740 \\uc81c\\ud488\\uc744 \\ucd5c\\ub300 67% \\ud560\\uc778\\uac00\\uc5d0 \\uc120\\ubcf4\\uc778\\ub2e4\\uace0 7\\uc77c \\ubc1d\\ud614\\ub2e4.\\n\\uc774\\ubc88 \\ud589\\uc0ac\\uc5d0\\uc11c\\ub294 \\uc0c1\\ud488\\uae30\\ud68d\\uc790(MD)\\uac00 \\uc9c1\\uc811 \\uc120\\uc815\\ud55c \\u25b2\\ub2e5\\uc2a4 \\u25b2\\ud5e4\\uc9c0\\uc2a4 \\u25b2\\uc5d0\\uc2a4\\ucf70\\uc774\\uc5b4 \\u25b2\\ube48\\ud3f4 \\u25b2\\uce98\\ube48\\ud074\\ub77c\\uc778 \\u25b2\\ud504\\ub808\\ub4dc\\ud398\\ub9ac \\u25b2\\uae08\\uac15\\uc81c\\ud654 \\ub4f1 \\uc778\\uae30 \\ube0c\\ub79c\\ub4dc\\uc758 \\uc0c1\\ud488\\uc744 \\ub9cc\\ub098\\ubcfc \\uc218 \\uc788\\ub2e4.\\n\\ub610\\ud55c \\ub0a8\\uc131 \\uc758\\ub958, \\uc7a1\\ud654\\ubd80\\ud130 \\uc561\\uc138\\uc11c\\ub9ac\\uc640 \\uc5b8\\ub354\\uc6e8\\uc5b4\\uae4c\\uc9c0 \\ub2e4\\uc591\\ud55c \\uc81c\\ud488\\uc744 \\ud2b9\\uac00\\uc5d0 \\ud310\\ub9e4\\ud55c\\ub2e4.\\n\\uac00\\uc785 \\uace0\\uac1d \\ub204\\uad6c\\uc5d0\\uac8c\\ub098 \\ucd5c\\ub300 20\\ub9cc\\uc6d0\\uae4c\\uc9c0 \\ud560\\uc778 \\ubc1b\\uc744 \\uc218 \\uc788\\ub294 \\u201815% \\ud560\\uc778\\ucfe0\\ud3f0\\u2019\\uc744 \\ub9e4\\uc77c 10\\ud68c \\uc81c\\uacf5\\ud55c\\ub2e4.\\n\\ud504\\ub9ac\\ubbf8\\uc5c4 \\uba64\\ubc84\\uc2ed\\uc778 \\uc2a4\\ub9c8\\uc77c\\ud074\\ub7fd \\ud68c\\uc6d0\\uc5d0\\uac8c\\ub294 \\u201820% \\ud560\\uc778\\ucfe0\\ud3f0\\u2019\\uc744 \\ub9e4\\uc77c 10\\ud68c \\ucd94\\uac00 \\uc81c\\uacf5\\ud55c\\ub2e4.\\n\\ud2b9\\uc815 \\ube0c\\ub79c\\ub4dc \\uc81c\\ud488\\uc5d0 \\ud568\\uaed8 \\uc801\\uc6a9\\ud574 \\uc911\\ubcf5 \\ud560\\uc778 \\ud61c\\ud0dd\\uc744 \\ubc1b\\uc744 \\uc218 \\uc788\\ub294 \\u2018\\ucd5c\\ub300 15% \\ud560\\uc778\\ucfe0\\ud3f0\\u2019\\ub3c4 \\ub204\\uad6c\\ub098 \\ubc1c\\uae09 \\ubc1b\\uc744 \\uc218 \\uc788\\ub2e4.\\nG\\ub9c8\\ucf13 \\uad00\\uacc4\\uc790\\ub294 \\u201c\\ub2e4\\uac00\\uc624\\ub294 \\ubc38\\ub7f0\\ud0c0\\uc778\\ub370\\uc774\\uc5d0 \\ub298\\uc5b4\\ub098\\ub294 \\uc120\\ubb3c \\uc218\\uc694\\ub97c \\uaca8\\ub0e5\\ud574 \\uc120\\ubb3c\\ud558\\uae30 \\uc88b\\uc740 \\uc81c\\ud488\\ub4e4\\uc744 \\ubaa8\\uc544 \\uae30\\ud68d\\uc804\\uc744 \\uc5f4\\uac8c \\ub410\\ub2e4\\u201d\\uba70 \\u201c\\ub192\\uc740 \\uae30\\ubcf8 \\ud560\\uc778\\uc728\\uc5d0 \\ub354\\ud574 \\ubc1c\\uae09 \\ubc1b\\uc744 \\uc218 \\uc788\\ub294 \\ucd94\\uac00 \\ud560\\uc778\\ucfe0\\ud3f0\\uc744 \\uc0ac\\uc6a9\\ud574 \\ud569\\ub9ac\\uc801\\uc778 \\uac00\\uaca9\\uc5d0 \\uc120\\ubb3c\\uc744 \\uc900\\ube44\\ud560 \\uc218 \\uc788\\ub294 \\uc88b\\uc740 \\uae30\\ud68c\\u201d\\ub77c\\uace0 \\ub9d0\\ud588\\ub2e4.\"\n        ],\n        \"semantic_type\": \"\",\n        \"description\": \"\"\n      }\n    },\n    {\n      \"column\": \"clickbaitClass\",\n      \"properties\": {\n        \"dtype\": \"number\",\n        \"std\": 0,\n        \"min\": 1,\n        \"max\": 1,\n        \"num_unique_values\": 1,\n        \"samples\": [\n          1\n        ],\n        \"semantic_type\": \"\",\n        \"description\": \"\"\n      }\n    }\n  ]\n}"
            }
          },
          "metadata": {},
          "execution_count": 19
        }
      ]
    },
    {
      "cell_type": "code",
      "source": [],
      "metadata": {
        "id": "XX9Zofu47p-c"
      },
      "execution_count": null,
      "outputs": []
    }
  ]
}